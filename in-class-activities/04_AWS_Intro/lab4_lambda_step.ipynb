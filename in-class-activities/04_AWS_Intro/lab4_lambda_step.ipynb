{
 "cells": [
  {
   "cell_type": "code",
   "execution_count": 11,
   "metadata": {},
   "outputs": [],
   "source": [
    "import boto3\n",
    "import json"
   ]
  },
  {
   "cell_type": "markdown",
   "metadata": {},
   "source": [
    "### `Lambda`"
   ]
  },
  {
   "cell_type": "code",
   "execution_count": 12,
   "metadata": {},
   "outputs": [],
   "source": [
    "aws_lambda = boto3.client('lambda')\n",
    "iam_client = boto3.client('iam')\n",
    "role = iam_client.get_role(RoleName='LabRole')\n",
    "\n",
    "# TODO: open the zip file containing your Lambda function\n",
    "with open('pi_sim.zip', 'rb') as f:\n",
    "    lambda_zip = f.read()"
   ]
  },
  {
   "cell_type": "code",
   "execution_count": 13,
   "metadata": {},
   "outputs": [
    {
     "data": {
      "text/plain": [
       "'arn:aws:lambda:us-east-1:654654411374:function:pi_sim'"
      ]
     },
     "execution_count": 13,
     "metadata": {},
     "output_type": "execute_result"
    }
   ],
   "source": [
    "try:\n",
    "    # If function hasn't yet been created, create it\n",
    "    # TODO: replace the placeholders with your function specifics\n",
    "    response = aws_lambda.create_function(\n",
    "        FunctionName='pi_sim',\n",
    "        Runtime='python3.11',\n",
    "        Role=role['Role']['Arn'],\n",
    "        Handler='lambda_funtion.lambda_handler',\n",
    "        Code=dict(ZipFile=lambda_zip),\n",
    "        Timeout=300\n",
    "    )\n",
    "except aws_lambda.exceptions.ResourceConflictException:\n",
    "    # If function already exists, update it based on zip\n",
    "    # file contents\n",
    "    response = aws_lambda.update_function_code(\n",
    "        FunctionName='pi_sim',\n",
    "        ZipFile=lambda_zip\n",
    "        )\n",
    "\n",
    "lambda_arn = response['FunctionArn']\n",
    "lambda_arn"
   ]
  },
  {
   "cell_type": "code",
   "execution_count": 14,
   "metadata": {},
   "outputs": [
    {
     "data": {
      "text/plain": [
       "{'statusCode': 200, 'body': {'pi_estimate': 3.22, 'num_points': 200}}"
      ]
     },
     "execution_count": 14,
     "metadata": {},
     "output_type": "execute_result"
    }
   ],
   "source": [
    "# can invoke once serially, or invoke in parallel via Step functions (below)\n",
    "r = aws_lambda.invoke(FunctionName='pi_sim',\n",
    "                      InvocationType='RequestResponse',\n",
    "                      Payload=json.dumps({'num_points': 200})\n",
    "                      )\n",
    "json.loads(r['Payload'].read())"
   ]
  },
  {
   "cell_type": "markdown",
   "metadata": {},
   "source": [
    "### `Step` Functions"
   ]
  },
  {
   "cell_type": "code",
   "execution_count": 15,
   "metadata": {},
   "outputs": [],
   "source": [
    "sfn = boto3.client('stepfunctions')\n",
    "\n",
    "def make_def(lambda_arn):\n",
    "    definition = {\n",
    "      \"Comment\": \"My State Machine\",\n",
    "      \"StartAt\": \"Map\",\n",
    "      \"States\": {\n",
    "        \"Map\": {\n",
    "          \"Type\": \"Map\",\n",
    "          \"End\": True,\n",
    "          \"Iterator\": {\n",
    "            \"StartAt\": \"Lambda Invoke\",\n",
    "            \"States\": {\n",
    "              \"Lambda Invoke\": {\n",
    "                \"Type\": \"Task\",\n",
    "                \"Resource\": \"arn:aws:states:::lambda:invoke\",\n",
    "                \"OutputPath\": \"$.Payload\",\n",
    "                \"Parameters\": {\n",
    "                  \"Payload.$\": \"$\",\n",
    "                  \"FunctionName\": lambda_arn\n",
    "                },\n",
    "                \"Retry\": [\n",
    "                  {\n",
    "                    \"ErrorEquals\": [\n",
    "                      \"Lambda.ServiceException\",\n",
    "                      \"Lambda.AWSLambdaException\",\n",
    "                      \"Lambda.SdkClientException\",\n",
    "                      \"Lambda.TooManyRequestsException\",\n",
    "                      \"States.TaskFailed\"\n",
    "                    ],\n",
    "                    \"IntervalSeconds\": 2,\n",
    "                    \"MaxAttempts\": 6,\n",
    "                    \"BackoffRate\": 2\n",
    "                  }\n",
    "                ],\n",
    "                \"End\": True\n",
    "              }\n",
    "            }\n",
    "          }\n",
    "        }\n",
    "      }\n",
    "    }\n",
    "    return definition"
   ]
  },
  {
   "cell_type": "code",
   "execution_count": 16,
   "metadata": {},
   "outputs": [],
   "source": [
    "sf_def = make_def(lambda_arn)\n",
    "\n",
    "try:\n",
    "    response = sfn.create_state_machine(\n",
    "        name='monte_carlo_sm',\n",
    "        definition=json.dumps(sf_def),\n",
    "        roleArn=role['Role']['Arn'],\n",
    "        type='EXPRESS'\n",
    "    )\n",
    "except sfn.exceptions.StateMachineAlreadyExists:\n",
    "    response = sfn.list_state_machines()\n",
    "    state_machine_arn = [sm['stateMachineArn'] \n",
    "                         for sm in response['stateMachines'] \n",
    "                         if sm['name'] == 'monte_carlo_sm'][0]\n",
    "    response = sfn.update_state_machine(\n",
    "        stateMachineArn=state_machine_arn,\n",
    "        definition=json.dumps(sf_def),\n",
    "        roleArn=role['Role']['Arn']\n",
    "    )"
   ]
  },
  {
   "cell_type": "code",
   "execution_count": 17,
   "metadata": {},
   "outputs": [
    {
     "data": {
      "text/plain": [
       "{'stateMachines': [{'stateMachineArn': 'arn:aws:states:us-east-1:654654411374:stateMachine:hello_world_sm',\n",
       "   'name': 'hello_world_sm',\n",
       "   'type': 'EXPRESS',\n",
       "   'creationDate': datetime.datetime(2025, 4, 23, 14, 53, 26, 623000, tzinfo=tzlocal())},\n",
       "  {'stateMachineArn': 'arn:aws:states:us-east-1:654654411374:stateMachine:monte_carlo_sm',\n",
       "   'name': 'monte_carlo_sm',\n",
       "   'type': 'EXPRESS',\n",
       "   'creationDate': datetime.datetime(2025, 4, 23, 17, 17, 22, 99000, tzinfo=tzlocal())},\n",
       "  {'stateMachineArn': 'arn:aws:states:us-east-1:654654411374:stateMachine:word_count_sm',\n",
       "   'name': 'word_count_sm',\n",
       "   'type': 'EXPRESS',\n",
       "   'creationDate': datetime.datetime(2025, 4, 18, 14, 25, 48, 340000, tzinfo=tzlocal())}],\n",
       " 'ResponseMetadata': {'RequestId': '815f3133-0c11-42f3-89a6-08264d52f46b',\n",
       "  'HTTPStatusCode': 200,\n",
       "  'HTTPHeaders': {'x-amzn-requestid': '815f3133-0c11-42f3-89a6-08264d52f46b',\n",
       "   'date': 'Wed, 23 Apr 2025 22:17:36 GMT',\n",
       "   'content-type': 'application/x-amz-json-1.0',\n",
       "   'content-length': '499',\n",
       "   'connection': 'keep-alive'},\n",
       "  'RetryAttempts': 0}}"
      ]
     },
     "execution_count": 17,
     "metadata": {},
     "output_type": "execute_result"
    }
   ],
   "source": [
    "response = sfn.list_state_machines()\n",
    "response"
   ]
  },
  {
   "cell_type": "code",
   "execution_count": 26,
   "metadata": {},
   "outputs": [
    {
     "data": {
      "text/plain": [
       "[{'num_points': 20000},\n",
       " {'num_points': 20000},\n",
       " {'num_points': 20000},\n",
       " {'num_points': 20000},\n",
       " {'num_points': 20000},\n",
       " {'num_points': 20000},\n",
       " {'num_points': 20000},\n",
       " {'num_points': 20000}]"
      ]
     },
     "execution_count": 26,
     "metadata": {},
     "output_type": "execute_result"
    }
   ],
   "source": [
    "state_machine_arn = [sm['stateMachineArn'] \n",
    "                     for sm in response['stateMachines'] \n",
    "                     if sm['name'] == 'monte_carlo_sm'][0]\n",
    "\n",
    "# Do not invoke more than 10 workers at a time or you risk your AWS Academy account being deactivated\n",
    "# here, we (conservatively) only concurrently invoke lambda function 5 times\n",
    "data = [{\"num_points\": 20000} for i in range(8)]\n",
    "data # note 5 distinct tasks (mapping onto 5 distinct Lambda invocations)"
   ]
  },
  {
   "cell_type": "code",
   "execution_count": 27,
   "metadata": {},
   "outputs": [
    {
     "name": "stdout",
     "output_type": "stream",
     "text": [
      "[{\"statusCode\":200,\"body\":{\"pi_estimate\":3.1378,\"num_points\":20000}},{\"statusCode\":200,\"body\":{\"pi_estimate\":3.1418,\"num_points\":20000}},{\"statusCode\":200,\"body\":{\"pi_estimate\":3.155,\"num_points\":20000}},{\"statusCode\":200,\"body\":{\"pi_estimate\":3.1276,\"num_points\":20000}},{\"statusCode\":200,\"body\":{\"pi_estimate\":3.1424,\"num_points\":20000}},{\"statusCode\":200,\"body\":{\"pi_estimate\":3.1624,\"num_points\":20000}},{\"statusCode\":200,\"body\":{\"pi_estimate\":3.1344,\"num_points\":20000}},{\"statusCode\":200,\"body\":{\"pi_estimate\":3.1526,\"num_points\":20000}}]\n"
     ]
    }
   ],
   "source": [
    "sfn_response = sfn.start_sync_execution(\n",
    "    stateMachineArn=state_machine_arn,\n",
    "    name='sync_test',\n",
    "    input=json.dumps(data)\n",
    ")\n",
    "\n",
    "print(sfn_response['output'])"
   ]
  },
  {
   "cell_type": "code",
   "execution_count": 28,
   "metadata": {},
   "outputs": [
    {
     "name": "stdout",
     "output_type": "stream",
     "text": [
      "3.14425\n"
     ]
    }
   ],
   "source": [
    "pi_sum, counter = 0, 0\n",
    "\n",
    "for thread in json.loads(sfn_response['output']):\n",
    "    pi_sum += thread['body']['pi_estimate']\n",
    "    counter += 1\n",
    "\n",
    "print(pi_sum/counter)"
   ]
  }
 ],
 "metadata": {
  "kernelspec": {
   "display_name": "macs30123",
   "language": "python",
   "name": "python3"
  },
  "language_info": {
   "codemirror_mode": {
    "name": "ipython",
    "version": 3
   },
   "file_extension": ".py",
   "mimetype": "text/x-python",
   "name": "python",
   "nbconvert_exporter": "python",
   "pygments_lexer": "ipython3",
   "version": "3.12.0"
  }
 },
 "nbformat": 4,
 "nbformat_minor": 2
}
