{
 "cells": [
  {
   "cell_type": "code",
   "execution_count": 1,
   "id": "51eb0e3b",
   "metadata": {},
   "outputs": [
    {
     "data": {
      "text/plain": [
       "{'TerminatingInstances': [{'InstanceId': 'i-0a4cc2b6a0ceb18c0',\n",
       "   'CurrentState': {'Code': 32, 'Name': 'shutting-down'},\n",
       "   'PreviousState': {'Code': 0, 'Name': 'pending'}},\n",
       "  {'InstanceId': 'i-0d80bedc8d0d64c2e',\n",
       "   'CurrentState': {'Code': 32, 'Name': 'shutting-down'},\n",
       "   'PreviousState': {'Code': 0, 'Name': 'pending'}}],\n",
       " 'ResponseMetadata': {'RequestId': '619d45fa-a9cd-4704-bed9-e9838393679e',\n",
       "  'HTTPStatusCode': 200,\n",
       "  'HTTPHeaders': {'x-amzn-requestid': '619d45fa-a9cd-4704-bed9-e9838393679e',\n",
       "   'cache-control': 'no-cache, no-store',\n",
       "   'strict-transport-security': 'max-age=31536000; includeSubDomains',\n",
       "   'content-type': 'text/xml;charset=UTF-8',\n",
       "   'content-length': '617',\n",
       "   'date': 'Fri, 18 Apr 2025 19:55:24 GMT',\n",
       "   'server': 'AmazonEC2'},\n",
       "  'RetryAttempts': 0}}"
      ]
     },
     "execution_count": 1,
     "metadata": {},
     "output_type": "execute_result"
    }
   ],
   "source": [
    "import boto3\n",
    "ec2 = boto3.client('ec2')\n",
    "# Get AMI ID from \"Instance Details\" in EC2 Console\n",
    "r = ec2.run_instances(ImageId='ami-02e136e904f3da870',\n",
    "                      KeyName='vockey',\n",
    "                      MaxCount=2,\n",
    "                      MinCount=1)\n",
    "ids = [instance['InstanceId'] for instance in r['Instances']] # find Instance ID\n",
    "ec2.terminate_instances(InstanceIds=ids)"
   ]
  }
 ],
 "metadata": {
  "kernelspec": {
   "display_name": "macs30123",
   "language": "python",
   "name": "python3"
  },
  "language_info": {
   "codemirror_mode": {
    "name": "ipython",
    "version": 3
   },
   "file_extension": ".py",
   "mimetype": "text/x-python",
   "name": "python",
   "nbconvert_exporter": "python",
   "pygments_lexer": "ipython3",
   "version": "3.12.0"
  }
 },
 "nbformat": 4,
 "nbformat_minor": 5
}
