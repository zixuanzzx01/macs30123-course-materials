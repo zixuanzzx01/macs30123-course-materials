{
 "cells": [
  {
   "cell_type": "markdown",
   "id": "2f00d587",
   "metadata": {},
   "source": [
    "## Introduction to Boto3 and AWS Serverless Solutions\n",
    "\n",
    "Let's say that we wanted to detect objects in an image, extract text from images, or perform sentiment analysis on a text. We could write and train our own classifiers, run our classifier on a server (e.g. an EC2 instance) and use this to make predictions. This requires a lot of time and energy in selecting the appropriate hardware, software, techniques, etc. necessary to perform these operations.\n",
    "\n",
    "For this reason, all the major cloud providers offer serverless \"functions as a service\" which are pre-trained/coded models that you simply need to provide data to and you will receive a response. Your cloud provider (e.g. AWS) will spin up the compute instances necessary to actually run the code. \n",
    "\n",
    "You can access all of these through the AWS Console, but it is easier to integrate them into your existing code via the Boto3 SDK."
   ]
  },
  {
   "cell_type": "code",
   "execution_count": 1,
   "id": "ba93331b",
   "metadata": {},
   "outputs": [],
   "source": [
    "import boto3\n",
    "import json\n",
    "import time\n",
    "import requests\n",
    "from concurrent.futures import ThreadPoolExecutor\n",
    "import matplotlib.pyplot as plt"
   ]
  },
  {
   "cell_type": "markdown",
   "id": "2168eac2",
   "metadata": {},
   "source": [
    "For instance, we can interact with AWS' image recognition functions like so:"
   ]
  },
  {
   "cell_type": "code",
   "execution_count": 7,
   "id": "d58af98f",
   "metadata": {},
   "outputs": [],
   "source": [
    "rekog = boto3.client('rekognition')"
   ]
  },
  {
   "cell_type": "code",
   "execution_count": 8,
   "id": "7840ef38",
   "metadata": {},
   "outputs": [
    {
     "data": {
      "text/plain": [
       "[('Architecture', 99.19303131103516),\n",
       " ('Building', 99.19303131103516),\n",
       " ('Campus', 99.19303131103516),\n",
       " ('Person', 97.88841247558594),\n",
       " ('City', 97.48779296875)]"
      ]
     },
     "execution_count": 8,
     "metadata": {},
     "output_type": "execute_result"
    }
   ],
   "source": [
    "# detect the objects in the provided image\n",
    "with open('uchicago.jpg', 'rb') as image:\n",
    "    response = rekog.detect_labels(Image={'Bytes': image.read()})\n",
    "    \n",
    "[(label['Name'], label['Confidence']) for label in response['Labels']][:5]"
   ]
  },
  {
   "cell_type": "code",
   "execution_count": 9,
   "id": "a29fb335",
   "metadata": {},
   "outputs": [
    {
     "name": "stdout",
     "output_type": "stream",
     "text": [
      "{'Labels': [{'Name': 'Architecture', 'Confidence': 99.19303131103516, 'Instances': [], 'Parents': [], 'Aliases': [], 'Categories': [{'Name': 'Buildings and Architecture'}]}, {'Name': 'Building', 'Confidence': 99.19303131103516, 'Instances': [], 'Parents': [{'Name': 'Architecture'}], 'Aliases': [], 'Categories': [{'Name': 'Buildings and Architecture'}]}, {'Name': 'Campus', 'Confidence': 99.19303131103516, 'Instances': [], 'Parents': [{'Name': 'Architecture'}, {'Name': 'Building'}], 'Aliases': [], 'Categories': [{'Name': 'Buildings and Architecture'}]}, {'Name': 'Person', 'Confidence': 97.88841247558594, 'Instances': [{'BoundingBox': {'Width': 0.06593916565179825, 'Height': 0.2719631493091583, 'Left': 0.9137342572212219, 'Top': 0.726934015750885}, 'Confidence': 97.88841247558594}, {'BoundingBox': {'Width': 0.04518787935376167, 'Height': 0.18150395154953003, 'Left': 0.4945463240146637, 'Top': 0.75595623254776}, 'Confidence': 96.16867065429688}, {'BoundingBox': {'Width': 0.0400175042450428, 'Height': 0.15898577868938446, 'Left': 0.688398003578186, 'Top': 0.7491328716278076}, 'Confidence': 96.07431030273438}, {'BoundingBox': {'Width': 0.020027607679367065, 'Height': 0.10532687604427338, 'Left': 0.5502710342407227, 'Top': 0.7629575729370117}, 'Confidence': 94.95954895019531}, {'BoundingBox': {'Width': 0.04159530624747276, 'Height': 0.17798246443271637, 'Left': 0.7907789349555969, 'Top': 0.7707408666610718}, 'Confidence': 94.79270935058594}, {'BoundingBox': {'Width': 0.025853095576167107, 'Height': 0.13034582138061523, 'Left': 0.6618676781654358, 'Top': 0.7718484997749329}, 'Confidence': 92.27214050292969}, {'BoundingBox': {'Width': 0.019307181239128113, 'Height': 0.06645861268043518, 'Left': 0.46367329359054565, 'Top': 0.7669177055358887}, 'Confidence': 92.12905883789062}, {'BoundingBox': {'Width': 0.017377255484461784, 'Height': 0.06169629469513893, 'Left': 0.4896981418132782, 'Top': 0.7675331830978394}, 'Confidence': 82.62150573730469}, {'BoundingBox': {'Width': 0.02340604178607464, 'Height': 0.13844358921051025, 'Left': 0.5234209299087524, 'Top': 0.7640087604522705}, 'Confidence': 80.1895523071289}, {'BoundingBox': {'Width': 0.011833258904516697, 'Height': 0.044582054018974304, 'Left': 0.342999666929245, 'Top': 0.7599084377288818}, 'Confidence': 74.4841537475586}, {'BoundingBox': {'Width': 0.011331373825669289, 'Height': 0.04184725135564804, 'Left': 0.3654922544956207, 'Top': 0.7646705508232117}, 'Confidence': 72.21221923828125}, {'BoundingBox': {'Width': 0.010293594561517239, 'Height': 0.04053346440196037, 'Left': 0.37657561898231506, 'Top': 0.7643243670463562}, 'Confidence': 70.69441986083984}, {'BoundingBox': {'Width': 0.010425928048789501, 'Height': 0.03962373733520508, 'Left': 0.38462769985198975, 'Top': 0.765175998210907}, 'Confidence': 69.96400451660156}, {'BoundingBox': {'Width': 0.011801709420979023, 'Height': 0.043161410838365555, 'Left': 0.3544900119304657, 'Top': 0.7631092667579651}, 'Confidence': 62.8807258605957}, {'BoundingBox': {'Width': 0.015366769395768642, 'Height': 0.058037105947732925, 'Left': 0.13972961902618408, 'Top': 0.761870801448822}, 'Confidence': 57.29669952392578}], 'Parents': [], 'Aliases': [{'Name': 'Human'}], 'Categories': [{'Name': 'Person Description'}]}, {'Name': 'City', 'Confidence': 97.48779296875, 'Instances': [], 'Parents': [], 'Aliases': [{'Name': 'Town'}], 'Categories': [{'Name': 'Buildings and Architecture'}]}, {'Name': 'Grass', 'Confidence': 96.18750762939453, 'Instances': [], 'Parents': [{'Name': 'Plant'}], 'Aliases': [], 'Categories': [{'Name': 'Plants and Flowers'}]}, {'Name': 'Nature', 'Confidence': 96.18750762939453, 'Instances': [], 'Parents': [{'Name': 'Outdoors'}], 'Aliases': [], 'Categories': [{'Name': 'Nature and Outdoors'}]}, {'Name': 'Outdoors', 'Confidence': 96.18750762939453, 'Instances': [], 'Parents': [], 'Aliases': [], 'Categories': [{'Name': 'Nature and Outdoors'}]}, {'Name': 'Park', 'Confidence': 96.18750762939453, 'Instances': [], 'Parents': [{'Name': 'Grass'}, {'Name': 'Nature'}, {'Name': 'Outdoors'}, {'Name': 'Plant'}], 'Aliases': [], 'Categories': [{'Name': 'Buildings and Architecture'}]}, {'Name': 'Plant', 'Confidence': 96.18750762939453, 'Instances': [], 'Parents': [], 'Aliases': [], 'Categories': [{'Name': 'Plants and Flowers'}]}, {'Name': 'Road', 'Confidence': 94.77800750732422, 'Instances': [], 'Parents': [], 'Aliases': [], 'Categories': [{'Name': 'Transport and Logistics'}]}, {'Name': 'Street', 'Confidence': 94.77800750732422, 'Instances': [], 'Parents': [{'Name': 'City'}, {'Name': 'Road'}, {'Name': 'Urban'}], 'Aliases': [], 'Categories': [{'Name': 'Buildings and Architecture'}]}, {'Name': 'Urban', 'Confidence': 94.77800750732422, 'Instances': [], 'Parents': [], 'Aliases': [], 'Categories': [{'Name': 'Colors and Visual Composition'}]}, {'Name': 'Autumn', 'Confidence': 86.07342529296875, 'Instances': [], 'Parents': [], 'Aliases': [{'Name': 'Fall Season'}], 'Categories': [{'Name': 'Nature and Outdoors'}]}, {'Name': 'Clothing', 'Confidence': 84.33106994628906, 'Instances': [], 'Parents': [], 'Aliases': [{'Name': 'Apparel'}], 'Categories': [{'Name': 'Apparel and Accessories'}]}, {'Name': 'Jeans', 'Confidence': 84.33106994628906, 'Instances': [{'BoundingBox': {'Width': 0.048039767891168594, 'Height': 0.1261315643787384, 'Left': 0.9203727841377258, 'Top': 0.8706101179122925}, 'Confidence': 84.33106994628906}], 'Parents': [{'Name': 'Clothing'}, {'Name': 'Pants'}], 'Aliases': [{'Name': 'Denim'}], 'Categories': [{'Name': 'Apparel and Accessories'}]}, {'Name': 'Pants', 'Confidence': 84.33106994628906, 'Instances': [], 'Parents': [{'Name': 'Clothing'}], 'Aliases': [], 'Categories': [{'Name': 'Apparel and Accessories'}]}, {'Name': 'Coat', 'Confidence': 81.49247741699219, 'Instances': [{'BoundingBox': {'Width': 0.040252137929201126, 'Height': 0.0816083624958992, 'Left': 0.493969202041626, 'Top': 0.7785168886184692}, 'Confidence': 74.79481506347656}], 'Parents': [{'Name': 'Clothing'}], 'Aliases': [], 'Categories': [{'Name': 'Apparel and Accessories'}]}, {'Name': 'Jacket', 'Confidence': 81.49247741699219, 'Instances': [{'BoundingBox': {'Width': 0.06478216499090195, 'Height': 0.13283587992191315, 'Left': 0.9144067168235779, 'Top': 0.7496290802955627}, 'Confidence': 81.49247741699219}], 'Parents': [{'Name': 'Clothing'}, {'Name': 'Coat'}], 'Aliases': [], 'Categories': [{'Name': 'Apparel and Accessories'}]}, {'Name': 'Footwear', 'Confidence': 63.40213394165039, 'Instances': [], 'Parents': [{'Name': 'Clothing'}], 'Aliases': [], 'Categories': [{'Name': 'Apparel and Accessories'}]}, {'Name': 'Shoe', 'Confidence': 63.40213394165039, 'Instances': [{'BoundingBox': {'Width': 0.012725253589451313, 'Height': 0.028649698942899704, 'Left': 0.9324567914009094, 'Top': 0.9701142907142639}, 'Confidence': 63.40213394165039}], 'Parents': [{'Name': 'Clothing'}, {'Name': 'Footwear'}], 'Aliases': [], 'Categories': [{'Name': 'Apparel and Accessories'}]}, {'Name': 'College', 'Confidence': 57.2138671875, 'Instances': [], 'Parents': [{'Name': 'Architecture'}, {'Name': 'Building'}], 'Aliases': [], 'Categories': [{'Name': 'Education'}]}, {'Name': 'Walking', 'Confidence': 55.277259826660156, 'Instances': [], 'Parents': [{'Name': 'Person'}], 'Aliases': [], 'Categories': [{'Name': 'Actions'}]}], 'LabelModelVersion': '3.0', 'ResponseMetadata': {'RequestId': '02f52bad-90d0-49cc-9556-96a5830c39f5', 'HTTPStatusCode': 200, 'HTTPHeaders': {'x-amzn-requestid': '02f52bad-90d0-49cc-9556-96a5830c39f5', 'content-type': 'application/x-amz-json-1.1', 'content-length': '6738', 'date': 'Wed, 23 Apr 2025 19:23:47 GMT'}, 'RetryAttempts': 0}}\n"
     ]
    }
   ],
   "source": [
    "print(response)"
   ]
  },
  {
   "cell_type": "code",
   "execution_count": 10,
   "id": "23c9abac",
   "metadata": {},
   "outputs": [
    {
     "data": {
      "text/plain": [
       "15"
      ]
     },
     "execution_count": 10,
     "metadata": {},
     "output_type": "execute_result"
    }
   ],
   "source": [
    "# Can also count number of instances of each label: e.g. \"Person\" - label 3\n",
    "len(response['Labels'][3]['Instances'])"
   ]
  },
  {
   "cell_type": "markdown",
   "id": "7ae40030",
   "metadata": {},
   "source": [
    "We can use rekognition to detect text in images as well:"
   ]
  },
  {
   "cell_type": "code",
   "execution_count": 11,
   "id": "a42b3e38",
   "metadata": {},
   "outputs": [],
   "source": [
    "with open('uchicago_sign.jpg', 'rb') as image:\n",
    "    response = rekog.detect_text(Image={'Bytes': image.read()})"
   ]
  },
  {
   "cell_type": "code",
   "execution_count": 12,
   "id": "c44468f8",
   "metadata": {},
   "outputs": [
    {
     "name": "stdout",
     "output_type": "stream",
     "text": [
      "Detected text:THE UNIVERSITY OF\n",
      "Confidence: 99.61%\n",
      "Detected text:CHICAGO\n",
      "Confidence: 99.58%\n"
     ]
    }
   ],
   "source": [
    "for text in response['TextDetections']:\n",
    "    if text['Type'] == 'LINE' and text['Confidence'] > 90:\n",
    "        print ('Detected text:' + text['DetectedText'])\n",
    "        print ('Confidence: ' + \"{:.2f}\".format(text['Confidence']) + \"%\")"
   ]
  },
  {
   "cell_type": "markdown",
   "id": "4a060762",
   "metadata": {},
   "source": [
    "If you have custom workflows, Rekognition might not be the best option, but for many general applications, this will likely handle everything that you need to do and is really easy to use."
   ]
  },
  {
   "cell_type": "markdown",
   "id": "8eab878d",
   "metadata": {},
   "source": [
    "You will have a chance to practice using more of these serverless tools in the DataCamp course that we've assigned as one of the readings for Monday's class, but this should give you a taste of some of the functionality that is available to you right out of the box.\n",
    "\n",
    "----\n",
    "\n",
    "**AWS Lambda Functions**\n",
    "\n",
    "We can also create our own custom serverless functions as well, though, via AWS Lambda... \n",
    "\n",
    "*Go to AWS Console and create/deploy sample Lambda function (called `hello_world`) using LabRole IAM role:*\n",
    "\n",
    "```python\n",
    "def lambda_handler(event, context):\n",
    "    # test: {'key1': 1, 'key2': 2}\n",
    "    total = event['key1'] + event['key2']\n",
    "    return total\n",
    "```\n",
    "\n",
    "Can write code of arbitrary complexity in here, assuming it's going to be a relatively quick operation (e.g. less than 300s)..."
   ]
  },
  {
   "cell_type": "code",
   "execution_count": 15,
   "id": "9c906cdb",
   "metadata": {},
   "outputs": [
    {
     "data": {
      "text/plain": [
       "3"
      ]
     },
     "execution_count": 15,
     "metadata": {},
     "output_type": "execute_result"
    }
   ],
   "source": [
    "aws_lambda = boto3.client('lambda')\n",
    "\n",
    "test_data = {'key1': 1, 'key2': 2}\n",
    "\n",
    "# run synchronously:\n",
    "r = aws_lambda.invoke(FunctionName='hello_world',\n",
    "                      InvocationType='RequestResponse',\n",
    "                      Payload=json.dumps(test_data))\n",
    "json.loads(r['Payload'].read()) # print out response"
   ]
  },
  {
   "cell_type": "markdown",
   "id": "f05afb8b",
   "metadata": {},
   "source": [
    "Currently still running all of this code serially, though. Real advantage of\n",
    "Lambda is that it scales automatically to meet concurrent demand, meaning\n",
    "that it will automatically parallelize based on how many concurrent invocations\n",
    "it receives (***just don't invoke your Lambda functions more than 10 times concurrently using your AWS Academy account or your account could be deactivated***; in a personal account, these can scale to 1000s of concurrent invocations, though):"
   ]
  },
  {
   "cell_type": "code",
   "execution_count": 16,
   "id": "6fb04957",
   "metadata": {},
   "outputs": [
    {
     "data": {
      "text/plain": [
       "[3, 3, 3, 3]"
      ]
     },
     "execution_count": 16,
     "metadata": {},
     "output_type": "execute_result"
    }
   ],
   "source": [
    "# 1. write function to invoke our function for us and pass in data:\n",
    "def invoke_function(data):\n",
    "    r = aws_lambda.invoke(FunctionName='hello_world',\n",
    "                       InvocationType='RequestResponse',\n",
    "                       Payload=json.dumps(data))\n",
    "    return json.loads(r['Payload'].read())\n",
    "\n",
    "# 2. Demo that lambda function will scale out if called concurrently on different threads locally\n",
    "with ThreadPoolExecutor(max_workers=4) as executor:\n",
    "    results = executor.map(invoke_function, [test_data for _ in range(4)])\n",
    "\n",
    "# 3. In AWS Console: confirm that we had four concurrent executions (takes a few seconds to update)\n",
    "# Same results too:\n",
    "[result for result in results]"
   ]
  },
  {
   "cell_type": "markdown",
   "id": "f52465c0",
   "metadata": {},
   "source": [
    "Ideally, we should be able to scale out to as many available Lambda workers as possible (i.e. thousands of concurrent function invocations on different segments of a dataset -- a serverless domain decomposition) and not be limited by our local resources, though. \n",
    "\n",
    "This is a where AWS [Step Functions](https://docs.aws.amazon.com/step-functions/latest/dg/welcome.html) can be very useful -- orchestrating large, embarrassingly parallel code execution across many Lambda workers with very little code (all we need to do is specify a graphical model for how our Lambda Function should be invoked!). Specifically, we'll be using the [\"map\" state](https://docs.aws.amazon.com/step-functions/latest/dg/tutorial-creating-map-state-machine.html) to scatter input data to multiple Lambda workers at the same time and selecting the [express workflow Step Function option](https://docs.aws.amazon.com/step-functions/latest/dg/concepts-standard-vs-express.html) to a run our short job synchronously.\n",
    "\n",
    "(Demonstrate how to incorporate Lambda Function into Step Function workflow via graphical model in console after launching state machine via programmatic approach below)."
   ]
  },
  {
   "cell_type": "code",
   "execution_count": 21,
   "id": "74d449d6",
   "metadata": {},
   "outputs": [
    {
     "name": "stdout",
     "output_type": "stream",
     "text": [
      "{'stateMachines': [{'stateMachineArn': 'arn:aws:states:us-east-1:654654411374:stateMachine:hello_world_sm', 'name': 'hello_world_sm', 'type': 'EXPRESS', 'creationDate': datetime.datetime(2025, 4, 23, 14, 53, 26, 623000, tzinfo=tzlocal())}, {'stateMachineArn': 'arn:aws:states:us-east-1:654654411374:stateMachine:word_count_sm', 'name': 'word_count_sm', 'type': 'EXPRESS', 'creationDate': datetime.datetime(2025, 4, 18, 14, 25, 48, 340000, tzinfo=tzlocal())}], 'ResponseMetadata': {'RequestId': '2fded9b5-927d-4cbc-8eaf-9871168f8241', 'HTTPStatusCode': 200, 'HTTPHeaders': {'x-amzn-requestid': '2fded9b5-927d-4cbc-8eaf-9871168f8241', 'date': 'Wed, 23 Apr 2025 19:53:26 GMT', 'content-type': 'application/x-amz-json-1.0', 'content-length': '338', 'connection': 'keep-alive'}, 'RetryAttempts': 0}}\n"
     ]
    }
   ],
   "source": [
    "sfn = boto3.client('stepfunctions')\n",
    "iam_client = boto3.client('iam')\n",
    "role = iam_client.get_role(RoleName='LabRole')\n",
    "\n",
    "def make_def(lambda_arn):\n",
    "    definition = {\n",
    "      \"Comment\": \"My State Machine\",\n",
    "      \"StartAt\": \"Map\",\n",
    "      \"States\": {\n",
    "        \"Map\": {\n",
    "          \"Type\": \"Map\",\n",
    "          \"End\": True,\n",
    "          \"MaxConcurrency\": 10,\n",
    "          \"Iterator\": {\n",
    "            \"StartAt\": \"Lambda Invoke\",\n",
    "            \"States\": {\n",
    "              \"Lambda Invoke\": {\n",
    "                \"Type\": \"Task\",\n",
    "                \"Resource\": \"arn:aws:states:::lambda:invoke\",\n",
    "                \"OutputPath\": \"$.Payload\",\n",
    "                \"Parameters\": {\n",
    "                  \"Payload.$\": \"$\",\n",
    "                  \"FunctionName\": lambda_arn\n",
    "                },\n",
    "                \"Retry\": [\n",
    "                  {\n",
    "                    \"ErrorEquals\": [\n",
    "                      \"Lambda.ServiceException\",\n",
    "                      \"Lambda.AWSLambdaException\",\n",
    "                      \"Lambda.SdkClientException\",\n",
    "                      \"Lambda.TooManyRequestsException\",\n",
    "                      \"States.TaskFailed\",\n",
    "                      \"Lambda.Unknown\"\n",
    "                    ],\n",
    "                    \"IntervalSeconds\": 2,\n",
    "                    \"MaxAttempts\": 6,\n",
    "                    \"BackoffRate\": 2\n",
    "                  }\n",
    "                ],\n",
    "                \"End\": True\n",
    "              }\n",
    "            }\n",
    "          }\n",
    "        }\n",
    "      }\n",
    "    }\n",
    "    return definition\n",
    "\n",
    "# plug in unique ARN identifier for function\n",
    "lambda_arn = aws_lambda.get_function(FunctionName='hello_world')['Configuration']['FunctionArn']\n",
    "sf_def = make_def(lambda_arn)\n",
    "\n",
    "try:\n",
    "    response = sfn.create_state_machine(\n",
    "        name='hello_world_sm',\n",
    "        definition=json.dumps(sf_def),\n",
    "        roleArn=role['Role']['Arn'],\n",
    "        type='EXPRESS'\n",
    "    )\n",
    "except sfn.exceptions.StateMachineAlreadyExists:\n",
    "    response = sfn.list_state_machines()\n",
    "    state_machine_arn = [sm['stateMachineArn'] \n",
    "                         for sm in response['stateMachines'] \n",
    "                         if sm['name'] == 'hello_world_sm'][0]\n",
    "    response = sfn.update_state_machine(\n",
    "        stateMachineArn=state_machine_arn,\n",
    "        definition=json.dumps(sf_def),\n",
    "        roleArn=role['Role']['Arn']\n",
    "    )\n",
    "\n",
    "response = sfn.list_state_machines()\n",
    "print(response)"
   ]
  },
  {
   "cell_type": "code",
   "execution_count": 22,
   "id": "30d11ea4",
   "metadata": {},
   "outputs": [],
   "source": [
    "# Get arn for Step Function state machine\n",
    "state_machine_arn = [sm['stateMachineArn'] \n",
    "                     for sm in response['stateMachines'] \n",
    "                     if sm['name'] == 'hello_world_sm'][0]\n",
    "\n",
    "# generate test data to pass as input\n",
    "# \"Map\" will automatically invoke a separate Lambda function\n",
    "# to process each dictionary in the list (5 concurrently)\n",
    "data = [{\"key1\": 1, \"key2\": 2} for _ in range(5)]"
   ]
  },
  {
   "cell_type": "markdown",
   "id": "0991d1d2",
   "metadata": {},
   "source": [
    "Once we have the identifier (ARN) for our Step Function state machine, we can pass in input data in JSON format. We have two options for execution -- synchronous execution (e.g. our notebook will wait for a response from AWS before moving on to the next cell), and asynchronous execution (which we might want to use if our Lambda functions were writing results to a cloud database and we don't need to wait for execution to finish before moving on with our code)."
   ]
  },
  {
   "cell_type": "code",
   "execution_count": 11,
   "id": "3e398718",
   "metadata": {},
   "outputs": [
    {
     "name": "stdout",
     "output_type": "stream",
     "text": [
      "[3,3,3,3,3]\n"
     ]
    }
   ],
   "source": [
    "# Synchronous Execution\n",
    "response = sfn.start_sync_execution(\n",
    "    stateMachineArn=state_machine_arn,\n",
    "    name='sync_test',\n",
    "    input=json.dumps(data)\n",
    ")\n",
    "\n",
    "print(response['output'])"
   ]
  },
  {
   "cell_type": "code",
   "execution_count": 12,
   "id": "73297b3c",
   "metadata": {},
   "outputs": [
    {
     "name": "stdout",
     "output_type": "stream",
     "text": [
      "{'executionArn': 'arn:aws:states:us-east-1:991793028403:express:hello_world_sm:async_test:3a33f5b9-4d68-47d1-9e5d-6220bddb5fb8', 'startDate': datetime.datetime(2025, 4, 14, 11, 4, 50, 522000, tzinfo=tzlocal()), 'ResponseMetadata': {'RequestId': '4e5b7a1a-9c52-4fe9-a0d4-bffca7de702a', 'HTTPStatusCode': 200, 'HTTPHeaders': {'x-amzn-requestid': '4e5b7a1a-9c52-4fe9-a0d4-bffca7de702a', 'date': 'Mon, 14 Apr 2025 16:04:50 GMT', 'content-type': 'application/x-amz-json-1.0', 'content-length': '156', 'connection': 'keep-alive'}, 'RetryAttempts': 0}}\n"
     ]
    }
   ],
   "source": [
    "# Async; perhaps writing results to db and don't need to wait for execution to finish before moving on with code\n",
    "response = sfn.start_execution(\n",
    "    stateMachineArn=state_machine_arn,\n",
    "    name='async_test',\n",
    "    input=json.dumps(data)\n",
    ")\n",
    "\n",
    "print(response) # no results returned for async option\n",
    "# Can go into logs in Cloud Watch and see execution results (Express SF workflow)\n",
    "# Note that Standard Step Function workflow allows us to audit results via Boto3)"
   ]
  },
  {
   "cell_type": "markdown",
   "id": "d5aa98d5",
   "metadata": {},
   "source": [
    "## Using AWS Lambda to make HTTP Requests in Parallel\n",
    "\n",
    "A common task for computational social scientists is making HTTP requests to access and process web data. It can be quite limiting to make these requests serially, though. When we do, the amount of data we are able to collect is limited both by our internet bandwidth and machine's ability to sequentially process the data.\n",
    "\n",
    "It would be much better to parallelize this workflow. Here, we'll take a look at how we could do this in a serverless fashion using the same workflow as above (Mapping Data to Lambda Functions via Step Functions). Specifically, we will call the [Google Books API](https://developers.google.com/books/docs/v1/getting_started) in parallel on a list of ISBNs (one API call can be constructed [like this](https://www.googleapis.com/books/v1/volumes?q=isbn:1906523371)), calculating the number of words used in the description for each book in our ISBN list (see workflow below). Word count is a simple metric (used here as a proof-of-concept), but it would also be possible to perform other Natural Language Processing routines using this same approach. Such a cloud workflow allows us to gather and process far greater amounts of data than would be otherwise possible on our local machines.\n",
    "\n",
    "![AWS Serverless Workflow](serverless_workflow.png)\n",
    "\n",
    "First, we'll need to load in a list of ISBNs (provided in this directory):"
   ]
  },
  {
   "cell_type": "code",
   "execution_count": 2,
   "id": "63dbd7e1",
   "metadata": {},
   "outputs": [],
   "source": [
    "with open('isbn.txt') as file:\n",
    "    isbn_list = [isbn.strip() for isbn in file]"
   ]
  },
  {
   "cell_type": "markdown",
   "id": "30b0f62a",
   "metadata": {},
   "source": [
    "Then, we can write a function that will take in a list of ISBNs and compute the the number of words in the description of the corresponding book:"
   ]
  },
  {
   "cell_type": "code",
   "execution_count": 3,
   "id": "6a1feec3",
   "metadata": {},
   "outputs": [],
   "source": [
    "def get_desc_wc(isbn_list):\n",
    "    '''\n",
    "    Takes in a list of ISBNs and returns a list of description\n",
    "    word counts corresponding to each ISBN (via the Google\n",
    "    Books API).\n",
    "    '''\n",
    "    url = \"https://www.googleapis.com/books/v1/volumes?q=isbn:\"\n",
    "    wc_list = []\n",
    "    for isbn in isbn_list:\n",
    "        r = requests.get(url + isbn)\n",
    "        data = r.json()\n",
    "        # Try to get description, but if there is none, set\n",
    "        # word count to be 0 for that book\n",
    "        try:\n",
    "            description = data['items'][0]['volumeInfo']['description']\n",
    "            wc_list.append(len(description.split()))\n",
    "        except KeyError:\n",
    "            wc_list.append(0)\n",
    "    return wc_list"
   ]
  },
  {
   "cell_type": "markdown",
   "id": "e1588f3c",
   "metadata": {},
   "source": [
    "We can then call our function and it will sequentially request information and calculate the description word count for each one of our ISBNs in the list:"
   ]
  },
  {
   "cell_type": "code",
   "execution_count": 4,
   "id": "cf44ae56",
   "metadata": {},
   "outputs": [
    {
     "name": "stdout",
     "output_type": "stream",
     "text": [
      "Time elapsed (in seconds) - Serial:  218.12692379951477\n"
     ]
    },
    {
     "data": {
      "image/png": "[encoded data removed]",
      "text/plain": [
       "<Figure size 640x480 with 1 Axes>"
      ]
     },
     "metadata": {},
     "output_type": "display_data"
    }
   ],
   "source": [
    "start = time.time()\n",
    "wc_list = get_desc_wc(isbn_list)\n",
    "time_elapsed = time.time() - start\n",
    "\n",
    "print(\"Time elapsed (in seconds) - Serial: \", time_elapsed)\n",
    "\n",
    "plt.hist(wc_list);"
   ]
  },
  {
   "cell_type": "markdown",
   "id": "d891c1e6",
   "metadata": {},
   "source": [
    "This is a bit slow (exactly how slow will be variable and heavily based on your internet connection!), though, and could benefit from parallelization. One way we can do this in a \"serverless\" fashion is by using AWS Step Functions to invoke many AWS Lambda functions to make these ISBN API calls (and calculate the description word count) in parallel. \n",
    "\n",
    "In a personal AWS account, you can make up to [3000 concurrent Lambda invocations in an initial burst, scaling by an additional 500 instances each minute that your code runs (until your account's concurrency limit is reached)](https://docs.aws.amazon.com/lambda/latest/dg/invocation-scaling.html). Note, though, that we're limited in our AWS Academy accounts to making up to 10 concurrent Lambda invocations. As a result, we won't be able to see the same scalability as we would see in a personal account (it'll be up to ~60x slower!), but you can at least get the idea of how this pipeline can be constructed.\n",
    "\n",
    "To make this work, we'll do the same thing we did above in our \"Hello World\" case -- using Step Functions to invoke multiple Lambda functions in parallel and then return the output of the executions synchronously to our local machine. \n",
    "\n",
    "For our Lambda function, we can write a `lambda_handler` that uses our API request function above like so (to be run on mini-batches of the overall isbn list):\n",
    "\n",
    "```python\n",
    "import requests\n",
    "\n",
    "def get_desc_wc(isbn_list):\n",
    "    '''\n",
    "    Takes in a list of ISBNs and returns a list of description\n",
    "    word counts corresponding to each ISBN (via the Google\n",
    "    Books API).\n",
    "    '''\n",
    "    url = \"https://www.googleapis.com/books/v1/volumes?q=isbn:\"\n",
    "\n",
    "    wc_list = []\n",
    "    for isbn in isbn_list:\n",
    "        r = requests.get(url + isbn)\n",
    "        data = r.json()\n",
    "        # Try to get description, but if there is none, set\n",
    "        # word count to be 0 for that book\n",
    "        try:\n",
    "            description = data['items'][0]['volumeInfo']['description']\n",
    "            wc_list.append(len(description.split()))\n",
    "        except KeyError:\n",
    "            wc_list.append(0)\n",
    "    return wc_list\n",
    "\n",
    "def lambda_handler(event, context):\n",
    "    wc = get_desc_wc(event['isbn'])\n",
    "    return wc\n",
    "```\n",
    "\n",
    "The only tricky thing with running this particular code as a Lambda function is that we are importing in the `requests` module in order to make HTTP requests. Such dependencies are not included by default in Lambda's Python runtimes.\n",
    "\n",
    "In order to work with dependencies, we'll need to package our Lambda Function with all of its dependencies (which you can do manually [like so](https://docs.aws.amazon.com/lambda/latest/dg/python-package.html#python-package-create-package-with-dependency) or by adding a [predefined \"layer\" defined by a 3rd-party](https://api.klayers.cloud//api/v2/p3.9/layers/latest/us-east-1/html) via its ARN in the Lambda dashboard).  Note as well that [you also can work with Docker container images](https://docs.aws.amazon.com/lambda/latest/dg/python-image.html) (AWS provides up-to-date base images for Lambda) to test and upload your function to AWS. The Docker approach is not necessary for any of the assignments/exam in the class, but you may need to explore this option if you use this approach in your own research (i.e. if you're working with an especially big model, or large software not already installed on Lambda, our normal Lambda function creation workflow will not work). \n",
    "\n",
    "Using the manual workflow linked above, we have included a zipped version of the Lambda function (with its dependencies) in this directory (`word_count.zip`) that you can upload and use (**walk through directory structure live in class**). You'll need to do the same if you want to provide added functionality to your Lambda functions (e.g. `BeautifulSoup` for web-scraping, `numpy` or `pandas` for analytical workflows, etc.). We'll also need to increase our lambda timeout so that we have enough time for our program to run to perform longer running jobs (the default is a 3s timeout).\n",
    "\n",
    "Let's use `boto3` this time to create our Lambda Function from our zipped `word_count.zip` (to demonstrate that we can do this programmatically as well as in the console as we did earlier):"
   ]
  },
  {
   "cell_type": "code",
   "execution_count": 17,
   "id": "290b271f",
   "metadata": {},
   "outputs": [],
   "source": [
    "# Access our class IAM role, which allows Lambda\n",
    "# to interact with other AWS resources\n",
    "iam_client = boto3.client('iam')\n",
    "role = iam_client.get_role(RoleName='LabRole')\n",
    "\n",
    "# Open our Zipped directory\n",
    "with open('word_count.zip', 'rb') as f:\n",
    "    lambda_zip = f.read()\n",
    "\n",
    "try:\n",
    "    # If function hasn't yet been created, create it\n",
    "    response = aws_lambda.create_function(\n",
    "        FunctionName='word_count',\n",
    "        Runtime='python3.9',\n",
    "        Role=role['Role']['Arn'],\n",
    "        Handler='lambda_function.lambda_handler',\n",
    "        Code=dict(ZipFile=lambda_zip),\n",
    "        Timeout=300\n",
    "    )\n",
    "except aws_lambda.exceptions.ResourceConflictException:\n",
    "    # If function already exists, update it based on zip\n",
    "    # file contents\n",
    "    response = aws_lambda.update_function_code(\n",
    "        FunctionName='word_count',\n",
    "        ZipFile=lambda_zip\n",
    "    )\n",
    "\n",
    "# Throttle concurrent executions to 10\n",
    "response = aws_lambda.put_function_concurrency(\n",
    "        FunctionName='word_count',\n",
    "        ReservedConcurrentExecutions=10\n",
    "    )"
   ]
  },
  {
   "cell_type": "markdown",
   "id": "59521be0",
   "metadata": {},
   "source": [
    "Once we have our function, we can incorporate it into a Step Function state machine, like we did in our Hello World example and provide data that will be spread across our Lambda worker invocations. Remember, we can only perform 10 concurrent invocations in AWS Academy, so we need to subdivide our list of ISBNs into a small number of equal batches. Let's split our job into 5 batches to be safely under the concurrency limit:"
   ]
  },
  {
   "cell_type": "code",
   "execution_count": 18,
   "id": "5f883865",
   "metadata": {},
   "outputs": [],
   "source": [
    "n = 500 // 5 # subdivide list of ISBNs into 5 equal batches\n",
    "isbn_batches = [{'isbn': isbn_list[i:i + n]} for i in range(0, len(isbn_list), n)]"
   ]
  },
  {
   "cell_type": "code",
   "execution_count": 19,
   "id": "a326b834",
   "metadata": {},
   "outputs": [
    {
     "name": "stdout",
     "output_type": "stream",
     "text": [
      "5 100\n"
     ]
    }
   ],
   "source": [
    "# 5 lists of 100 ISBNs\n",
    "print(len(isbn_batches), len(isbn_batches[0]['isbn']))"
   ]
  },
  {
   "cell_type": "code",
   "execution_count": 23,
   "id": "a1b568fb",
   "metadata": {},
   "outputs": [],
   "source": [
    "lambda_arn = aws_lambda.get_function(FunctionName='word_count')['Configuration']['FunctionArn']\n",
    "sf_def = make_def(lambda_arn)\n",
    "\n",
    "try:\n",
    "    response = sfn.create_state_machine(\n",
    "        name='word_count_sm',\n",
    "        definition=json.dumps(sf_def),\n",
    "        roleArn=role['Role']['Arn'],\n",
    "        type='EXPRESS'\n",
    "    )\n",
    "except sfn.exceptions.StateMachineAlreadyExists:\n",
    "    response = sfn.list_state_machines()\n",
    "    state_machine_arn = [sm['stateMachineArn'] \n",
    "                         for sm in response['stateMachines'] \n",
    "                         if sm['name'] == 'word_count_sm'][0]\n",
    "    response = sfn.update_state_machine(\n",
    "        stateMachineArn=state_machine_arn,\n",
    "        definition=json.dumps(sf_def),\n",
    "        roleArn=role['Role']['Arn']\n",
    "    )\n",
    "\n",
    "# Get arn for Step Function state machine\n",
    "response = sfn.list_state_machines()\n",
    "state_machine_arn = [sm['stateMachineArn'] \n",
    "                     for sm in response['stateMachines'] \n",
    "                     if sm['name'] == 'word_count_sm'][0]"
   ]
  },
  {
   "cell_type": "code",
   "execution_count": 24,
   "id": "accd5994",
   "metadata": {},
   "outputs": [],
   "source": [
    "# Spread ISBN batches across Lambda workers\n",
    "start = time.time()\n",
    "response = sfn.start_sync_execution(\n",
    "    stateMachineArn=state_machine_arn,\n",
    "    name='isbn_500',\n",
    "    input=json.dumps(isbn_batches)\n",
    ")\n",
    "time_elapsed = time.time() - start"
   ]
  },
  {
   "cell_type": "code",
   "execution_count": 20,
   "id": "ac88d799",
   "metadata": {},
   "outputs": [
    {
     "name": "stdout",
     "output_type": "stream",
     "text": [
      "37.294769287109375\n"
     ]
    }
   ],
   "source": [
    "print(time_elapsed)"
   ]
  },
  {
   "cell_type": "markdown",
   "id": "4cbfd241",
   "metadata": {},
   "source": [
    "Using only 5 Lambda workers, this is ~3-5x faster than the serial solution (meaning we can gather more data in the same amount of time, re: Gustafson's Law!). If we ran this same code on larger sets of ISBNs in a personal account, we would expect our compute time to remain similar, so long as we stay beneath the 3000 concurrent Lambda invocation maximum. You can also see that our parallel solution produces a similar distribution of word counts as the serial solution (with slight differences as a result of our permissive try/except logic):"
   ]
  },
  {
   "cell_type": "code",
   "execution_count": 24,
   "id": "ee1aa168",
   "metadata": {},
   "outputs": [
    {
     "data": {
      "image/png": "[encoded data removed]",
      "text/plain": [
       "<Figure size 640x480 with 1 Axes>"
      ]
     },
     "metadata": {},
     "output_type": "display_data"
    }
   ],
   "source": [
    "output = json.loads(response['output'])\n",
    "plt.hist([num for sublist in output for num in sublist]);"
   ]
  },
  {
   "cell_type": "markdown",
   "id": "127f041a",
   "metadata": {},
   "source": [
    "So, we can quickly parallelize workflows in a serverless fashion using a combination of AWS Lambda and Step Functions. You can also create even more complicated workflows in Step Functions involving functional decomposition, multiple layers of Lambda function invocations, and more.\n",
    "\n",
    "One thing to note with the workflow above is that the payload size for inputs and outputs is not infinite (Step Functions will only accept inputs and outputs of size [262 KB or less](https://docs.aws.amazon.com/step-functions/latest/dg/avoid-exec-failures.html)). So, if you are working with really big inputs and/or outputs, you will want to input data from AWS cloud databases/distributed storage systems (e.g. providing the keys to the data you're referencing in the input JSON) and output data to a database/storage system within your Lambda function invocation as well. You can see an example of this workflow in the [replication materials for Clindaniel and Magnani 2024](https://github.com/jonclindaniel/digital-formation-processes) in the context of a high-frequency data collection task.\n",
    "\n",
    "We'll talk more about how you can work with cloud databases (which allow you to make many concurrent reads and writes) next week to enable this increased scalability."
   ]
  }
 ],
 "metadata": {
  "kernelspec": {
   "display_name": "macs30123",
   "language": "python",
   "name": "python3"
  },
  "language_info": {
   "codemirror_mode": {
    "name": "ipython",
    "version": 3
   },
   "file_extension": ".py",
   "mimetype": "text/x-python",
   "name": "python",
   "nbconvert_exporter": "python",
   "pygments_lexer": "ipython3",
   "version": "3.12.0"
  }
 },
 "nbformat": 4,
 "nbformat_minor": 5
}
