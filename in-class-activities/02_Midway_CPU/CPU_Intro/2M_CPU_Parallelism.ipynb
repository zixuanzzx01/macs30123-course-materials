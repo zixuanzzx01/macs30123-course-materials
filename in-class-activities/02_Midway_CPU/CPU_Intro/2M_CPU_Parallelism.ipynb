{
  "cells": [
    {
      "attachments": {},
      "cell_type": "markdown",
      "metadata": {
        "id": "5a1uybrnHlFf"
      },
      "source": [
        "<a href=\"https://colab.research.google.com/drive/1fE3QxNXibveRcVqjK3HQ9EiDUKebD3NQ?usp=sharing\" target=\"_parent\"><img src=\"https://colab.research.google.com/assets/colab-badge.svg\" alt=\"Open In Colab\"/></a>\n",
        "\n",
        "## CPU Parallelism: Vector Processing and Multithreading\n",
        "\n",
        "In this notebook, we'll explore how you can achieve parallel execution on CPUs by way of vector processing and multi-threading, using `numba`. Here, we'll focus on incorporating `numba` into a common analytical workflow -- that of applying some function to a column (or several columns) in your DataFrame and creating a new, derived column for further study.\n",
        "\n",
        "For this demonstration, we'll be working with a small sample of [AirBnB's listing data](http://insideairbnb.com/get-the-data.html), a large dataset that contains information on AirBnBs from around the world on a month-by-month basis."
      ]
    },
    {
      "cell_type": "code",
      "execution_count": 1,
      "metadata": {
        "id": "P6m9tPaaGqIG"
      },
      "outputs": [],
      "source": [
        "from numba.pycc import CC\n",
        "from numba import vectorize, jit, prange\n",
        "import numpy as np\n",
        "import pandas as pd"
      ]
    },
    {
      "cell_type": "markdown",
      "metadata": {
        "id": "Sz2ibxYyIZf4"
      },
      "source": [
        "Then, we can load in our AirBnB data (included in this directory) and see what it looks like (note that this data is from the city of Chicago, compiled by AirBnB in April 2021):\n"
      ]
    },
    {
      "cell_type": "code",
      "execution_count": 2,
      "metadata": {
        "colab": {
          "base_uri": "https://localhost:8080/",
          "height": 513
        },
        "id": "JLyeBJS0G84E",
        "outputId": "95b30f4b-e218-4ed6-a0f9-9334dd235be9"
      },
      "outputs": [
        {
          "data": {
            "text/html": [
              "<div>\n",
              "<style scoped>\n",
              "    .dataframe tbody tr th:only-of-type {\n",
              "        vertical-align: middle;\n",
              "    }\n",
              "\n",
              "    .dataframe tbody tr th {\n",
              "        vertical-align: top;\n",
              "    }\n",
              "\n",
              "    .dataframe thead th {\n",
              "        text-align: right;\n",
              "    }\n",
              "</style>\n",
              "<table border=\"1\" class=\"dataframe\">\n",
              "  <thead>\n",
              "    <tr style=\"text-align: right;\">\n",
              "      <th></th>\n",
              "      <th>id</th>\n",
              "      <th>name</th>\n",
              "      <th>host_id</th>\n",
              "      <th>host_name</th>\n",
              "      <th>neighbourhood_group</th>\n",
              "      <th>neighbourhood</th>\n",
              "      <th>latitude</th>\n",
              "      <th>longitude</th>\n",
              "      <th>room_type</th>\n",
              "      <th>price</th>\n",
              "      <th>minimum_nights</th>\n",
              "      <th>number_of_reviews</th>\n",
              "      <th>last_review</th>\n",
              "      <th>reviews_per_month</th>\n",
              "      <th>calculated_host_listings_count</th>\n",
              "      <th>availability_365</th>\n",
              "    </tr>\n",
              "  </thead>\n",
              "  <tbody>\n",
              "    <tr>\n",
              "      <th>0</th>\n",
              "      <td>2384</td>\n",
              "      <td>Hyde Park - Walk to UChicago, 10 min to McCormick</td>\n",
              "      <td>2613</td>\n",
              "      <td>Rebecca</td>\n",
              "      <td>NaN</td>\n",
              "      <td>Hyde Park</td>\n",
              "      <td>41.78790</td>\n",
              "      <td>-87.58780</td>\n",
              "      <td>Private room</td>\n",
              "      <td>65</td>\n",
              "      <td>2</td>\n",
              "      <td>182</td>\n",
              "      <td>2021-03-28</td>\n",
              "      <td>2.38</td>\n",
              "      <td>1</td>\n",
              "      <td>0</td>\n",
              "    </tr>\n",
              "    <tr>\n",
              "      <th>1</th>\n",
              "      <td>4505</td>\n",
              "      <td>394 Great Reviews. 127 y/o House. 40 yds to tr...</td>\n",
              "      <td>5775</td>\n",
              "      <td>Craig &amp; Kathleen</td>\n",
              "      <td>NaN</td>\n",
              "      <td>South Lawndale</td>\n",
              "      <td>41.85373</td>\n",
              "      <td>-87.69540</td>\n",
              "      <td>Entire home/apt</td>\n",
              "      <td>113</td>\n",
              "      <td>2</td>\n",
              "      <td>395</td>\n",
              "      <td>2020-07-14</td>\n",
              "      <td>2.67</td>\n",
              "      <td>1</td>\n",
              "      <td>180</td>\n",
              "    </tr>\n",
              "    <tr>\n",
              "      <th>2</th>\n",
              "      <td>7126</td>\n",
              "      <td>Tiny Studio Apartment 94 Walk Score</td>\n",
              "      <td>17928</td>\n",
              "      <td>Sarah</td>\n",
              "      <td>NaN</td>\n",
              "      <td>West Town</td>\n",
              "      <td>41.90166</td>\n",
              "      <td>-87.68021</td>\n",
              "      <td>Entire home/apt</td>\n",
              "      <td>65</td>\n",
              "      <td>2</td>\n",
              "      <td>394</td>\n",
              "      <td>2021-04-11</td>\n",
              "      <td>2.74</td>\n",
              "      <td>1</td>\n",
              "      <td>267</td>\n",
              "    </tr>\n",
              "    <tr>\n",
              "      <th>3</th>\n",
              "      <td>9811</td>\n",
              "      <td>Barbara's Hideaway - Old Town</td>\n",
              "      <td>33004</td>\n",
              "      <td>At Home Inn</td>\n",
              "      <td>NaN</td>\n",
              "      <td>Lincoln Park</td>\n",
              "      <td>41.91943</td>\n",
              "      <td>-87.63898</td>\n",
              "      <td>Entire home/apt</td>\n",
              "      <td>120</td>\n",
              "      <td>5</td>\n",
              "      <td>54</td>\n",
              "      <td>2021-01-15</td>\n",
              "      <td>0.63</td>\n",
              "      <td>11</td>\n",
              "      <td>1</td>\n",
              "    </tr>\n",
              "    <tr>\n",
              "      <th>4</th>\n",
              "      <td>10945</td>\n",
              "      <td>The Biddle House (#1)</td>\n",
              "      <td>33004</td>\n",
              "      <td>At Home Inn</td>\n",
              "      <td>NaN</td>\n",
              "      <td>Lincoln Park</td>\n",
              "      <td>41.91196</td>\n",
              "      <td>-87.63981</td>\n",
              "      <td>Entire home/apt</td>\n",
              "      <td>175</td>\n",
              "      <td>4</td>\n",
              "      <td>22</td>\n",
              "      <td>2021-03-25</td>\n",
              "      <td>0.26</td>\n",
              "      <td>11</td>\n",
              "      <td>125</td>\n",
              "    </tr>\n",
              "  </tbody>\n",
              "</table>\n",
              "</div>"
            ],
            "text/plain": [
              "      id                                               name  host_id  \\\n",
              "0   2384  Hyde Park - Walk to UChicago, 10 min to McCormick     2613   \n",
              "1   4505  394 Great Reviews. 127 y/o House. 40 yds to tr...     5775   \n",
              "2   7126                Tiny Studio Apartment 94 Walk Score    17928   \n",
              "3   9811                      Barbara's Hideaway - Old Town    33004   \n",
              "4  10945                              The Biddle House (#1)    33004   \n",
              "\n",
              "          host_name  neighbourhood_group   neighbourhood  latitude  longitude  \\\n",
              "0           Rebecca                  NaN       Hyde Park  41.78790  -87.58780   \n",
              "1  Craig & Kathleen                  NaN  South Lawndale  41.85373  -87.69540   \n",
              "2             Sarah                  NaN       West Town  41.90166  -87.68021   \n",
              "3       At Home Inn                  NaN    Lincoln Park  41.91943  -87.63898   \n",
              "4       At Home Inn                  NaN    Lincoln Park  41.91196  -87.63981   \n",
              "\n",
              "         room_type  price  minimum_nights  number_of_reviews last_review  \\\n",
              "0     Private room     65               2                182  2021-03-28   \n",
              "1  Entire home/apt    113               2                395  2020-07-14   \n",
              "2  Entire home/apt     65               2                394  2021-04-11   \n",
              "3  Entire home/apt    120               5                 54  2021-01-15   \n",
              "4  Entire home/apt    175               4                 22  2021-03-25   \n",
              "\n",
              "   reviews_per_month  calculated_host_listings_count  availability_365  \n",
              "0               2.38                               1                 0  \n",
              "1               2.67                               1               180  \n",
              "2               2.74                               1               267  \n",
              "3               0.63                              11                 1  \n",
              "4               0.26                              11               125  "
            ]
          },
          "execution_count": 2,
          "metadata": {},
          "output_type": "execute_result"
        }
      ],
      "source": [
        "df = pd.read_csv('listings_chi.csv')\n",
        "df.head()"
      ]
    },
    {
      "cell_type": "markdown",
      "metadata": {
        "id": "TWtWQnK2XDgJ"
      },
      "source": [
        "You'll notice that two of the columns in the DataFrame are \"latitude\" and \"longitude\" -- spatial coordinates corresponding to AirBnB locations. Let's say that we're interested in creating a derived column from these coordinates, measuring how far each AirBnB is from the MACSS building at the University of Chicago (so that we can compute some further summary statistics about this column). The longitude and latitude of the 1155 E. 60th Street building is as follows:"
      ]
    },
    {
      "cell_type": "code",
      "execution_count": 3,
      "metadata": {
        "id": "sYUVOKP2jJY1"
      },
      "outputs": [],
      "source": [
        "macss = {'longitude': -87.5970978, 'latitude': 41.7856443}"
      ]
    },
    {
      "cell_type": "markdown",
      "metadata": {
        "id": "rzhZBNt9IkaB"
      },
      "source": [
        "\n",
        "To measure distance between coordinates, we can write a Python function to calculate the distance between two sets of (longitude, latitude) coordinates using [great-circle distance](https://en.wikipedia.org/wiki/Great-circle_distance). We'll write another version of this function that uses `numba` to compile this function ahead of time in two ways: one that performs the calcuation on individual scalar values and another that does so via vector processing."
      ]
    },
    {
      "cell_type": "code",
      "execution_count": 4,
      "metadata": {
        "id": "-yg1QLxoHeeo"
      },
      "outputs": [
        {
          "name": "stderr",
          "output_type": "stream",
          "text": [
            "ld: warning: duplicate -rpath '/opt/anaconda3/envs/macs30100/lib' ignored\n",
            "ld: warning: object file (/private/var/folders/11/qx8t9mx577s1vr7n1wmm37th0000gn/T/pycc-build-aot-y38zr1jf/aot.cpython-312-darwin.o) was built for newer 'macOS' version (15.0) than being linked (11.0)\n"
          ]
        }
      ],
      "source": [
        "def distance(lon1, lat1, lon2, lat2):\n",
        "    '''                                                                         \n",
        "    Calculate the circle distance between two points                            \n",
        "    on the earth (specified in decimal degrees)                                 \n",
        "    '''\n",
        "    # convert decimal degrees to radians                                        \n",
        "    lon1, lat1 = map(np.radians, [lon1, lat1])\n",
        "    lon2, lat2 = map(np.radians, [lon2, lat2])\n",
        "\n",
        "    # haversine formula                                                         \n",
        "    dlon = lon2 - lon1\n",
        "    dlat = lat2 - lat1\n",
        "    a = np.sin(dlat / 2) ** 2 + np.cos(lat1) * np.cos(lat2) * np.sin(dlon / 2) ** 2\n",
        "    c = 2 * np.arcsin(np.sqrt(a))\n",
        "\n",
        "    # 6367 km is the radius of the Earth                                        \n",
        "    km = 6367 * c\n",
        "    m = km * 1000\n",
        "    return m\n",
        "\n",
        "# Use Numba to compile this same function in a module named `aot`\n",
        "# in both a vectorized and non-vectorized form\n",
        "cc = CC('aot')\n",
        "\n",
        "@cc.export('distance', 'f8(f8,f8,f8,f8)')\n",
        "@cc.export('distance_v', 'f8[:](f8[:],f8[:],f8,f8)')\n",
        "def distance_numba(lon1, lat1, lon2, lat2):\n",
        "    '''                                                                         \n",
        "    Calculate the circle distance between two points                            \n",
        "    on the earth (specified in decimal degrees)\n",
        "    \n",
        "    (distance: Numba-accelerated; distance_v: Numba-accelerated + vectorized)\n",
        "    '''\n",
        "    # convert decimal degrees to radians                        \n",
        "    lon1, lat1 = map(np.radians, [lon1, lat1])\n",
        "    lon2, lat2 = map(np.radians, [lon2, lat2])\n",
        "\n",
        "    # haversine formula                                                         \n",
        "    dlon = lon2 - lon1\n",
        "    dlat = lat2 - lat1\n",
        "    a = np.sin(dlat / 2) ** 2 + np.cos(lat1) * np.cos(lat2) * np.sin(dlon / 2) ** 2\n",
        "    c = 2 * np.arcsin(np.sqrt(a))\n",
        "\n",
        "    # 6367 km is the radius of the Earth                                        \n",
        "    km = 6367 * c\n",
        "    m = km * 1000\n",
        "    return m\n",
        "cc.compile()\n",
        "\n",
        "import aot # import in module we just compiled"
      ]
    },
    {
      "cell_type": "markdown",
      "metadata": {
        "id": "lwXsn1yJXdrt"
      },
      "source": [
        "First, we could use the common dataframe method `apply` to apply our function to each row in our dataframe. Note, though, that this is really slow and is effectively equivalent to looping over each row in the dataframe using our pre-compiled distance function."
      ]
    },
    {
      "cell_type": "code",
      "execution_count": 5,
      "metadata": {
        "colab": {
          "base_uri": "https://localhost:8080/"
        },
        "id": "CdBWEhTvI49h",
        "outputId": "743a424c-d9dc-4489-a8fa-810ab2cc145d"
      },
      "outputs": [
        {
          "name": "stdout",
          "output_type": "stream",
          "text": [
            "66.8 ms ± 1.06 ms per loop (mean ± std. dev. of 7 runs, 10 loops each)\n"
          ]
        }
      ],
      "source": [
        "%%timeit\n",
        "df.loc[:,'distance_from_macss'] = df[['longitude', 'latitude']] \\\n",
        "                                    .apply(lambda x: distance(x.longitude,\n",
        "                                                              x.latitude,\n",
        "                                                              macss['longitude'],\n",
        "                                                              macss['latitude']),\n",
        "                                           axis=1)"
      ]
    },
    {
      "cell_type": "code",
      "execution_count": 6,
      "metadata": {
        "colab": {
          "base_uri": "https://localhost:8080/"
        },
        "id": "NzZl123NOine",
        "outputId": "cca372d6-00a7-4c5b-f976-e10401c0065c"
      },
      "outputs": [
        {
          "name": "stdout",
          "output_type": "stream",
          "text": [
            "35.2 ms ± 184 μs per loop (mean ± std. dev. of 7 runs, 10 loops each)\n"
          ]
        }
      ],
      "source": [
        "%%timeit\n",
        "df.loc[:,'distance_from_macss'] = df[['longitude', 'latitude']] \\\n",
        "                                    .apply(lambda x: aot.distance(\n",
        "                                        x.longitude,\n",
        "                                        x.latitude,\n",
        "                                        macss['longitude'],\n",
        "                                        macss['latitude']),\n",
        "                                      axis=1)\n",
        "# faster looping, but still looping"
      ]
    },
    {
      "cell_type": "code",
      "execution_count": 7,
      "metadata": {
        "colab": {
          "base_uri": "https://localhost:8080/"
        },
        "id": "ahUoKAZaJRRo",
        "outputId": "9fc2af83-9b38-4731-f023-2ba2723dcf97"
      },
      "outputs": [
        {
          "name": "stdout",
          "output_type": "stream",
          "text": [
            "37.3 ms ± 147 μs per loop (mean ± std. dev. of 7 runs, 10 loops each)\n"
          ]
        }
      ],
      "source": [
        "%%timeit\n",
        "distance_lst = []\n",
        "for lon, lat in df[['longitude', 'latitude']].values:\n",
        "  dist = distance(lon,\n",
        "                  lat,\n",
        "                  macss['longitude'],\n",
        "                  macss['latitude'])\n",
        "  distance_lst.append(dist)\n",
        "df.loc[:,'distance_from_macss'] = distance_lst\n",
        "# see that this solution is essentially the same!"
      ]
    },
    {
      "cell_type": "markdown",
      "metadata": {
        "id": "JB3phciKYY5U"
      },
      "source": [
        "When you're working with `numpy` or `pandas` arrays it's generally better to to take advantage of their capacity for parallel vector processing (up to the capabilities of your CPU). The built-in `numpy` functions in our distance function, for instance, will all take both scalars and vectors as input and be able to perform vectorized operations on multiple elements of our arrays in parallel. For instance, even without compiling our code with `numba`, we see ~50x speedup simply by using existing `numpy` functionality:"
      ]
    },
    {
      "cell_type": "code",
      "execution_count": 8,
      "metadata": {
        "colab": {
          "base_uri": "https://localhost:8080/"
        },
        "id": "6aM6TxmANdfL",
        "outputId": "4da6f30c-8fb1-46b4-9b09-96e8e0d4049d"
      },
      "outputs": [
        {
          "name": "stdout",
          "output_type": "stream",
          "text": [
            "2.57 ms ± 135 µs per loop (mean ± std. dev. of 7 runs, 100 loops each)\n"
          ]
        }
      ],
      "source": [
        "%%timeit\n",
        "df.loc[:,'distance_from_macss'] = distance(df.longitude, \n",
        "                                           df.latitude,                  \n",
        "                                           macss['longitude'],\n",
        "                                           macss['latitude'])"
      ]
    },
    {
      "cell_type": "markdown",
      "metadata": {
        "id": "4rbq0YE5Zl1t"
      },
      "source": [
        "Our `numba` pre-compiled solution is even faster, for the reasons discussed last week:"
      ]
    },
    {
      "cell_type": "code",
      "execution_count": 9,
      "metadata": {
        "colab": {
          "base_uri": "https://localhost:8080/"
        },
        "id": "FaP8wkbyO8cG",
        "outputId": "a4ed6f6f-8416-4e18-e8bb-7a0c38fa377f"
      },
      "outputs": [
        {
          "name": "stdout",
          "output_type": "stream",
          "text": [
            "703 µs ± 39.6 µs per loop (mean ± std. dev. of 7 runs, 1000 loops each)\n"
          ]
        }
      ],
      "source": [
        "%%timeit\n",
        "# note `.values`! Numba doesn't accept Pandas objects (but NumPy is OK)\n",
        "df.loc[:,'distance_from_macss'] = aot.distance_v(df.longitude.values, \n",
        "                                                 df.latitude.values,                  \n",
        "                                                 macss['longitude'],\n",
        "                                                 macss['latitude'])"
      ]
    },
    {
      "cell_type": "markdown",
      "metadata": {
        "id": "YJXG85NLouXF"
      },
      "source": [
        "As mentioned above, the main reason for our vector processing speedup is that our computation involved a lot of predefined NumPy functions that are already compiled for us to perform these operations via vector processing.\n",
        "\n",
        "Note, for instance that `np.sin` (one of the functions we used) is a \"Universal Function\" (`ufunc`):"
      ]
    },
    {
      "cell_type": "code",
      "execution_count": 10,
      "metadata": {
        "colab": {
          "base_uri": "https://localhost:8080/"
        },
        "id": "_eo82EuuwfNV",
        "outputId": "c925fa32-a4fd-4f9e-838d-3f546b86f0b4"
      },
      "outputs": [
        {
          "data": {
            "text/plain": [
              "numpy.ufunc"
            ]
          },
          "execution_count": 10,
          "metadata": {},
          "output_type": "execute_result"
        }
      ],
      "source": [
        "type(np.sin)"
      ]
    },
    {
      "cell_type": "markdown",
      "metadata": {
        "id": "TaJLHtYu4tmP"
      },
      "source": [
        "If we want to compile our own `ufunc`s to perform vectorized operations on NumPy arrays, `numba` includes a `@vectorize` decorator as well that will compile a `ufunc` for us. This can be useful if our particular application is not supported by the existing set of `numpy` universal function.\n",
        "\n",
        "Let's write a `ufunc`, for instance, that checks a variety of conditions in our dataset and assigns categorical labels to postings based on whether they match the expected conditions or not:"
      ]
    },
    {
      "cell_type": "code",
      "execution_count": 8,
      "metadata": {
        "colab": {
          "base_uri": "https://localhost:8080/",
          "height": 238
        },
        "id": "9kV_c86sdyDS",
        "outputId": "e046db3c-bf48-46f0-b8cf-7d846f25c3ab"
      },
      "outputs": [
        {
          "data": {
            "text/html": [
              "<div>\n",
              "<style scoped>\n",
              "    .dataframe tbody tr th:only-of-type {\n",
              "        vertical-align: middle;\n",
              "    }\n",
              "\n",
              "    .dataframe tbody tr th {\n",
              "        vertical-align: top;\n",
              "    }\n",
              "\n",
              "    .dataframe thead th {\n",
              "        text-align: right;\n",
              "    }\n",
              "</style>\n",
              "<table border=\"1\" class=\"dataframe\">\n",
              "  <thead>\n",
              "    <tr style=\"text-align: right;\">\n",
              "      <th></th>\n",
              "      <th>host_id</th>\n",
              "      <th>number_of_reviews</th>\n",
              "      <th>condition</th>\n",
              "    </tr>\n",
              "  </thead>\n",
              "  <tbody>\n",
              "    <tr>\n",
              "      <th>0</th>\n",
              "      <td>2613</td>\n",
              "      <td>182</td>\n",
              "      <td>1</td>\n",
              "    </tr>\n",
              "    <tr>\n",
              "      <th>1</th>\n",
              "      <td>5775</td>\n",
              "      <td>395</td>\n",
              "      <td>0</td>\n",
              "    </tr>\n",
              "    <tr>\n",
              "      <th>2</th>\n",
              "      <td>17928</td>\n",
              "      <td>394</td>\n",
              "      <td>1</td>\n",
              "    </tr>\n",
              "    <tr>\n",
              "      <th>3</th>\n",
              "      <td>33004</td>\n",
              "      <td>54</td>\n",
              "      <td>1</td>\n",
              "    </tr>\n",
              "    <tr>\n",
              "      <th>4</th>\n",
              "      <td>33004</td>\n",
              "      <td>22</td>\n",
              "      <td>2</td>\n",
              "    </tr>\n",
              "    <tr>\n",
              "      <th>5</th>\n",
              "      <td>40731</td>\n",
              "      <td>9</td>\n",
              "      <td>2</td>\n",
              "    </tr>\n",
              "  </tbody>\n",
              "</table>\n",
              "</div>"
            ],
            "text/plain": [
              "   host_id  number_of_reviews  condition\n",
              "0     2613                182          1\n",
              "1     5775                395          0\n",
              "2    17928                394          1\n",
              "3    33004                 54          1\n",
              "4    33004                 22          2\n",
              "5    40731                  9          2"
            ]
          },
          "execution_count": 8,
          "metadata": {},
          "output_type": "execute_result"
        }
      ],
      "source": [
        "@vectorize(['i8(i8,i8)'])\n",
        "def check_conditions_v(id, number_of_reviews):\n",
        "    check_lst = set([i for i in range(5700, 5800)])\n",
        "    if (id in check_lst) and (number_of_reviews > 50):\n",
        "      return 0\n",
        "    elif (number_of_reviews > 50):\n",
        "      return 1\n",
        "    return 2\n",
        "\n",
        "df.loc[:, 'condition'] = check_conditions_v(df.host_id, df.number_of_reviews)\n",
        "df.loc[:5, ['host_id', 'number_of_reviews', 'condition']]"
      ]
    },
    {
      "cell_type": "markdown",
      "metadata": {
        "id": "2zN--AXfIwfe"
      },
      "source": [
        "## \"Multithreading\" in `numba`\n",
        "\n",
        "`numba` allows us to achieve additional parallelism via optional multithreading capabilities. In Colab, we can check and see that we do have access to a minimal amount of parallelism via multithreading (two threads!) to demonstrate:"
      ]
    },
    {
      "cell_type": "code",
      "execution_count": 9,
      "metadata": {
        "colab": {
          "base_uri": "https://localhost:8080/"
        },
        "id": "qeqzClAJ4n4P",
        "outputId": "9e88453d-27e7-4687-8c8b-9c1704674194"
      },
      "outputs": [
        {
          "data": {
            "text/plain": [
              "8"
            ]
          },
          "execution_count": 9,
          "metadata": {},
          "output_type": "execute_result"
        }
      ],
      "source": [
        "from numba import get_num_threads\n",
        "get_num_threads()"
      ]
    },
    {
      "cell_type": "markdown",
      "metadata": {
        "id": "CvpCf15bQNWN"
      },
      "source": [
        "In the context of vector processing, we can split up our input array into smaller arrays which are assigned to different threads to execute in parallel. This can be achieved simply by setting our compilation target to 'parallel' in the `vectorize` decorator:"
      ]
    },
    {
      "cell_type": "code",
      "execution_count": 10,
      "metadata": {
        "id": "Xy7MLsTLO_Ch"
      },
      "outputs": [],
      "source": [
        "@vectorize(['i8(i8,i8)'], target='parallel')\n",
        "def check_conditions_v_mt(id, number_of_reviews):\n",
        "    check_lst = set([i for i in range(5700, 5800)])\n",
        "    if (id in check_lst) and (number_of_reviews > 50):\n",
        "      return 0\n",
        "    elif (number_of_reviews > 50):\n",
        "      return 1\n",
        "    return 2"
      ]
    },
    {
      "cell_type": "markdown",
      "metadata": {
        "id": "R9kcoCvIQkIt"
      },
      "source": [
        "Let's test to see how our vectorized version of the function compares to our vectorized + multithreaded version (increasing data size so that the difference is more distinguishable):"
      ]
    },
    {
      "cell_type": "code",
      "execution_count": 11,
      "metadata": {
        "colab": {
          "base_uri": "https://localhost:8080/"
        },
        "id": "Efhi7yiCH8wa",
        "outputId": "cb6a68de-e2fc-4776-acf8-06d7a1170784"
      },
      "outputs": [
        {
          "name": "stdout",
          "output_type": "stream",
          "text": [
            "1.22 s ± 716 μs per loop (mean ± std. dev. of 7 runs, 1 loop each)\n",
            "195 ms ± 9.16 ms per loop (mean ± std. dev. of 7 runs, 10 loops each)\n"
          ]
        }
      ],
      "source": [
        "# increase data size \n",
        "host_ids = np.tile(df.host_id.values, 200)\n",
        "num_reviews = np.tile(df.number_of_reviews.values, 200)\n",
        "\n",
        "# compare original runtime\n",
        "%timeit check_conditions_v(host_ids, num_reviews)\n",
        "# to multi-threading version\n",
        "%timeit check_conditions_v_mt(host_ids, num_reviews)"
      ]
    },
    {
      "cell_type": "markdown",
      "metadata": {
        "id": "oCFGSCMfRf_B"
      },
      "source": [
        "\n",
        "We see a slight speedup even here in Colab, but we are working on limited resources, so it is not too dramatic. However, working on 8 threads (2 threads per physical CPU core) on my local machine, you can see a significant performance boost via multithreading:\n",
        "\n",
        "```ipython\n",
        "In [38]: # compare original runtime\n",
        "    ...: %timeit check_conditions_v(host_ids, num_reviews)\n",
        "    ...: # to multi-threading version\n",
        "    ...: %timeit check_conditions_v_mt(host_ids, num_reviews)\n",
        "1.27 s ± 103 ms per loop (mean ± std. dev. of 7 runs, 1 loop each)\n",
        "566 ms ± 5.04 ms per loop (mean ± std. dev. of 7 runs, 1 loop each)\n",
        "```\n",
        "\n",
        "Note that we can also use `numba` to automatically parallelize loops for us via multithreading. Let's assume, for instance, that we are working on a dataset with over 60m records (increasing the size of our dataset again to more easily distinguish performance differences across versions of our functions) and we want to (log) transform all of the distances we've computed and then compute the average distance of all postings from the MACSS building.\n",
        "\n",
        "In `numpy`, we could compute this statistic like so:"
      ]
    },
    {
      "cell_type": "code",
      "execution_count": 12,
      "metadata": {
        "colab": {
          "base_uri": "https://localhost:8080/"
        },
        "id": "QKl9U4qWy1qm",
        "outputId": "6f0a1772-0221-4e61-eb56-fb62b0caf913"
      },
      "outputs": [
        {
          "data": {
            "text/plain": [
              "63860000"
            ]
          },
          "execution_count": 12,
          "metadata": {},
          "output_type": "execute_result"
        }
      ],
      "source": [
        "distances = np.tile(df.distance_from_macss.values, 10000)\n",
        "len(distances)"
      ]
    },
    {
      "cell_type": "code",
      "execution_count": 13,
      "metadata": {
        "colab": {
          "base_uri": "https://localhost:8080/"
        },
        "id": "zZS7F8JD2yov",
        "outputId": "b093ffc1-42c8-4390-a971-13b5c4e50df9"
      },
      "outputs": [
        {
          "name": "stdout",
          "output_type": "stream",
          "text": [
            "257 ms ± 13.6 ms per loop (mean ± std. dev. of 7 runs, 1 loop each)\n"
          ]
        }
      ],
      "source": [
        "%timeit np.log(distances).sum() / len(distances)"
      ]
    },
    {
      "cell_type": "markdown",
      "metadata": {
        "id": "GzOoBZlLTapf"
      },
      "source": [
        "The time it takes to run this code is similar to compiling a function to do the same in `nopython` mode in `numba` (utilizing vector processing on one thread):"
      ]
    },
    {
      "cell_type": "code",
      "execution_count": 14,
      "metadata": {
        "colab": {
          "base_uri": "https://localhost:8080/"
        },
        "id": "P2N88m8c4Q-i",
        "outputId": "ba768d5b-c112-49ba-8c40-369f467927ec"
      },
      "outputs": [
        {
          "name": "stdout",
          "output_type": "stream",
          "text": [
            "291 ms ± 2.39 ms per loop (mean ± std. dev. of 7 runs, 1 loop each)\n"
          ]
        }
      ],
      "source": [
        "@jit(nopython=True)\n",
        "def average_log_distance_from_macss(distance_from_macss):\n",
        "  size = len(distance_from_macss)\n",
        "  transformed_dist = np.log(distance_from_macss)\n",
        "  sum_d = 0\n",
        "\n",
        "  for i in range(size):\n",
        "    sum_d += transformed_dist[i]\n",
        "  \n",
        "  avg = sum_d / size\n",
        "  return avg\n",
        "\n",
        "%timeit average_log_distance_from_macss(distances)"
      ]
    },
    {
      "cell_type": "markdown",
      "metadata": {
        "id": "W1ebwzeRUPcg"
      },
      "source": [
        "`numba` can parallelize such functions for us by setting `parallel=True` and replacing `range` in our loop definition with `prange` to explicitly parallelize our loop iterations across available threads:"
      ]
    },
    {
      "cell_type": "code",
      "execution_count": 16,
      "metadata": {
        "colab": {
          "base_uri": "https://localhost:8080/"
        },
        "id": "nIfXarefkGAK",
        "outputId": "bd0bd9c9-c013-4cbd-add2-40b323661b55"
      },
      "outputs": [
        {
          "name": "stdout",
          "output_type": "stream",
          "text": [
            "35.8 ms ± 2.6 ms per loop (mean ± std. dev. of 7 runs, 1 loop each)\n"
          ]
        }
      ],
      "source": [
        "@jit(nopython=True, parallel=True)\n",
        "def average_log_distance_from_macss_mt(distance_from_macss):\n",
        "  size = len(distance_from_macss)\n",
        "  transformed_dist = np.log(distance_from_macss)\n",
        "  sum_d = 0\n",
        "\n",
        "  # note the use `prange` instead of `range` to explicitly parallelize loop\n",
        "  # across threads\n",
        "  for i in prange(size):\n",
        "    sum_d += transformed_dist[i]\n",
        "  \n",
        "  avg = sum_d / size\n",
        "  return avg\n",
        "\n",
        "%timeit average_log_distance_from_macss_mt(distances)"
      ]
    },
    {
      "cell_type": "markdown",
      "metadata": {
        "id": "jkPl9_37Uu7l"
      },
      "source": [
        "...resulting in a speedup even over the original `numpy` solution. If we use the built-in parallel diagnostics method for our function, we can see that `numba` achieves this speedup by inferring which steps in our code can be performed together and \"fusing\" the parallel code together for execution:"
      ]
    },
    {
      "cell_type": "code",
      "execution_count": 17,
      "metadata": {
        "colab": {
          "base_uri": "https://localhost:8080/"
        },
        "id": "V7hIvrR3Qguu",
        "outputId": "a8876003-b538-4a0b-ddf9-ef4d0e51243f"
      },
      "outputs": [
        {
          "name": "stdout",
          "output_type": "stream",
          "text": [
            " \n",
            "================================================================================\n",
            " Parallel Accelerator Optimizing:  Function average_log_distance_from_macss_mt, \n",
            "/var/folders/11/qx8t9mx577s1vr7n1wmm37th0000gn/T/ipykernel_76624/100908687.py \n",
            "(1)  \n",
            "================================================================================\n",
            "\n",
            "\n",
            "Parallel loop listing for  Function average_log_distance_from_macss_mt, /var/folders/11/qx8t9mx577s1vr7n1wmm37th0000gn/T/ipykernel_76624/100908687.py (1) \n",
            "-------------------------------------------------------------------------------|loop #ID\n",
            "@jit(nopython=True, parallel=True)                                             | \n",
            "def average_log_distance_from_macss_mt(distance_from_macss):                   | \n",
            "  size = len(distance_from_macss)                                              | \n",
            "  transformed_dist = np.log(distance_from_macss)-------------------------------| #0\n",
            "  sum_d = 0                                                                    | \n",
            "                                                                               | \n",
            "  # note the use `prange` instead of `range` to explicitly parallelize loop    | \n",
            "  # across threads                                                             | \n",
            "  for i in prange(size):-------------------------------------------------------| #1\n",
            "    sum_d += transformed_dist[i]                                               | \n",
            "                                                                               | \n",
            "  avg = sum_d / size                                                           | \n",
            "  return avg                                                                   | \n",
            "------------------------------ After Optimisation ------------------------------\n",
            "Parallel region 0:\n",
            "+--0 (parallel, fused with loop(s): 1)\n",
            "\n",
            "\n",
            " \n",
            "Parallel region 0 (loop #0) had 1 loop(s) fused.\n",
            "--------------------------------------------------------------------------------\n",
            "--------------------------------------------------------------------------------\n",
            " \n"
          ]
        }
      ],
      "source": [
        "average_log_distance_from_macss_mt.parallel_diagnostics()"
      ]
    }
  ],
  "metadata": {
    "colab": {
      "provenance": []
    },
    "kernelspec": {
      "display_name": "macs30100",
      "language": "python",
      "name": "python3"
    },
    "language_info": {
      "codemirror_mode": {
        "name": "ipython",
        "version": 3
      },
      "file_extension": ".py",
      "mimetype": "text/x-python",
      "name": "python",
      "nbconvert_exporter": "python",
      "pygments_lexer": "ipython3",
      "version": "3.12.2"
    }
  },
  "nbformat": 4,
  "nbformat_minor": 0
}
