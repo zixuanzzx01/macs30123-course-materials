{
 "cells": [
  {
   "cell_type": "markdown",
   "metadata": {},
   "source": [
    "# Machine Learning with PySpark on an EMR Cluster\n",
    "\n",
    "In this notebook, we'll explore how you can use your PySpark coding skills to train a machine learning model on the [NYC Taxi Trip Record dataset on S3](https://registry.opendata.aws/nyc-tlc-trip-records-pds/). Note that this notebook is meant to be run on an EMR cluster, using a PySpark kernel.\n",
    "\n",
    "First (after configuring our PySpark environment), let's load the data from S3 into our Spark session and install a few relevant libraries. The taxi data is spread across multiple parquet files, so we use the wildcard (\\*) to indicate that we want the data from all of the files in a date range to be included within our dataframe, spread out over our EMR cluster in partitions. Here, we're going to be working with data from 2015, but we could specify other date ranges as well (going back to 2009) if we wanted to do so. We would just want to make sure our EMR cluster was big enough to efficiently work with all of the data."
   ]
  },
  {
   "cell_type": "code",
   "execution_count": 1,
   "metadata": {},
   "outputs": [
    {
     "data": {
      "text/html": [
       "Current session configs: <tt>{'conf': {'spark.pyspark.python': 'python3', 'spark.pyspark.virtualenv.enabled': 'true', 'spark.pyspark.virtualenv.type': 'native', 'spark.pyspark.virtualenv.bin.path': '/usr/bin/virtualenv'}, 'proxyUser': 'jovyan', 'kind': 'pyspark'}</tt><br>"
      ],
      "text/plain": [
       "<IPython.core.display.HTML object>"
      ]
     },
     "metadata": {},
     "output_type": "display_data"
    },
    {
     "data": {
      "text/html": [
       "No active sessions."
      ],
      "text/plain": [
       "<IPython.core.display.HTML object>"
      ]
     },
     "metadata": {},
     "output_type": "display_data"
    }
   ],
   "source": [
    "%%configure -f\n",
    "{\n",
    "    \"conf\": {\n",
    "        \"spark.pyspark.python\": \"python3\",\n",
    "        \"spark.pyspark.virtualenv.enabled\": \"true\",\n",
    "        \"spark.pyspark.virtualenv.type\":\"native\",\n",
    "        \"spark.pyspark.virtualenv.bin.path\":\"/usr/bin/virtualenv\"\n",
    "    }\n",
    "}"
   ]
  },
  {
   "cell_type": "code",
   "execution_count": null,
   "metadata": {
    "scrolled": true
   },
   "outputs": [
    {
     "name": "stdout",
     "output_type": "stream",
     "text": [
      "Starting Spark application\n"
     ]
    },
    {
     "data": {
      "text/html": [
       "<table>\n",
       "<tr><th>ID</th><th>YARN Application ID</th><th>Kind</th><th>State</th><th>Spark UI</th><th>Driver log</th><th>Current session?</th></tr><tr><td>2</td><td>application_1714403316049_0006</td><td>pyspark</td><td>idle</td><td><a target=\"_blank\" href=\"http://ip-172-31-19-4.ec2.internal:20888/proxy/application_1714403316049_0006/\">Link</a></td><td><a target=\"_blank\" href=\"http://ip-172-31-25-113.ec2.internal:8042/node/containerlogs/container_1714403316049_0006_01_000001/livy\">Link</a></td><td>✔</td></tr></table>"
      ],
      "text/plain": [
       "<IPython.core.display.HTML object>"
      ]
     },
     "metadata": {},
     "output_type": "display_data"
    },
    {
     "data": {
      "application/vnd.jupyter.widget-view+json": {
       "model_id": "",
       "version_major": 2,
       "version_minor": 0
      },
      "text/plain": [
       "FloatProgress(value=0.0, bar_style='info', description='Progress:', layout=Layout(height='25px', width='50%'),…"
      ]
     },
     "metadata": {},
     "output_type": "display_data"
    },
    {
     "name": "stdout",
     "output_type": "stream",
     "text": [
      "SparkSession available as 'spark'.\n"
     ]
    },
    {
     "data": {
      "application/vnd.jupyter.widget-view+json": {
       "model_id": "",
       "version_major": 2,
       "version_minor": 0
      },
      "text/plain": [
       "FloatProgress(value=0.0, bar_style='info', description='Progress:', layout=Layout(height='25px', width='50%'),…"
      ]
     },
     "metadata": {},
     "output_type": "display_data"
    },
    {
     "name": "stdout",
     "output_type": "stream",
     "text": [
      "Collecting pandas==1.0.5\n",
      "  Using cached https://files.pythonhosted.org/packages/af/f3/683bf2547a3eaeec15b39cef86f61e921b3b187f250fcd2b5c5fb4386369/pandas-1.0.5-cp37-cp37m-manylinux1_x86_64.whl\n",
      "Requirement already satisfied: numpy>=1.13.3 in /usr/local/lib64/python3.7/site-packages (from pandas==1.0.5)\n",
      "Collecting python-dateutil>=2.6.1 (from pandas==1.0.5)\n",
      "  Using cached https://files.pythonhosted.org/packages/ec/57/56b9bcc3c9c6a792fcbaf139543cee77261f3651ca9da0c93f5c1221264b/python_dateutil-2.9.0.post0-py2.py3-none-any.whl\n",
      "Requirement already satisfied: pytz>=2017.2 in /usr/local/lib/python3.7/site-packages (from pandas==1.0.5)\n",
      "Requirement already satisfied: six>=1.5 in /usr/local/lib/python3.7/site-packages (from python-dateutil>=2.6.1->pandas==1.0.5)\n",
      "Installing collected packages: python-dateutil, pandas\n",
      "Successfully installed pandas-1.0.5 python-dateutil-2.9.0.post0\n",
      "\n",
      "Collecting scipy==1.4.1\n",
      "  Using cached https://files.pythonhosted.org/packages/dd/82/c1fe128f3526b128cfd185580ba40d01371c5d299fcf7f77968e22dfcc2e/scipy-1.4.1-cp37-cp37m-manylinux1_x86_64.whl\n",
      "Requirement already satisfied: numpy>=1.13.3 in /usr/local/lib64/python3.7/site-packages (from scipy==1.4.1)\n",
      "Installing collected packages: scipy\n",
      "Successfully installed scipy-1.4.1\n",
      "\n",
      "Collecting matplotlib==3.2.1\n",
      "  Using cached https://files.pythonhosted.org/packages/b2/c2/71fcf957710f3ba1f09088b35776a799ba7dd95f7c2b195ec800933b276b/matplotlib-3.2.1-cp37-cp37m-manylinux1_x86_64.whl\n",
      "Collecting pyparsing!=2.0.4,!=2.1.2,!=2.1.6,>=2.0.1 (from matplotlib==3.2.1)\n",
      "  Using cached https://files.pythonhosted.org/packages/9d/ea/6d76df31432a0e6fdf81681a895f009a4bb47b3c39036db3e1b528191d52/pyparsing-3.1.2-py3-none-any.whl\n",
      "Requirement already satisfied: python-dateutil>=2.1 in /mnt/tmp/1714404835554-0/lib/python3.7/site-packages (from matplotlib==3.2.1)\n",
      "Requirement already satisfied: numpy>=1.11 in /usr/local/lib64/python3.7/site-packages (from matplotlib==3.2.1)\n",
      "Collecting cycler>=0.10 (from matplotlib==3.2.1)\n",
      "  Using cached https://files.pythonhosted.org/packages/5c/f9/695d6bedebd747e5eb0fe8fad57b72fdf25411273a39791cde838d5a8f51/cycler-0.11.0-py3-none-any.whl\n",
      "Collecting kiwisolver>=1.0.1 (from matplotlib==3.2.1)\n",
      "  Using cached https://files.pythonhosted.org/packages/f9/77/e3046bf19720b22e3e0b7c12e28f6f2c0c18a213fb91a56cea640862270f/kiwisolver-1.4.5-cp37-cp37m-manylinux_2_5_x86_64.manylinux1_x86_64.whl\n",
      "Requirement already satisfied: six>=1.5 in /usr/local/lib/python3.7/site-packages (from python-dateutil>=2.1->matplotlib==3.2.1)\n",
      "Collecting typing-extensions; python_version < \"3.8\" (from kiwisolver>=1.0.1->matplotlib==3.2.1)\n",
      "  Using cached https://files.pythonhosted.org/packages/ec/6b/63cc3df74987c36fe26157ee12e09e8f9db4de771e0f3404263117e75b95/typing_extensions-4.7.1-py3-none-any.whl\n",
      "Installing collected packages: pyparsing, cycler, typing-extensions, kiwisolver, matplotlib\n",
      "Successfully installed cycler-0.11.0 kiwisolver-1.4.5 matplotlib-3.2.1 pyparsing-3.1.2 typing-extensions-4.7.1"
     ]
    }
   ],
   "source": [
    "sc.install_pypi_package(\"pandas==1.0.5\", \"https://pypi.org/simple\")\n",
    "sc.install_pypi_package(\"scipy==1.4.1\", \"https://pypi.org/simple\")\n",
    "sc.install_pypi_package(\"matplotlib==3.2.1\", \"https://pypi.org/simple\")"
   ]
  },
  {
   "cell_type": "code",
   "execution_count": null,
   "metadata": {},
   "outputs": [
    {
     "data": {
      "application/vnd.jupyter.widget-view+json": {
       "model_id": "",
       "version_major": 2,
       "version_minor": 0
      },
      "text/plain": [
       "FloatProgress(value=0.0, bar_style='info', description='Progress:', layout=Layout(height='25px', width='50%'),…"
      ]
     },
     "metadata": {},
     "output_type": "display_data"
    }
   ],
   "source": [
    "import pyspark.sql.functions as F\n",
    "from pyspark.ml.classification import LogisticRegression\n",
    "from pyspark.ml.regression import LinearRegression\n",
    "from pyspark.ml.evaluation import RegressionEvaluator\n",
    "from pyspark.ml.feature import VectorAssembler\n",
    "import matplotlib.pyplot as plt\n",
    "\n",
    "data = spark.read.parquet('s3://css-uchicago/nyc-tlc/trip_data/yellow_tripdata_2015*.parquet')"
   ]
  },
  {
   "cell_type": "markdown",
   "metadata": {},
   "source": [
    "Now that we have our data loaded in a DataFrame, let's take a look at its structure and contents. We can see that there is a lot of data here (146 million rows, which amounts to around 2 GB worth of compressed parquet data), but this is a small subset of the (\\~26 GB) Yellow Cab dataset and the overall data from all ride shares, etc. (\\~54 GB)."
   ]
  },
  {
   "cell_type": "code",
   "execution_count": 4,
   "metadata": {},
   "outputs": [
    {
     "data": {
      "application/vnd.jupyter.widget-view+json": {
       "model_id": "",
       "version_major": 2,
       "version_minor": 0
      },
      "text/plain": [
       "FloatProgress(value=0.0, bar_style='info', description='Progress:', layout=Layout(height='25px', width='50%'),…"
      ]
     },
     "metadata": {},
     "output_type": "display_data"
    },
    {
     "name": "stdout",
     "output_type": "stream",
     "text": [
      "Total Columns: 19\n",
      "Total Rows: 146039231\n",
      "root\n",
      " |-- VendorID: long (nullable = true)\n",
      " |-- tpep_pickup_datetime: timestamp (nullable = true)\n",
      " |-- tpep_dropoff_datetime: timestamp (nullable = true)\n",
      " |-- passenger_count: long (nullable = true)\n",
      " |-- trip_distance: double (nullable = true)\n",
      " |-- RatecodeID: long (nullable = true)\n",
      " |-- store_and_fwd_flag: string (nullable = true)\n",
      " |-- PULocationID: long (nullable = true)\n",
      " |-- DOLocationID: long (nullable = true)\n",
      " |-- payment_type: long (nullable = true)\n",
      " |-- fare_amount: double (nullable = true)\n",
      " |-- extra: double (nullable = true)\n",
      " |-- mta_tax: double (nullable = true)\n",
      " |-- tip_amount: double (nullable = true)\n",
      " |-- tolls_amount: double (nullable = true)\n",
      " |-- improvement_surcharge: double (nullable = true)\n",
      " |-- total_amount: double (nullable = true)\n",
      " |-- congestion_surcharge: integer (nullable = true)\n",
      " |-- airport_fee: integer (nullable = true)"
     ]
    }
   ],
   "source": [
    "print('Total Columns: %d' % len(data.dtypes))\n",
    "print('Total Rows: %d' % data.count())\n",
    "data.printSchema()"
   ]
  },
  {
   "cell_type": "markdown",
   "metadata": {},
   "source": [
    "And we can also see that each row in the dataset is an individual trip, followed by data about that trip:"
   ]
  },
  {
   "cell_type": "code",
   "execution_count": 5,
   "metadata": {},
   "outputs": [
    {
     "data": {
      "application/vnd.jupyter.widget-view+json": {
       "model_id": "",
       "version_major": 2,
       "version_minor": 0
      },
      "text/plain": [
       "FloatProgress(value=0.0, bar_style='info', description='Progress:', layout=Layout(height='25px', width='50%'),…"
      ]
     },
     "metadata": {},
     "output_type": "display_data"
    },
    {
     "name": "stdout",
     "output_type": "stream",
     "text": [
      "+--------------------+-----------+----------+\n",
      "|tpep_pickup_datetime|fare_amount|tip_amount|\n",
      "+--------------------+-----------+----------+\n",
      "| 2015-01-01 00:11:33|        5.7|       1.4|\n",
      "| 2015-01-01 00:18:24|        6.0|       0.0|\n",
      "| 2015-01-01 00:26:19|       13.2|       2.9|\n",
      "| 2015-01-01 00:45:26|        8.2|      2.37|\n",
      "| 2015-01-01 00:59:21|        6.0|       0.0|\n",
      "| 2015-01-01 00:07:31|        5.0|       0.0|\n",
      "| 2015-01-01 00:47:08|        7.0|       0.0|\n",
      "| 2015-01-01 00:58:04|       12.2|       2.7|\n",
      "| 2015-01-01 00:29:25|        7.0|       0.0|\n",
      "| 2015-01-01 00:39:02|       18.0|       0.0|\n",
      "| 2015-01-01 00:06:44|        5.5|       0.0|\n",
      "| 2015-01-01 00:47:48|       11.7|       1.8|\n",
      "| 2015-01-01 00:29:23|       10.0|       0.0|\n",
      "| 2015-01-01 00:39:52|        4.0|      1.05|\n",
      "| 2015-01-01 00:57:41|        9.0|       0.0|\n",
      "| 2015-01-01 00:02:53|       17.7|       0.0|\n",
      "| 2015-01-01 00:18:38|       13.2|       2.9|\n",
      "| 2015-01-01 00:35:34|       18.2|       3.0|\n",
      "| 2015-01-01 00:16:45|        6.5|       0.0|\n",
      "| 2015-01-01 00:35:52|       13.5|       0.0|\n",
      "+--------------------+-----------+----------+\n",
      "only showing top 20 rows"
     ]
    }
   ],
   "source": [
    "data[['tpep_pickup_datetime', 'fare_amount', 'tip_amount']].show()"
   ]
  },
  {
   "cell_type": "markdown",
   "metadata": {},
   "source": [
    "Now, let's say that over the course of our exploratory data analysis, we found a pattern such as the following -- hinting that weekend riders tip less than weekday riders."
   ]
  },
  {
   "cell_type": "code",
   "execution_count": 6,
   "metadata": {},
   "outputs": [
    {
     "data": {
      "application/vnd.jupyter.widget-view+json": {
       "model_id": "",
       "version_major": 2,
       "version_minor": 0
      },
      "text/plain": [
       "FloatProgress(value=0.0, bar_style='info', description='Progress:', layout=Layout(height='25px', width='50%'),…"
      ]
     },
     "metadata": {},
     "output_type": "display_data"
    },
    {
     "name": "stdout",
     "output_type": "stream",
     "text": [
      "+-------+------------------+\n",
      "|weekend|   avg(tip_amount)|\n",
      "+-------+------------------+\n",
      "|      1|1.6500085049790578|\n",
      "|      0|1.7615030303421926|\n",
      "+-------+------------------+"
     ]
    }
   ],
   "source": [
    "data = data.withColumn('day_of_week', F.dayofweek(F.col('tpep_pickup_datetime'))) \\\n",
    "           .withColumn('weekend', F.col('day_of_week').isin({7, 1}).cast('integer'))\n",
    "           \n",
    "\n",
    "data.groupby('weekend') \\\n",
    "    .avg('tip_amount') \\\n",
    "    .show()"
   ]
  },
  {
   "cell_type": "markdown",
   "metadata": {},
   "source": [
    "We might then ask the question of how systematic this behavior is. To what extent does it being a weekend or not influence tip amount? \n",
    "\n",
    "The next step in our analysis might be to formally model this relationship and assess exactly how predictive weekend ridership is of diminished tip amount. For the rest of this notebook, we will train two simple, supervised machine learning models -- a linear regression model and a logistic regression model -- to do this using [Spark's MLlib library](https://spark.apache.org/docs/latest/ml-guide.html). MLlib has parallelized implementations of a wide variety of ML models and statistical tests in Spark for use with large data sources.\n",
    "\n",
    "First, though, let's get our data ready to train these models. Because, we're going to train a logistic regression classifier in addition to a linear regression model, for instance, we will need to create a column in our dataset that can be used to assess whether a tip amount is \"high\" (1) or \"low\" (0). For the purposes of this demonstration, we will make this distinction based on whether a tip is above or below the average tip amount for this year (which we can see is around \\$1.70):"
   ]
  },
  {
   "cell_type": "code",
   "execution_count": 7,
   "metadata": {},
   "outputs": [
    {
     "data": {
      "application/vnd.jupyter.widget-view+json": {
       "model_id": "",
       "version_major": 2,
       "version_minor": 0
      },
      "text/plain": [
       "FloatProgress(value=0.0, bar_style='info', description='Progress:', layout=Layout(height='25px', width='50%'),…"
      ]
     },
     "metadata": {},
     "output_type": "display_data"
    },
    {
     "name": "stdout",
     "output_type": "stream",
     "text": [
      "+-------+------------------+\n",
      "|summary|        tip_amount|\n",
      "+-------+------------------+\n",
      "|  count|         146038222|\n",
      "|   mean|1.7021448686214933|\n",
      "| stddev|2.5878873169832586|\n",
      "|    min|               0.0|\n",
      "|    max|           1603.05|\n",
      "+-------+------------------+"
     ]
    }
   ],
   "source": [
    "data.filter((F.col('tip_amount') >= 0) \n",
    "            & (F.col('tip_amount') < 2000)) \\\n",
    "    .describe(['tip_amount']) \\\n",
    "    .show()"
   ]
  },
  {
   "cell_type": "code",
   "execution_count": 8,
   "metadata": {},
   "outputs": [
    {
     "data": {
      "application/vnd.jupyter.widget-view+json": {
       "model_id": "",
       "version_major": 2,
       "version_minor": 0
      },
      "text/plain": [
       "FloatProgress(value=0.0, bar_style='info', description='Progress:', layout=Layout(height='25px', width='50%'),…"
      ]
     },
     "metadata": {},
     "output_type": "display_data"
    },
    {
     "name": "stdout",
     "output_type": "stream",
     "text": [
      "1.7021448686214933"
     ]
    }
   ],
   "source": [
    "# to get output as a float, take the first row in the resulting Spark DataFrame\n",
    "# and then extract the first (and only) element from that row\n",
    "tip_average = data.filter((F.col('tip_amount') >= 0) \n",
    "            & (F.col('tip_amount') < 2000)) \\\n",
    "    .agg(F.avg(F.col('tip_amount'))) \\\n",
    "    .first()[0]\n",
    "\n",
    "tip_average"
   ]
  },
  {
   "cell_type": "code",
   "execution_count": 9,
   "metadata": {},
   "outputs": [
    {
     "data": {
      "application/vnd.jupyter.widget-view+json": {
       "model_id": "",
       "version_major": 2,
       "version_minor": 0
      },
      "text/plain": [
       "FloatProgress(value=0.0, bar_style='info', description='Progress:', layout=Layout(height='25px', width='50%'),…"
      ]
     },
     "metadata": {},
     "output_type": "display_data"
    },
    {
     "name": "stdout",
     "output_type": "stream",
     "text": [
      "+--------+--------+\n",
      "|high_tip|   count|\n",
      "+--------+--------+\n",
      "|       1|55991792|\n",
      "|       0|90047439|\n",
      "+--------+--------+"
     ]
    }
   ],
   "source": [
    "# High == 1, Low == 0 (cast as integers so that pyspark.ml can understand them)\n",
    "data = data.withColumn('high_tip', \n",
    "                       (F.col('tip_amount') >= tip_average).cast(\"integer\"))\n",
    "\n",
    "# Take a look at how many high and low tips we have, respectively\n",
    "# Note that our data is a bit unbalanced -- ignoring for now, though\n",
    "data.groupBy('high_tip') \\\n",
    "     .count() \\\n",
    "     .show()"
   ]
  },
  {
   "cell_type": "markdown",
   "metadata": {},
   "source": [
    "Then, let's use the `VectorAssembler` to get our `weekend` feature into a form that `pyspark.ml` expects it to be in (as per the DataCamp tutorial)."
   ]
  },
  {
   "cell_type": "code",
   "execution_count": 10,
   "metadata": {},
   "outputs": [
    {
     "data": {
      "application/vnd.jupyter.widget-view+json": {
       "model_id": "",
       "version_major": 2,
       "version_minor": 0
      },
      "text/plain": [
       "FloatProgress(value=0.0, bar_style='info', description='Progress:', layout=Layout(height='25px', width='50%'),…"
      ]
     },
     "metadata": {},
     "output_type": "display_data"
    },
    {
     "name": "stdout",
     "output_type": "stream",
     "text": [
      "+----------+--------+-------+--------+\n",
      "|tip_amount|high_tip|weekend|features|\n",
      "+----------+--------+-------+--------+\n",
      "|       1.4|       0|      0|   [0.0]|\n",
      "|       0.0|       0|      0|   [0.0]|\n",
      "|       2.9|       1|      0|   [0.0]|\n",
      "|      2.37|       1|      0|   [0.0]|\n",
      "|       0.0|       0|      0|   [0.0]|\n",
      "+----------+--------+-------+--------+\n",
      "only showing top 5 rows"
     ]
    }
   ],
   "source": [
    "features = ['weekend']\n",
    "assembler = VectorAssembler(inputCols=features, outputCol='features')\n",
    "\n",
    "data = assembler.transform(data)\n",
    "data[['tip_amount', 'high_tip', 'weekend', 'features']].show(5)"
   ]
  },
  {
   "cell_type": "markdown",
   "metadata": {},
   "source": [
    "We're now ready to train our linear regression model (with `tip_amount` as our outcome) and logistic regression model (with `high_tip` as our outcome).\n",
    "\n",
    "Let's split up our data into training and test data and train our models on the training data. Note, for the sake of this demonstration, we are sampling a small fraction of our data (so that you don't need to use too large of an EMR cluster size to run this code). When you're testing a Machine Learning workflow, this can be effective strategy to make sure your code works before scaling up to the full dataset with a larger cluster (you can request up to 32 vCPUs to run concurrently in AWS Academy -- i.e. 1 m5.xlarge primary node and 7 m5.xlarge core nodes)."
   ]
  },
  {
   "cell_type": "code",
   "execution_count": 11,
   "metadata": {},
   "outputs": [
    {
     "data": {
      "application/vnd.jupyter.widget-view+json": {
       "model_id": "",
       "version_major": 2,
       "version_minor": 0
      },
      "text/plain": [
       "FloatProgress(value=0.0, bar_style='info', description='Progress:', layout=Layout(height='25px', width='50%'),…"
      ]
     },
     "metadata": {},
     "output_type": "display_data"
    },
    {
     "name": "stdout",
     "output_type": "stream",
     "text": [
      "True True"
     ]
    }
   ],
   "source": [
    "sampled_data = data.sample(fraction=0.001, seed=0)\n",
    "\n",
    "# split into train/test data\n",
    "train, test = sampled_data.randomSplit([0.8, 0.2], seed=0)\n",
    "\n",
    "# Persist data in memory to speed up I/O during training/testing\n",
    "train.persist()\n",
    "test.persist()\n",
    "\n",
    "# confirm they're cached\n",
    "print(train.is_cached, test.is_cached)"
   ]
  },
  {
   "cell_type": "markdown",
   "metadata": {},
   "source": [
    "We're then ready to train our models. Let's train our linear regression model first and print out some metrics to summarize the trained model (for more available metrics consult the documentation for the [LinearRegressionModel](https://spark.apache.org/docs/latest/api/python/reference/api/pyspark.ml.regression.LinearRegressionModel.html) and [LinearRegressionTrainingSummary](https://spark.apache.org/docs/latest/api/python/reference/api/pyspark.ml.regression.LinearRegressionTrainingSummary.html) classes ):"
   ]
  },
  {
   "cell_type": "code",
   "execution_count": 12,
   "metadata": {},
   "outputs": [
    {
     "data": {
      "application/vnd.jupyter.widget-view+json": {
       "model_id": "",
       "version_major": 2,
       "version_minor": 0
      },
      "text/plain": [
       "FloatProgress(value=0.0, bar_style='info', description='Progress:', layout=Layout(height='25px', width='50%'),…"
      ]
     },
     "metadata": {},
     "output_type": "display_data"
    },
    {
     "name": "stdout",
     "output_type": "stream",
     "text": [
      "Coefficients: [-0.2241609312902808]\n",
      "P-values (last number is intercept): [0.0, 0.0]"
     ]
    }
   ],
   "source": [
    "lir = LinearRegression(featuresCol='features', labelCol='tip_amount')\n",
    "lir_model = lir.fit(train)\n",
    "\n",
    "# Summarize trained model\n",
    "print(f'Coefficients: {lir_model.coefficients}')\n",
    "print(f'P-values (last number is intercept): {lir_model.summary.pValues}')"
   ]
  },
  {
   "cell_type": "markdown",
   "metadata": {},
   "source": [
    "We can then evaluate the performance of our model by making predictions using the features in our test data. You can consult the documentation for the [LinearRegressionSummary](https://spark.apache.org/docs/latest/api/python/reference/api/pyspark.ml.regression.LinearRegressionSummary.html) class for more detailed information on additional evaluation metrics."
   ]
  },
  {
   "cell_type": "code",
   "execution_count": 13,
   "metadata": {
    "vscode": {
     "languageId": "plaintext"
    }
   },
   "outputs": [
    {
     "data": {
      "application/vnd.jupyter.widget-view+json": {
       "model_id": "",
       "version_major": 2,
       "version_minor": 0
      },
      "text/plain": [
       "FloatProgress(value=0.0, bar_style='info', description='Progress:', layout=Layout(height='25px', width='50%'),…"
      ]
     },
     "metadata": {},
     "output_type": "display_data"
    },
    {
     "name": "stdout",
     "output_type": "stream",
     "text": [
      "Test RMSE: 2.6457794582943146"
     ]
    }
   ],
   "source": [
    "# Evaluate with test data using `evaluate` method\n",
    "lir_evaluation_summary = lir_model.evaluate(test)\n",
    "\n",
    "# Print out evaluation metrics like RMSE:\n",
    "print(f'Test RMSE: {lir_evaluation_summary.rootMeanSquaredError}')\n",
    "\n",
    "# Alternatively: make predictions and use RegressionEvaluator to do the same thing\n",
    "#lor_preds = lor_model.transform(test)\n",
    "#rmse = RegressionEvaluator(labelCol='duration', metricName='rmse').evaluate(preds)\n",
    "#print('Test RMSE: ', rmse)"
   ]
  },
  {
   "cell_type": "markdown",
   "metadata": {},
   "source": [
    "We can also train a logistic regression classifier to predict our binary feature `high_tip`. Let's train the model and evaluate the model with our test data using the same logic as above."
   ]
  },
  {
   "cell_type": "code",
   "execution_count": 14,
   "metadata": {},
   "outputs": [
    {
     "data": {
      "application/vnd.jupyter.widget-view+json": {
       "model_id": "",
       "version_major": 2,
       "version_minor": 0
      },
      "text/plain": [
       "FloatProgress(value=0.0, bar_style='info', description='Progress:', layout=Layout(height='25px', width='50%'),…"
      ]
     },
     "metadata": {},
     "output_type": "display_data"
    },
    {
     "name": "stdout",
     "output_type": "stream",
     "text": [
      "Training AUC: 0.5210225521219112\n",
      "Test AUC: 0.51607534540441\n",
      "\n",
      "False positive rate by label (Training):\n",
      "label 0: 1.0\n",
      "label 1: 0.0\n",
      "\n",
      "True positive rate by label (Training):\n",
      "label 0: 1.0\n",
      "label 1: 0.0\n",
      "\n",
      "Training Accuracy: 0.6155990052311122\n",
      "Test Accuracy: 0.6182869732855962"
     ]
    }
   ],
   "source": [
    "lor = LogisticRegression(featuresCol='features', labelCol='high_tip')\n",
    "lor_model = lor.fit(train)\n",
    "\n",
    "lor_training_summary = lor_model.summary\n",
    "lor_evaluation_summary = lor_model.evaluate(test)\n",
    "\n",
    "print('Training AUC: ' + str(lor_training_summary.areaUnderROC))\n",
    "print('Test AUC: ' + str(lor_evaluation_summary.areaUnderROC))\n",
    "\n",
    "print('\\nFalse positive rate by label (Training):')\n",
    "for i, rate in enumerate(lor_training_summary.falsePositiveRateByLabel):\n",
    "    print(f'label {i}: {rate}')\n",
    "\n",
    "print('\\nTrue positive rate by label (Training):')\n",
    "for i, rate in enumerate(lor_training_summary.truePositiveRateByLabel):\n",
    "    print(f'label {i}: {rate}')\n",
    "    \n",
    "print('\\nTraining Accuracy: ' + str(lor_training_summary.accuracy))\n",
    "print('Test Accuracy: ' + str(lor_evaluation_summary.accuracy))"
   ]
  },
  {
   "cell_type": "markdown",
   "metadata": {},
   "source": [
    "No surprise -- our logistic regression is not very good with only this one binary feature!\n",
    "\n",
    "Again, for additional metrics for summarizing and evaluating classifiers, consult the documentation for the [LogisticRegressionTrainingSummary](https://spark.apache.org/docs/latest/api/python/reference/api/pyspark.ml.classification.LogisticRegressionTrainingSummary.html) and [LogisticRegressionSummary](https://spark.apache.org/docs/latest/api/python/reference/api/pyspark.ml.classification.LogisticRegressionSummary.html) classes.\n",
    "\n",
    "If we want to, for instance, we can compute an ROC curve and plot it:"
   ]
  },
  {
   "cell_type": "code",
   "execution_count": 15,
   "metadata": {},
   "outputs": [
    {
     "data": {
      "application/vnd.jupyter.widget-view+json": {
       "model_id": "",
       "version_major": 2,
       "version_minor": 0
      },
      "text/plain": [
       "FloatProgress(value=0.0, bar_style='info', description='Progress:', layout=Layout(height='25px', width='50%'),…"
      ]
     },
     "metadata": {},
     "output_type": "display_data"
    },
    {
     "data": {
      "image/png": "[encoded data removed]",
      "text/plain": [
       "<IPython.core.display.Image object>"
      ]
     },
     "metadata": {},
     "output_type": "display_data"
    }
   ],
   "source": [
    "# Close previous plots; otherwise, will just overwrite and display again\n",
    "plt.close()\n",
    "\n",
    "# Get ROC curve and send it to Pandas so that we can plot it\n",
    "roc_df = lor_evaluation_summary.roc.toPandas()\n",
    "\n",
    "plt.plot(roc_df.FPR, roc_df.TPR, 'b',\n",
    "         label=f'AUC = {round(lor_evaluation_summary.areaUnderROC, 2)}')\n",
    "plt.legend(loc='lower right')\n",
    "plt.plot([0, 1], [0, 1],'r--')\n",
    "plt.xlim([0, 1])\n",
    "plt.ylim([0, 1])\n",
    "plt.ylabel('True Positive Rate')\n",
    "plt.xlabel('False Positive Rate')\n",
    "plt.title('ROC Curve')\n",
    "plt.show()\n",
    "\n",
    "%matplot plt"
   ]
  },
  {
   "cell_type": "markdown",
   "metadata": {},
   "source": [
    "Note that if we wanted to try several different combinations of hyperparameters for our model (i.e. \"tune\" the model), MLlib has built-in classes for [searching a hyperparameter grid via cross validation](https://spark.apache.org/docs/latest/ml-tuning.html#cross-validation) (in parallel on our cluster), which you also saw in the DataCamp tutorial assigned for today."
   ]
  }
 ],
 "metadata": {
  "kernelspec": {
   "display_name": "PySpark",
   "language": "",
   "name": "pysparkkernel"
  },
  "language_info": {
   "codemirror_mode": {
    "name": "python",
    "version": 3
   },
   "mimetype": "text/x-python",
   "name": "pyspark",
   "pygments_lexer": "python3"
  }
 },
 "nbformat": 4,
 "nbformat_minor": 4
}
