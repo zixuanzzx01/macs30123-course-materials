{
 "cells": [
  {
   "cell_type": "markdown",
   "metadata": {},
   "source": [
    "# Exploratory Data Analysis in PySpark on an EMR Cluster\n",
    "\n",
    "Let's explore how you can use your PySpark coding skills in a JupyterHub notebook on an AWS EMR Cluster to perform an exploratory data analysis on large data sources. Specifically, we'll be revisiting our NYC Taxi Cab dataset that we worked with in Week 5, but this time, exploring data from the whole year of 2019 (as opposed to a single month). This dataset has billions of rows overall (80 million in 2019 alone) and would be challenging to work with in the absence of a scalable analytical framework like Spark. Note that this notebook is meant to be run on an EMR cluster, using a PySpark kernel.\n",
    "\n",
    "First (after configuring our PySpark environment below to enable us to install packages in our notebook session), let's load the data from S3 into our Spark session. The data is spread across multiple CSV files, so we use the wildcard (\\*) to indicate that we want the data from all of these files to be included within our dataframe, spread out over our EMR cluster in partitions. We're using the PySpark SQL `read.csv` method here so this will be loaded into a Spark \"DataFrame\" -- which is built on top of an RDD (but has named columns -- as in a Pandas DataFrame)."
   ]
  },
  {
   "cell_type": "code",
   "execution_count": 1,
   "metadata": {},
   "outputs": [
    {
     "data": {
      "text/html": [
       "Current session configs: <tt>{'conf': {'spark.pyspark.python': 'python3', 'spark.pyspark.virtualenv.enabled': 'true', 'spark.pyspark.virtualenv.type': 'native', 'spark.pyspark.virtualenv.bin.path': '/usr/bin/virtualenv'}, 'proxyUser': 'jovyan', 'kind': 'pyspark'}</tt><br>"
      ],
      "text/plain": [
       "<IPython.core.display.HTML object>"
      ]
     },
     "metadata": {},
     "output_type": "display_data"
    },
    {
     "data": {
      "text/html": [
       "No active sessions."
      ],
      "text/plain": [
       "<IPython.core.display.HTML object>"
      ]
     },
     "metadata": {},
     "output_type": "display_data"
    }
   ],
   "source": [
    "%%configure -f\n",
    "{\n",
    "    \"conf\": {\n",
    "        \"spark.pyspark.python\": \"python3\",\n",
    "        \"spark.pyspark.virtualenv.enabled\": \"true\",\n",
    "        \"spark.pyspark.virtualenv.type\":\"native\",\n",
    "        \"spark.pyspark.virtualenv.bin.path\":\"/usr/bin/virtualenv\"\n",
    "    }\n",
    "}"
   ]
  },
  {
   "cell_type": "code",
   "execution_count": null,
   "metadata": {},
   "outputs": [
    {
     "name": "stdout",
     "output_type": "stream",
     "text": [
      "Starting Spark application\n"
     ]
    },
    {
     "data": {
      "text/html": [
       "<table>\n",
       "<tr><th>ID</th><th>YARN Application ID</th><th>Kind</th><th>State</th><th>Spark UI</th><th>Driver log</th><th>Current session?</th></tr><tr><td>1</td><td>application_1714403316049_0005</td><td>pyspark</td><td>idle</td><td><a target=\"_blank\" href=\"http://ip-172-31-19-4.ec2.internal:20888/proxy/application_1714403316049_0005/\">Link</a></td><td><a target=\"_blank\" href=\"http://ip-172-31-25-113.ec2.internal:8042/node/containerlogs/container_1714403316049_0005_01_000001/livy\">Link</a></td><td>✔</td></tr></table>"
      ],
      "text/plain": [
       "<IPython.core.display.HTML object>"
      ]
     },
     "metadata": {},
     "output_type": "display_data"
    },
    {
     "data": {
      "application/vnd.jupyter.widget-view+json": {
       "model_id": "",
       "version_major": 2,
       "version_minor": 0
      },
      "text/plain": [
       "FloatProgress(value=0.0, bar_style='info', description='Progress:', layout=Layout(height='25px', width='50%'),…"
      ]
     },
     "metadata": {},
     "output_type": "display_data"
    },
    {
     "name": "stdout",
     "output_type": "stream",
     "text": [
      "SparkSession available as 'spark'.\n"
     ]
    },
    {
     "data": {
      "application/vnd.jupyter.widget-view+json": {
       "model_id": "",
       "version_major": 2,
       "version_minor": 0
      },
      "text/plain": [
       "FloatProgress(value=0.0, bar_style='info', description='Progress:', layout=Layout(height='25px', width='50%'),…"
      ]
     },
     "metadata": {},
     "output_type": "display_data"
    }
   ],
   "source": [
    "df = spark.read.csv('s3://css-uchicago/nyc-tlc/trip_data/csv/yellow_tripdata_2019*.csv', header=True)"
   ]
  },
  {
   "cell_type": "markdown",
   "metadata": {},
   "source": [
    "Let's take a look at our data and see what it looks like. Note that just like a regular RDD, we can't actually see anything unless we perform an \"action\" on it."
   ]
  },
  {
   "cell_type": "code",
   "execution_count": 3,
   "metadata": {},
   "outputs": [
    {
     "data": {
      "application/vnd.jupyter.widget-view+json": {
       "model_id": "",
       "version_major": 2,
       "version_minor": 0
      },
      "text/plain": [
       "FloatProgress(value=0.0, bar_style='info', description='Progress:', layout=Layout(height='25px', width='50%'),…"
      ]
     },
     "metadata": {},
     "output_type": "display_data"
    },
    {
     "name": "stdout",
     "output_type": "stream",
     "text": [
      "DataFrame[VendorID: string, tpep_pickup_datetime: string, tpep_dropoff_datetime: string, passenger_count: string, trip_distance: string, RatecodeID: string, store_and_fwd_flag: string, PULocationID: string, DOLocationID: string, payment_type: string, fare_amount: string, extra: string, mta_tax: string, tip_amount: string, tolls_amount: string, improvement_surcharge: string, total_amount: string, congestion_surcharge: string]"
     ]
    }
   ],
   "source": [
    "df"
   ]
  },
  {
   "cell_type": "code",
   "execution_count": 4,
   "metadata": {},
   "outputs": [
    {
     "data": {
      "application/vnd.jupyter.widget-view+json": {
       "model_id": "",
       "version_major": 2,
       "version_minor": 0
      },
      "text/plain": [
       "FloatProgress(value=0.0, bar_style='info', description='Progress:', layout=Layout(height='25px', width='50%'),…"
      ]
     },
     "metadata": {},
     "output_type": "display_data"
    },
    {
     "name": "stdout",
     "output_type": "stream",
     "text": [
      "root\n",
      " |-- VendorID: string (nullable = true)\n",
      " |-- tpep_pickup_datetime: string (nullable = true)\n",
      " |-- tpep_dropoff_datetime: string (nullable = true)\n",
      " |-- passenger_count: string (nullable = true)\n",
      " |-- trip_distance: string (nullable = true)\n",
      " |-- RatecodeID: string (nullable = true)\n",
      " |-- store_and_fwd_flag: string (nullable = true)\n",
      " |-- PULocationID: string (nullable = true)\n",
      " |-- DOLocationID: string (nullable = true)\n",
      " |-- payment_type: string (nullable = true)\n",
      " |-- fare_amount: string (nullable = true)\n",
      " |-- extra: string (nullable = true)\n",
      " |-- mta_tax: string (nullable = true)\n",
      " |-- tip_amount: string (nullable = true)\n",
      " |-- tolls_amount: string (nullable = true)\n",
      " |-- improvement_surcharge: string (nullable = true)\n",
      " |-- total_amount: string (nullable = true)\n",
      " |-- congestion_surcharge: string (nullable = true)"
     ]
    }
   ],
   "source": [
    "df.printSchema()"
   ]
  },
  {
   "cell_type": "code",
   "execution_count": 5,
   "metadata": {},
   "outputs": [
    {
     "data": {
      "application/vnd.jupyter.widget-view+json": {
       "model_id": "",
       "version_major": 2,
       "version_minor": 0
      },
      "text/plain": [
       "FloatProgress(value=0.0, bar_style='info', description='Progress:', layout=Layout(height='25px', width='50%'),…"
      ]
     },
     "metadata": {},
     "output_type": "display_data"
    },
    {
     "name": "stdout",
     "output_type": "stream",
     "text": [
      "84399019"
     ]
    }
   ],
   "source": [
    "df.count() # an action to return total count of rows in dataset"
   ]
  },
  {
   "cell_type": "markdown",
   "metadata": {},
   "source": [
    "Given that Spark DataFrames are built off of RDDs, we can still use methods like `take` to make small amounts of our data visible as list (we almost will never want to `collect` our data when working with big data, though; **ask**: Why?):"
   ]
  },
  {
   "cell_type": "code",
   "execution_count": 6,
   "metadata": {},
   "outputs": [
    {
     "data": {
      "application/vnd.jupyter.widget-view+json": {
       "model_id": "",
       "version_major": 2,
       "version_minor": 0
      },
      "text/plain": [
       "FloatProgress(value=0.0, bar_style='info', description='Progress:', layout=Layout(height='25px', width='50%'),…"
      ]
     },
     "metadata": {},
     "output_type": "display_data"
    },
    {
     "name": "stdout",
     "output_type": "stream",
     "text": [
      "[Row(VendorID='1', tpep_pickup_datetime='2019-01-01 00:46:40', tpep_dropoff_datetime='2019-01-01 00:53:20', passenger_count='1', trip_distance='1.50', RatecodeID='1', store_and_fwd_flag='N', PULocationID='151', DOLocationID='239', payment_type='1', fare_amount='7', extra='0.5', mta_tax='0.5', tip_amount='1.65', tolls_amount='0', improvement_surcharge='0.3', total_amount='9.95', congestion_surcharge=None), Row(VendorID='1', tpep_pickup_datetime='2019-01-01 00:59:47', tpep_dropoff_datetime='2019-01-01 01:18:59', passenger_count='1', trip_distance='2.60', RatecodeID='1', store_and_fwd_flag='N', PULocationID='239', DOLocationID='246', payment_type='1', fare_amount='14', extra='0.5', mta_tax='0.5', tip_amount='1', tolls_amount='0', improvement_surcharge='0.3', total_amount='16.3', congestion_surcharge=None), Row(VendorID='2', tpep_pickup_datetime='2018-12-21 13:48:30', tpep_dropoff_datetime='2018-12-21 13:52:40', passenger_count='3', trip_distance='.00', RatecodeID='1', store_and_fwd_flag='N', PULocationID='236', DOLocationID='236', payment_type='1', fare_amount='4.5', extra='0.5', mta_tax='0.5', tip_amount='0', tolls_amount='0', improvement_surcharge='0.3', total_amount='5.8', congestion_surcharge=None), Row(VendorID='2', tpep_pickup_datetime='2018-11-28 15:52:25', tpep_dropoff_datetime='2018-11-28 15:55:45', passenger_count='5', trip_distance='.00', RatecodeID='1', store_and_fwd_flag='N', PULocationID='193', DOLocationID='193', payment_type='2', fare_amount='3.5', extra='0.5', mta_tax='0.5', tip_amount='0', tolls_amount='0', improvement_surcharge='0.3', total_amount='7.55', congestion_surcharge=None), Row(VendorID='2', tpep_pickup_datetime='2018-11-28 15:56:57', tpep_dropoff_datetime='2018-11-28 15:58:33', passenger_count='5', trip_distance='.00', RatecodeID='2', store_and_fwd_flag='N', PULocationID='193', DOLocationID='193', payment_type='2', fare_amount='52', extra='0', mta_tax='0.5', tip_amount='0', tolls_amount='0', improvement_surcharge='0.3', total_amount='55.55', congestion_surcharge=None)]"
     ]
    }
   ],
   "source": [
    "df.take(5)"
   ]
  },
  {
   "cell_type": "markdown",
   "metadata": {},
   "source": [
    "Spark SQL also includes a `show` method that makes this a bit prettier, though:"
   ]
  },
  {
   "cell_type": "code",
   "execution_count": 7,
   "metadata": {},
   "outputs": [
    {
     "data": {
      "application/vnd.jupyter.widget-view+json": {
       "model_id": "",
       "version_major": 2,
       "version_minor": 0
      },
      "text/plain": [
       "FloatProgress(value=0.0, bar_style='info', description='Progress:', layout=Layout(height='25px', width='50%'),…"
      ]
     },
     "metadata": {},
     "output_type": "display_data"
    },
    {
     "name": "stdout",
     "output_type": "stream",
     "text": [
      "+------------+------------+\n",
      "|total_amount|tolls_amount|\n",
      "+------------+------------+\n",
      "|        9.95|           0|\n",
      "|        16.3|           0|\n",
      "|         5.8|           0|\n",
      "|        7.55|           0|\n",
      "|       55.55|           0|\n",
      "+------------+------------+\n",
      "only showing top 5 rows"
     ]
    }
   ],
   "source": [
    "df[['total_amount', 'tolls_amount']].show(5)"
   ]
  },
  {
   "cell_type": "markdown",
   "metadata": {},
   "source": [
    "## Exploring Data with Spark SQL\n",
    "\n",
    "We have a couple of options for exploring our data via Spark SQL. We can first create a temporary \"view\" on which we can perform SQL queries, as we would in a database:"
   ]
  },
  {
   "cell_type": "code",
   "execution_count": 8,
   "metadata": {},
   "outputs": [
    {
     "data": {
      "application/vnd.jupyter.widget-view+json": {
       "model_id": "",
       "version_major": 2,
       "version_minor": 0
      },
      "text/plain": [
       "FloatProgress(value=0.0, bar_style='info', description='Progress:', layout=Layout(height='25px', width='50%'),…"
      ]
     },
     "metadata": {},
     "output_type": "display_data"
    }
   ],
   "source": [
    "df.createOrReplaceTempView(\"taxi\")\n",
    "query = '''\n",
    "        SELECT passenger_count, AVG(trip_distance) as avg_distance\n",
    "        FROM taxi\n",
    "        WHERE passenger_count > 3\n",
    "        GROUP BY passenger_count\n",
    "        ORDER BY passenger_count\n",
    "        '''\n",
    "\n",
    "df2 = spark.sql(query) # doesn't execute until perform \"action\""
   ]
  },
  {
   "cell_type": "code",
   "execution_count": 9,
   "metadata": {},
   "outputs": [
    {
     "data": {
      "application/vnd.jupyter.widget-view+json": {
       "model_id": "",
       "version_major": 2,
       "version_minor": 0
      },
      "text/plain": [
       "FloatProgress(value=0.0, bar_style='info', description='Progress:', layout=Layout(height='25px', width='50%'),…"
      ]
     },
     "metadata": {},
     "output_type": "display_data"
    },
    {
     "name": "stdout",
     "output_type": "stream",
     "text": [
      "+---------------+------------------+\n",
      "|passenger_count|      avg_distance|\n",
      "+---------------+------------------+\n",
      "|              4| 3.156553361149423|\n",
      "|              5| 3.025776405356697|\n",
      "|              6| 3.023783285960606|\n",
      "|              7|3.2531250000000003|\n",
      "|              8| 5.363898916967506|\n",
      "|              9|            5.2392|\n",
      "+---------------+------------------+"
     ]
    }
   ],
   "source": [
    "df2.show() # perform action"
   ]
  },
  {
   "cell_type": "markdown",
   "metadata": {},
   "source": [
    "Or we can use built-in methods and functions from Spark SQL to do the same thing on our Spark DataFrame directly:"
   ]
  },
  {
   "cell_type": "code",
   "execution_count": 10,
   "metadata": {},
   "outputs": [
    {
     "data": {
      "application/vnd.jupyter.widget-view+json": {
       "model_id": "",
       "version_major": 2,
       "version_minor": 0
      },
      "text/plain": [
       "FloatProgress(value=0.0, bar_style='info', description='Progress:', layout=Layout(height='25px', width='50%'),…"
      ]
     },
     "metadata": {},
     "output_type": "display_data"
    },
    {
     "name": "stdout",
     "output_type": "stream",
     "text": [
      "+---------------+------------------+\n",
      "|passenger_count|      avg_distance|\n",
      "+---------------+------------------+\n",
      "|              4| 3.156553361149423|\n",
      "|              5|3.0257764053566967|\n",
      "|              6|3.0237832859606053|\n",
      "|              7|          3.253125|\n",
      "|              8|  5.36389891696751|\n",
      "|              9| 5.239199999999999|\n",
      "+---------------+------------------+"
     ]
    }
   ],
   "source": [
    "import pyspark.sql.functions as F\n",
    "\n",
    "df2_alt = df.filter(F.col('passenger_count') > 3) \\\n",
    "            .groupBy('passenger_count') \\\n",
    "            .agg(F.avg(F.col('trip_distance')) \\\n",
    "                  .alias('avg_distance')) \\\n",
    "            .orderBy(F.col('passenger_count'))\n",
    "\n",
    "df2_alt.show()"
   ]
  },
  {
   "cell_type": "markdown",
   "metadata": {},
   "source": [
    "## An aside on performance\n",
    "\n",
    "At the beginning of the notebook, we loaded in our data in CSV format. However, we saw in Week 5 that this same data is available in Parquet format as well. Which one should we prefer? In general, [Parquet tends allow for faster read speeds in analytical contexts and also is smaller when saved to disk than CSV](https://towardsdatascience.com/demystifying-the-parquet-file-format-13adb0206705). If we load the same data in as Parquet, you can see a huge difference in the time it takes to perform the same operations:"
   ]
  },
  {
   "cell_type": "code",
   "execution_count": null,
   "metadata": {},
   "outputs": [
    {
     "data": {
      "application/vnd.jupyter.widget-view+json": {
       "model_id": "",
       "version_major": 2,
       "version_minor": 0
      },
      "text/plain": [
       "FloatProgress(value=0.0, bar_style='info', description='Progress:', layout=Layout(height='25px', width='50%'),…"
      ]
     },
     "metadata": {},
     "output_type": "display_data"
    }
   ],
   "source": [
    "df_parquet = spark.read.parquet('s3://css-uchicago/nyc-tlc/trip_data/yellow_tripdata_2019*.parquet')"
   ]
  },
  {
   "cell_type": "code",
   "execution_count": 12,
   "metadata": {},
   "outputs": [
    {
     "data": {
      "application/vnd.jupyter.widget-view+json": {
       "model_id": "",
       "version_major": 2,
       "version_minor": 0
      },
      "text/plain": [
       "FloatProgress(value=0.0, bar_style='info', description='Progress:', layout=Layout(height='25px', width='50%'),…"
      ]
     },
     "metadata": {},
     "output_type": "display_data"
    },
    {
     "name": "stdout",
     "output_type": "stream",
     "text": [
      "Count (CSV): 17.90548324584961"
     ]
    }
   ],
   "source": [
    "import time\n",
    "t0 = time.time()\n",
    "df.count()\n",
    "print(\"Count (CSV):\", time.time() - t0)"
   ]
  },
  {
   "cell_type": "code",
   "execution_count": 13,
   "metadata": {},
   "outputs": [
    {
     "data": {
      "application/vnd.jupyter.widget-view+json": {
       "model_id": "",
       "version_major": 2,
       "version_minor": 0
      },
      "text/plain": [
       "FloatProgress(value=0.0, bar_style='info', description='Progress:', layout=Layout(height='25px', width='50%'),…"
      ]
     },
     "metadata": {},
     "output_type": "display_data"
    },
    {
     "name": "stdout",
     "output_type": "stream",
     "text": [
      "Count (Parquet): 1.0633316040039062"
     ]
    }
   ],
   "source": [
    "t0 = time.time()\n",
    "df_parquet.count()\n",
    "print(\"Count (Parquet):\", time.time() - t0)"
   ]
  },
  {
   "cell_type": "code",
   "execution_count": 14,
   "metadata": {},
   "outputs": [
    {
     "data": {
      "application/vnd.jupyter.widget-view+json": {
       "model_id": "",
       "version_major": 2,
       "version_minor": 0
      },
      "text/plain": [
       "FloatProgress(value=0.0, bar_style='info', description='Progress:', layout=Layout(height='25px', width='50%'),…"
      ]
     },
     "metadata": {},
     "output_type": "display_data"
    },
    {
     "name": "stdout",
     "output_type": "stream",
     "text": [
      "+---------------+------------------+\n",
      "|passenger_count|      avg_distance|\n",
      "+---------------+------------------+\n",
      "|              4|3.1565533611494208|\n",
      "|              5| 3.025776405356697|\n",
      "|              6|3.0237832859606053|\n",
      "|              7|          3.253125|\n",
      "|              8| 5.363898916967507|\n",
      "|              9| 5.239199999999999|\n",
      "+---------------+------------------+\n",
      "\n",
      "Query (CSV): 39.64927554130554"
     ]
    }
   ],
   "source": [
    "t0 = time.time()\n",
    "df.filter(F.col('passenger_count') > 3) \\\n",
    "           .groupBy('passenger_count') \\\n",
    "           .agg(F.avg(F.col('trip_distance')) \\\n",
    "                 .alias('avg_distance')) \\\n",
    "           .orderBy(F.col('passenger_count')) \\\n",
    "           .show()\n",
    "print(\"Query (CSV):\", time.time() - t0)"
   ]
  },
  {
   "cell_type": "code",
   "execution_count": 15,
   "metadata": {},
   "outputs": [
    {
     "data": {
      "application/vnd.jupyter.widget-view+json": {
       "model_id": "",
       "version_major": 2,
       "version_minor": 0
      },
      "text/plain": [
       "FloatProgress(value=0.0, bar_style='info', description='Progress:', layout=Layout(height='25px', width='50%'),…"
      ]
     },
     "metadata": {},
     "output_type": "display_data"
    },
    {
     "name": "stdout",
     "output_type": "stream",
     "text": [
      "+---------------+------------------+\n",
      "|passenger_count|      avg_distance|\n",
      "+---------------+------------------+\n",
      "|            4.0|3.1565478227049333|\n",
      "|            5.0| 3.025776405356713|\n",
      "|            6.0| 3.023784768827353|\n",
      "|            7.0|3.2531249999999994|\n",
      "|            8.0| 5.363898916967509|\n",
      "|            9.0|            5.2392|\n",
      "+---------------+------------------+\n",
      "\n",
      "Query (Parquet): 3.1724274158477783"
     ]
    }
   ],
   "source": [
    "t0 = time.time()\n",
    "df_parquet.filter(F.col('passenger_count') > 3) \\\n",
    "            .groupBy('passenger_count') \\\n",
    "            .agg(F.avg(F.col('trip_distance')) \\\n",
    "                  .alias('avg_distance')) \\\n",
    "            .orderBy(F.col('passenger_count')) \\\n",
    "            .show()\n",
    "print(\"Query (Parquet):\", time.time() - t0)"
   ]
  },
  {
   "cell_type": "markdown",
   "metadata": {},
   "source": [
    "So, it's strongly recommended that you work with Parquet files for analytical workloads as opposed to text-based formats like CSV and JSON (it can sometimes even make sense to just convert existing files into Parquet format for the purposes of analysis). This becomes especially important as your data size increases further than what we're working with in this demo.\n",
    "\n",
    "## Plotting Exploratory Findings\n",
    "\n",
    "An important part of exploratory data analysis is visualizing your findings. Unfortunately, we do not have a plotting library installed on our cluster!"
   ]
  },
  {
   "cell_type": "code",
   "execution_count": 16,
   "metadata": {},
   "outputs": [
    {
     "data": {
      "application/vnd.jupyter.widget-view+json": {
       "model_id": "",
       "version_major": 2,
       "version_minor": 0
      },
      "text/plain": [
       "FloatProgress(value=0.0, bar_style='info', description='Progress:', layout=Layout(height='25px', width='50%'),…"
      ]
     },
     "metadata": {},
     "output_type": "display_data"
    },
    {
     "name": "stderr",
     "output_type": "stream",
     "text": [
      "An error was encountered:\n",
      "No module named 'matplotlib'\n",
      "Traceback (most recent call last):\n",
      "ModuleNotFoundError: No module named 'matplotlib'\n",
      "\n"
     ]
    }
   ],
   "source": [
    "import matplotlib.pyplot as plt # matplotlib not installed by default!"
   ]
  },
  {
   "cell_type": "markdown",
   "metadata": {},
   "source": [
    "We can see packages that we currently have available in our Spark context, though, by using the `list_packages` method and install additional packages via the `install_pypi_package` method:"
   ]
  },
  {
   "cell_type": "code",
   "execution_count": 17,
   "metadata": {},
   "outputs": [
    {
     "data": {
      "application/vnd.jupyter.widget-view+json": {
       "model_id": "",
       "version_major": 2,
       "version_minor": 0
      },
      "text/plain": [
       "FloatProgress(value=0.0, bar_style='info', description='Progress:', layout=Layout(height='25px', width='50%'),…"
      ]
     },
     "metadata": {},
     "output_type": "display_data"
    },
    {
     "name": "stdout",
     "output_type": "stream",
     "text": [
      "Package                    Version   \n",
      "-------------------------- ----------\n",
      "beautifulsoup4             4.9.3     \n",
      "boto                       2.49.0    \n",
      "click                      7.1.2     \n",
      "jmespath                   0.10.0    \n",
      "joblib                     0.17.0    \n",
      "lxml                       4.6.1     \n",
      "mysqlclient                1.4.2     \n",
      "nltk                       3.5       \n",
      "nose                       1.3.4     \n",
      "numpy                      1.16.5    \n",
      "pip                        9.0.1     \n",
      "py-dateutil                2.2       \n",
      "python37-sagemaker-pyspark 1.4.1     \n",
      "pytz                       2020.1    \n",
      "PyYAML                     5.3.1     \n",
      "regex                      2020.10.28\n",
      "setuptools                 28.8.0    \n",
      "six                        1.13.0    \n",
      "tqdm                       4.51.0    \n",
      "wheel                      0.29.0    \n",
      "windmill                   1.6"
     ]
    }
   ],
   "source": [
    "sc.list_packages()"
   ]
  },
  {
   "cell_type": "code",
   "execution_count": null,
   "metadata": {},
   "outputs": [
    {
     "data": {
      "application/vnd.jupyter.widget-view+json": {
       "model_id": "",
       "version_major": 2,
       "version_minor": 0
      },
      "text/plain": [
       "FloatProgress(value=0.0, bar_style='info', description='Progress:', layout=Layout(height='25px', width='50%'),…"
      ]
     },
     "metadata": {},
     "output_type": "display_data"
    },
    {
     "name": "stdout",
     "output_type": "stream",
     "text": [
      "Collecting boto3==1.19.2\n",
      "  Downloading https://files.pythonhosted.org/packages/59/60/163503f24cf09553d0bb6c37db9ff3254f6cda812cab00430602867d03f5/boto3-1.19.2-py3-none-any.whl (131kB)\n",
      "Collecting botocore<1.23.0,>=1.22.2 (from boto3==1.19.2)\n",
      "  Downloading https://files.pythonhosted.org/packages/6a/73/552b27e3a1b4f83630907c4958be78e9d4c906e73efd554ebd5e21cb1692/botocore-1.22.12-py3-none-any.whl (8.1MB)\n",
      "Collecting s3transfer<0.6.0,>=0.5.0 (from boto3==1.19.2)\n",
      "  Downloading https://files.pythonhosted.org/packages/7b/9c/f51775ebe7df5a7aa4e7c79ed671bde94e154bd968aca8d65bb24aba0c8c/s3transfer-0.5.2-py3-none-any.whl (79kB)\n",
      "Requirement already satisfied: jmespath<1.0.0,>=0.7.1 in /usr/local/lib/python3.7/site-packages (from boto3==1.19.2)\n",
      "Collecting python-dateutil<3.0.0,>=2.1 (from botocore<1.23.0,>=1.22.2->boto3==1.19.2)\n",
      "  Downloading https://files.pythonhosted.org/packages/ec/57/56b9bcc3c9c6a792fcbaf139543cee77261f3651ca9da0c93f5c1221264b/python_dateutil-2.9.0.post0-py2.py3-none-any.whl (229kB)\n",
      "Collecting urllib3<1.27,>=1.25.4 (from botocore<1.23.0,>=1.22.2->boto3==1.19.2)\n",
      "  Downloading https://files.pythonhosted.org/packages/b0/53/aa91e163dcfd1e5b82d8a890ecf13314e3e149c05270cc644581f77f17fd/urllib3-1.26.18-py2.py3-none-any.whl (143kB)\n",
      "Requirement already satisfied: six>=1.5 in /usr/local/lib/python3.7/site-packages (from python-dateutil<3.0.0,>=2.1->botocore<1.23.0,>=1.22.2->boto3==1.19.2)\n",
      "Installing collected packages: python-dateutil, urllib3, botocore, s3transfer, boto3\n",
      "Successfully installed boto3-1.19.2 botocore-1.22.12 python-dateutil-2.9.0.post0 s3transfer-0.5.2 urllib3-1.26.18\n",
      "\n",
      "Collecting pandas==1.0.5\n",
      "  Downloading https://files.pythonhosted.org/packages/af/f3/683bf2547a3eaeec15b39cef86f61e921b3b187f250fcd2b5c5fb4386369/pandas-1.0.5-cp37-cp37m-manylinux1_x86_64.whl (10.1MB)\n",
      "Requirement already satisfied: numpy>=1.13.3 in /usr/local/lib64/python3.7/site-packages (from pandas==1.0.5)\n",
      "Requirement already satisfied: python-dateutil>=2.6.1 in /mnt/tmp/1714404243650-0/lib/python3.7/site-packages (from pandas==1.0.5)\n",
      "Requirement already satisfied: pytz>=2017.2 in /usr/local/lib/python3.7/site-packages (from pandas==1.0.5)\n",
      "Requirement already satisfied: six>=1.5 in /usr/local/lib/python3.7/site-packages (from python-dateutil>=2.6.1->pandas==1.0.5)\n",
      "Installing collected packages: pandas\n",
      "Successfully installed pandas-1.0.5\n",
      "\n",
      "Collecting scipy==1.4.1\n",
      "  Downloading https://files.pythonhosted.org/packages/dd/82/c1fe128f3526b128cfd185580ba40d01371c5d299fcf7f77968e22dfcc2e/scipy-1.4.1-cp37-cp37m-manylinux1_x86_64.whl (26.1MB)\n",
      "Requirement already satisfied: numpy>=1.13.3 in /usr/local/lib64/python3.7/site-packages (from scipy==1.4.1)\n",
      "Installing collected packages: scipy\n",
      "Successfully installed scipy-1.4.1\n",
      "\n",
      "Collecting matplotlib==3.2.1\n",
      "  Downloading https://files.pythonhosted.org/packages/b2/c2/71fcf957710f3ba1f09088b35776a799ba7dd95f7c2b195ec800933b276b/matplotlib-3.2.1-cp37-cp37m-manylinux1_x86_64.whl (12.4MB)\n",
      "Collecting pyparsing!=2.0.4,!=2.1.2,!=2.1.6,>=2.0.1 (from matplotlib==3.2.1)\n",
      "  Downloading https://files.pythonhosted.org/packages/9d/ea/6d76df31432a0e6fdf81681a895f009a4bb47b3c39036db3e1b528191d52/pyparsing-3.1.2-py3-none-any.whl (103kB)\n",
      "Requirement already satisfied: python-dateutil>=2.1 in /mnt/tmp/1714404243650-0/lib/python3.7/site-packages (from matplotlib==3.2.1)\n",
      "Requirement already satisfied: numpy>=1.11 in /usr/local/lib64/python3.7/site-packages (from matplotlib==3.2.1)\n",
      "Collecting cycler>=0.10 (from matplotlib==3.2.1)\n",
      "  Downloading https://files.pythonhosted.org/packages/5c/f9/695d6bedebd747e5eb0fe8fad57b72fdf25411273a39791cde838d5a8f51/cycler-0.11.0-py3-none-any.whl\n",
      "Collecting kiwisolver>=1.0.1 (from matplotlib==3.2.1)\n",
      "  Downloading https://files.pythonhosted.org/packages/f9/77/e3046bf19720b22e3e0b7c12e28f6f2c0c18a213fb91a56cea640862270f/kiwisolver-1.4.5-cp37-cp37m-manylinux_2_5_x86_64.manylinux1_x86_64.whl (1.1MB)\n",
      "Requirement already satisfied: six>=1.5 in /usr/local/lib/python3.7/site-packages (from python-dateutil>=2.1->matplotlib==3.2.1)\n",
      "Collecting typing-extensions; python_version < \"3.8\" (from kiwisolver>=1.0.1->matplotlib==3.2.1)\n",
      "  Downloading https://files.pythonhosted.org/packages/ec/6b/63cc3df74987c36fe26157ee12e09e8f9db4de771e0f3404263117e75b95/typing_extensions-4.7.1-py3-none-any.whl\n",
      "Installing collected packages: pyparsing, cycler, typing-extensions, kiwisolver, matplotlib\n",
      "Successfully installed cycler-0.11.0 kiwisolver-1.4.5 matplotlib-3.2.1 pyparsing-3.1.2 typing-extensions-4.7.1\n",
      "\n",
      "Collecting seaborn==0.10.1\n",
      "  Downloading https://files.pythonhosted.org/packages/c7/e6/54aaaafd0b87f51dfba92ba73da94151aa3bc179e5fe88fc5dfb3038e860/seaborn-0.10.1-py3-none-any.whl (215kB)\n",
      "Requirement already satisfied: numpy>=1.13.3 in /usr/local/lib64/python3.7/site-packages (from seaborn==0.10.1)\n",
      "Requirement already satisfied: scipy>=1.0.1 in /mnt/tmp/1714404243650-0/lib/python3.7/site-packages (from seaborn==0.10.1)\n",
      "Requirement already satisfied: matplotlib>=2.1.2 in /mnt/tmp/1714404243650-0/lib/python3.7/site-packages (from seaborn==0.10.1)\n",
      "Requirement already satisfied: pandas>=0.22.0 in /mnt/tmp/1714404243650-0/lib/python3.7/site-packages (from seaborn==0.10.1)\n",
      "Requirement already satisfied: pyparsing!=2.0.4,!=2.1.2,!=2.1.6,>=2.0.1 in /mnt/tmp/1714404243650-0/lib/python3.7/site-packages (from matplotlib>=2.1.2->seaborn==0.10.1)\n",
      "Requirement already satisfied: python-dateutil>=2.1 in /mnt/tmp/1714404243650-0/lib/python3.7/site-packages (from matplotlib>=2.1.2->seaborn==0.10.1)\n",
      "Requirement already satisfied: cycler>=0.10 in /mnt/tmp/1714404243650-0/lib/python3.7/site-packages (from matplotlib>=2.1.2->seaborn==0.10.1)\n",
      "Requirement already satisfied: kiwisolver>=1.0.1 in /mnt/tmp/1714404243650-0/lib/python3.7/site-packages (from matplotlib>=2.1.2->seaborn==0.10.1)\n",
      "Requirement already satisfied: pytz>=2017.2 in /usr/local/lib/python3.7/site-packages (from pandas>=0.22.0->seaborn==0.10.1)\n",
      "Requirement already satisfied: six>=1.5 in /usr/local/lib/python3.7/site-packages (from python-dateutil>=2.1->matplotlib>=2.1.2->seaborn==0.10.1)\n",
      "Requirement already satisfied: typing-extensions; python_version < \"3.8\" in /mnt/tmp/1714404243650-0/lib/python3.7/site-packages (from kiwisolver>=1.0.1->matplotlib>=2.1.2->seaborn==0.10.1)\n",
      "Installing collected packages: seaborn\n",
      "Successfully installed seaborn-0.10.1"
     ]
    }
   ],
   "source": [
    "sc.install_pypi_package(\"boto3==1.19.2\", \"https://pypi.org/simple\")\n",
    "sc.install_pypi_package(\"pandas==1.0.5\", \"https://pypi.org/simple\")\n",
    "sc.install_pypi_package(\"scipy==1.4.1\", \"https://pypi.org/simple\")\n",
    "sc.install_pypi_package(\"matplotlib==3.2.1\", \"https://pypi.org/simple\")\n",
    "sc.install_pypi_package(\"seaborn==0.10.1\", \"https://pypi.org/simple\")"
   ]
  },
  {
   "cell_type": "code",
   "execution_count": 19,
   "metadata": {},
   "outputs": [
    {
     "data": {
      "application/vnd.jupyter.widget-view+json": {
       "model_id": "",
       "version_major": 2,
       "version_minor": 0
      },
      "text/plain": [
       "FloatProgress(value=0.0, bar_style='info', description='Progress:', layout=Layout(height='25px', width='50%'),…"
      ]
     },
     "metadata": {},
     "output_type": "display_data"
    },
    {
     "name": "stdout",
     "output_type": "stream",
     "text": [
      "Package                    Version    \n",
      "-------------------------- -----------\n",
      "beautifulsoup4             4.9.3      \n",
      "boto                       2.49.0     \n",
      "boto3                      1.19.2     \n",
      "botocore                   1.22.12    \n",
      "click                      7.1.2      \n",
      "cycler                     0.11.0     \n",
      "jmespath                   0.10.0     \n",
      "joblib                     0.17.0     \n",
      "kiwisolver                 1.4.5      \n",
      "lxml                       4.6.1      \n",
      "matplotlib                 3.2.1      \n",
      "mysqlclient                1.4.2      \n",
      "nltk                       3.5        \n",
      "nose                       1.3.4      \n",
      "numpy                      1.16.5     \n",
      "pandas                     1.0.5      \n",
      "pip                        9.0.1      \n",
      "py-dateutil                2.2        \n",
      "pyparsing                  3.1.2      \n",
      "python-dateutil            2.9.0.post0\n",
      "python37-sagemaker-pyspark 1.4.1      \n",
      "pytz                       2020.1     \n",
      "PyYAML                     5.3.1      \n",
      "regex                      2020.10.28 \n",
      "s3transfer                 0.5.2      \n",
      "scipy                      1.4.1      \n",
      "seaborn                    0.10.1     \n",
      "setuptools                 28.8.0     \n",
      "six                        1.13.0     \n",
      "tqdm                       4.51.0     \n",
      "typing-extensions          4.7.1      \n",
      "urllib3                    1.26.18    \n",
      "wheel                      0.29.0     \n",
      "windmill                   1.6"
     ]
    }
   ],
   "source": [
    "sc.list_packages() # everything is installed now!"
   ]
  },
  {
   "cell_type": "markdown",
   "metadata": {},
   "source": [
    "Now that we have installed our plotting libraries (and Pandas), we can convert our Spark DataFrame into a Pandas DataFrame and use our plotting libraries as normal. Note that this is a small dataframe, but you want to be careful with converting data to Pandas, as all of this data is being made accessible on the primary node (and is no longer distributed). Therefore, in general, it is best to do the computational work in Spark before passing smaller output for visualization to Seaborn/Matplotlib:"
   ]
  },
  {
   "cell_type": "code",
   "execution_count": 20,
   "metadata": {},
   "outputs": [
    {
     "data": {
      "application/vnd.jupyter.widget-view+json": {
       "model_id": "",
       "version_major": 2,
       "version_minor": 0
      },
      "text/plain": [
       "FloatProgress(value=0.0, bar_style='info', description='Progress:', layout=Layout(height='25px', width='50%'),…"
      ]
     },
     "metadata": {},
     "output_type": "display_data"
    },
    {
     "data": {
      "image/png": "[encoded data removed]",
      "text/plain": [
       "<IPython.core.display.Image object>"
      ]
     },
     "metadata": {},
     "output_type": "display_data"
    }
   ],
   "source": [
    "import seaborn as sns\n",
    "import matplotlib.pyplot as plt\n",
    "\n",
    "# convert to Pandas DataFrame in order to plot\n",
    "pdf = df2.toPandas()\n",
    "\n",
    "# Close previous plots; otherwise, will just overwrite and display again\n",
    "plt.close()\n",
    "\n",
    "sns.barplot(x='passenger_count', y='avg_distance', data=pdf)\n",
    "plt.title('Average Distance for > 3 Passengers (2019)')\n",
    "\n",
    "%matplot plt"
   ]
  },
  {
   "cell_type": "markdown",
   "metadata": {},
   "source": [
    "If you must visualize point data, for instance, in your EDA, you will see better results (and lessen your risk of running out of memory on your primary node) if you take a small random sample of the distributed DataFrame and only plot that sample. We'll take a look at some other strategies for visualizing large datasets in Week 9, but this will tend to be your best bet using standard Python plotting libraries alone:"
   ]
  },
  {
   "cell_type": "code",
   "execution_count": 21,
   "metadata": {},
   "outputs": [
    {
     "data": {
      "application/vnd.jupyter.widget-view+json": {
       "model_id": "",
       "version_major": 2,
       "version_minor": 0
      },
      "text/plain": [
       "FloatProgress(value=0.0, bar_style='info', description='Progress:', layout=Layout(height='25px', width='50%'),…"
      ]
     },
     "metadata": {},
     "output_type": "display_data"
    },
    {
     "name": "stdout",
     "output_type": "stream",
     "text": [
      "837"
     ]
    }
   ],
   "source": [
    "sampled_df = df_parquet.sample(fraction=0.00001)\n",
    "pdf_sampled = sampled_df.toPandas()\n",
    "pdf_sampled.VendorID.count() # much smaller"
   ]
  },
  {
   "cell_type": "code",
   "execution_count": 22,
   "metadata": {},
   "outputs": [
    {
     "data": {
      "application/vnd.jupyter.widget-view+json": {
       "model_id": "",
       "version_major": 2,
       "version_minor": 0
      },
      "text/plain": [
       "FloatProgress(value=0.0, bar_style='info', description='Progress:', layout=Layout(height='25px', width='50%'),…"
      ]
     },
     "metadata": {},
     "output_type": "display_data"
    },
    {
     "data": {
      "image/png": "[encoded data removed]",
      "text/plain": [
       "<IPython.core.display.Image object>"
      ]
     },
     "metadata": {},
     "output_type": "display_data"
    }
   ],
   "source": [
    "# Close previous plots; otherwise, will just overwrite and display again\n",
    "plt.close()\n",
    "\n",
    "pdf_sampled.plot.scatter('trip_distance', 'total_amount')\n",
    "\n",
    "%matplot plt"
   ]
  },
  {
   "cell_type": "markdown",
   "metadata": {},
   "source": [
    "## User-Defined Functions\n",
    "\n",
    "Finally, it is worth mentioning that you can create \"user-defined functions\" as well (which are written in Python) if Spark SQL does not already implement an operation you want to perform. Note, though, that these are really expensive to perform, so they should typically only be used when you have no other choice. For instance, using the `udf`  PySpark SQL function, let's create a function that transforms the fare amount by a random normal number generated by `numpy` (assuming this operation is relevant for our EDA):"
   ]
  },
  {
   "cell_type": "code",
   "execution_count": 23,
   "metadata": {
    "scrolled": false
   },
   "outputs": [
    {
     "data": {
      "application/vnd.jupyter.widget-view+json": {
       "model_id": "",
       "version_major": 2,
       "version_minor": 0
      },
      "text/plain": [
       "FloatProgress(value=0.0, bar_style='info', description='Progress:', layout=Layout(height='25px', width='50%'),…"
      ]
     },
     "metadata": {},
     "output_type": "display_data"
    },
    {
     "name": "stdout",
     "output_type": "stream",
     "text": [
      "+-----------+------------------------+\n",
      "|fare_amount|rand_fare_transformation|\n",
      "+-----------+------------------------+\n",
      "|        2.5|                    2.82|\n",
      "|       13.0|                   13.43|\n",
      "|       41.0|                   39.98|\n",
      "|       27.0|                   27.57|\n",
      "|        5.5|                    4.98|\n",
      "|        6.0|                    6.81|\n",
      "|        5.5|                    4.41|\n",
      "|       17.0|                   15.76|\n",
      "|        6.0|                    7.12|\n",
      "|        5.0|                    4.33|\n",
      "|       10.5|                   12.27|\n",
      "|       20.5|                   20.23|\n",
      "|       45.5|                   44.23|\n",
      "|        9.0|                   10.24|\n",
      "|        8.0|                    5.97|\n",
      "|       31.5|                   31.47|\n",
      "|       19.0|                   19.43|\n",
      "|       12.0|                   11.05|\n",
      "|       52.0|                   50.69|\n",
      "|       19.5|                   18.38|\n",
      "+-----------+------------------------+\n",
      "only showing top 20 rows"
     ]
    }
   ],
   "source": [
    "from numpy.random import normal\n",
    "\n",
    "def python_function(x):\n",
    "    return round(float(x) + normal(), 2)\n",
    "\n",
    "my_udf = F.udf(python_function)\n",
    "\n",
    "df_parquet.withColumn('rand_fare_transformation', my_udf(F.col('fare_amount'))) \\\n",
    "          .select(['fare_amount', 'rand_fare_transformation']) \\\n",
    "          .show()"
   ]
  },
  {
   "cell_type": "markdown",
   "metadata": {},
   "source": [
    "This also means that we can use `numba` to compile our code that we package into a UDF that we will apply elementwise to each row in our DataFrame (much like we did with `pandas` earlier in the course!):"
   ]
  },
  {
   "cell_type": "code",
   "execution_count": null,
   "metadata": {},
   "outputs": [
    {
     "data": {
      "application/vnd.jupyter.widget-view+json": {
       "model_id": "",
       "version_major": 2,
       "version_minor": 0
      },
      "text/plain": [
       "FloatProgress(value=0.0, bar_style='info', description='Progress:', layout=Layout(height='25px', width='50%'),…"
      ]
     },
     "metadata": {},
     "output_type": "display_data"
    },
    {
     "name": "stdout",
     "output_type": "stream",
     "text": [
      "Collecting numba==0.50.0\n",
      "  Downloading https://files.pythonhosted.org/packages/9d/31/6dd4f355a5f34653cc73ab4452f6753306b83025994b708f2adf0c8f8591/numba-0.50.0-cp37-cp37m-manylinux1_x86_64.whl (2.6MB)\n",
      "Requirement already satisfied: numpy>=1.15 in /usr/local/lib64/python3.7/site-packages (from numba==0.50.0)\n",
      "Requirement already satisfied: setuptools in /mnt/tmp/1714404243650-0/lib/python3.7/site-packages (from numba==0.50.0)\n",
      "Collecting llvmlite<0.34,>=0.33.0.dev0 (from numba==0.50.0)\n",
      "  Downloading https://files.pythonhosted.org/packages/0a/28/0a35b3c2685bf2ea327cef5577bdf91f387f0f4594417a2a05a1d42fb7c2/llvmlite-0.33.0-cp37-cp37m-manylinux1_x86_64.whl (18.3MB)\n",
      "Installing collected packages: llvmlite, numba\n",
      "Successfully installed llvmlite-0.33.0 numba-0.50.0"
     ]
    }
   ],
   "source": [
    "sc.install_pypi_package('numba==0.50.0', \"https://pypi.org/simple\") # install numba"
   ]
  },
  {
   "cell_type": "code",
   "execution_count": 25,
   "metadata": {},
   "outputs": [
    {
     "data": {
      "application/vnd.jupyter.widget-view+json": {
       "model_id": "",
       "version_major": 2,
       "version_minor": 0
      },
      "text/plain": [
       "FloatProgress(value=0.0, bar_style='info', description='Progress:', layout=Layout(height='25px', width='50%'),…"
      ]
     },
     "metadata": {},
     "output_type": "display_data"
    },
    {
     "name": "stdout",
     "output_type": "stream",
     "text": [
      "+-----------+------------------------+\n",
      "|fare_amount|rand_fare_transformation|\n",
      "+-----------+------------------------+\n",
      "|        2.5|                     1.3|\n",
      "|       13.0|                   14.17|\n",
      "|       41.0|                   40.02|\n",
      "|       27.0|                   25.91|\n",
      "|        5.5|                    6.46|\n",
      "|        6.0|                    6.11|\n",
      "|        5.5|                     6.5|\n",
      "|       17.0|                   16.51|\n",
      "|        6.0|                    5.64|\n",
      "|        5.0|                    5.28|\n",
      "|       10.5|                   10.03|\n",
      "|       20.5|                   21.17|\n",
      "|       45.5|                   45.47|\n",
      "|        9.0|                    8.41|\n",
      "|        8.0|                    8.02|\n",
      "|       31.5|                   31.51|\n",
      "|       19.0|                   19.86|\n",
      "|       12.0|                   13.62|\n",
      "|       52.0|                   53.49|\n",
      "|       19.5|                   19.92|\n",
      "+-----------+------------------------+\n",
      "only showing top 20 rows"
     ]
    }
   ],
   "source": [
    "from numba import jit\n",
    "\n",
    "@jit(nopython=True)\n",
    "def python_function(x):\n",
    "    return round(x + float(normal()), 2)\n",
    "\n",
    "my_udf = F.udf(python_function)\n",
    "\n",
    "df_parquet.withColumn('rand_fare_transformation', my_udf(F.col('fare_amount'))) \\\n",
    "          .select(['fare_amount', 'rand_fare_transformation']) \\\n",
    "          .show()"
   ]
  },
  {
   "cell_type": "markdown",
   "metadata": {},
   "source": [
    "## Activity\n",
    "\n",
    "1. What were the top 4 drop-off location IDs (in terms of trip frequency) during 2019? Note (Optional): if you're curious, you can look up the ID meanings [in a supplemental lookup file](https://d37ci6vzurychx.cloudfront.net/misc/taxi_zone_lookup.csv).\n",
    "2. Read in the 2020 Yellow Cab trips data and run the same query. How does the frequency of the top 4 drop-off locations change from 2019 to 2020?\n",
    "\n",
    "If you have time, produce a plot to visualize the change between the two years."
   ]
  },
  {
   "cell_type": "code",
   "execution_count": null,
   "metadata": {},
   "outputs": [],
   "source": []
  }
 ],
 "metadata": {
  "kernelspec": {
   "display_name": "PySpark",
   "language": "",
   "name": "pysparkkernel"
  },
  "language_info": {
   "codemirror_mode": {
    "name": "python",
    "version": 3
   },
   "mimetype": "text/x-python",
   "name": "pyspark",
   "pygments_lexer": "python3"
  }
 },
 "nbformat": 4,
 "nbformat_minor": 4
}
