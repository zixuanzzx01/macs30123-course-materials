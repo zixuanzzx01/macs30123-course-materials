{
  "cells": [
    {
      "cell_type": "markdown",
      "metadata": {
        "id": "scfLT2i0MLyD"
      },
      "source": [
        "<a href=\"https://colab.research.google.com/drive/1nCh7YtUZ4vqCxkdpV5PrqhfZIxvowMr_?usp=sharing\" target=\"_parent\"><img src=\"https://colab.research.google.com/assets/colab-badge.svg\" alt=\"Open In Colab\"/></a>\n",
        "\n",
        "# Accelerating Dask with GPUs (via RAPIDS)\n",
        "\n",
        "We've seen in lecture how the RAPIDS libraries make it possible to accelerate common analytical workflows on GPUs using libraries like cudf (for GPU DataFrames) and cuml (for basic GPU machine learning operations on DataFrames). When your data gets especially large (e.g. exceeding the memory capacity of a single GPU) or your computations get especially cumbersome, Dask makes it possible to scale these workflows out even further -- distributing work out across a cluster of GPUs.\n",
        "\n",
        "In AWS Academy, recall that we cannot create GPU clusters. However, this notebook should also be runnable on multi-GPU EC2 instances and clusters (on AWS) if you use a personal account to request these resources. Here (on Colab), we'll demonstrate using a single GPU. Note that the setup portion of this notebook draws on [a setup notebook](https://colab.research.google.com/drive/13sspqiEZwso4NYTbsflpPyNFaVAAxUgr) linked in the RAPIDS documentation and is meant to be run in a Colab notebook.\n",
        "\n",
        "This demo is built off of the notebooks provided in the [RAPIDS notebook repositories](https://github.com/rapidsai/notebooks) on GitHub (and you can explore them further if you are interested! There are many other relevant libraries in the RAPIDS ecosystem -- e.g. `cugraph` which allows you to perform network analyses on GPUs).\n",
        "\n",
        "## Setup\n",
        "\n",
        "Click the _Runtime_ dropdown at the top of the page, then _Change Runtime Type_ and confirm the instance type is _GPU_.\n",
        "\n",
        "Check the output of `!nvidia-smi` to make sure you've been allocated a Tesla T4, P4, or P100."
      ]
    },
    {
      "cell_type": "code",
      "execution_count": 1,
      "metadata": {
        "colab": {
          "base_uri": "https://localhost:8080/"
        },
        "id": "67T0090Jk2KL",
        "outputId": "2e411270-fc04-495a-b742-64fe757a00d3"
      },
      "outputs": [
        {
          "name": "stdout",
          "output_type": "stream",
          "text": [
            "Mon Apr 28 18:53:45 2025       \n",
            "+-----------------------------------------------------------------------------------------+\n",
            "| NVIDIA-SMI 550.54.15              Driver Version: 550.54.15      CUDA Version: 12.4     |\n",
            "|-----------------------------------------+------------------------+----------------------+\n",
            "| GPU  Name                 Persistence-M | Bus-Id          Disp.A | Volatile Uncorr. ECC |\n",
            "| Fan  Temp   Perf          Pwr:Usage/Cap |           Memory-Usage | GPU-Util  Compute M. |\n",
            "|                                         |                        |               MIG M. |\n",
            "|=========================================+========================+======================|\n",
            "|   0  Tesla T4                       Off |   00000000:00:04.0 Off |                    0 |\n",
            "| N/A   49C    P8             12W /   70W |       0MiB /  15360MiB |      0%      Default |\n",
            "|                                         |                        |                  N/A |\n",
            "+-----------------------------------------+------------------------+----------------------+\n",
            "                                                                                         \n",
            "+-----------------------------------------------------------------------------------------+\n",
            "| Processes:                                                                              |\n",
            "|  GPU   GI   CI        PID   Type   Process name                              GPU Memory |\n",
            "|        ID   ID                                                               Usage      |\n",
            "|=========================================================================================|\n",
            "|  No running processes found                                                             |\n",
            "+-----------------------------------------------------------------------------------------+\n"
          ]
        }
      ],
      "source": [
        "!nvidia-smi"
      ]
    },
    {
      "cell_type": "markdown",
      "metadata": {
        "id": "CtNdk7PSafKP"
      },
      "source": [
        "Then we run the setup script below, which:\n",
        "\n",
        "1. Checks to make sure that the GPU is RAPIDS compatible\n",
        "1. Installs the **current stable version** of RAPIDSAI's core libraries using pip and **will complete in about 3-4 minutes**"
      ]
    },
    {
      "cell_type": "code",
      "execution_count": null,
      "metadata": {
        "id": "B0C8IV5TQnjN"
      },
      "outputs": [],
      "source": [
        "!git clone https://github.com/rapidsai/rapidsai-csp-utils.git\n",
        "!python rapidsai-csp-utils/colab/pip-install.py"
      ]
    },
    {
      "cell_type": "markdown",
      "metadata": {
        "id": "pZJMJ6BulmMn"
      },
      "source": [
        "At this point, our RAPIDS libraries are now installed on Colab and we can import them into our session. Let's use `dask_cuda`'s API to launch a Dask GPU cluster and pass this cluster object to our `dask.distributed` client. `LocalCUDACluster()` will count each available GPU in our cluster (in this case, 1 GPU) as a Dask worker and assign it work."
      ]
    },
    {
      "cell_type": "code",
      "execution_count": 3,
      "metadata": {
        "colab": {
          "base_uri": "https://localhost:8080/"
        },
        "id": "2NtKgmG5yrK0",
        "outputId": "f63f25ab-de0e-4606-b8ff-7befbf2004c1"
      },
      "outputs": [
        {
          "name": "stderr",
          "output_type": "stream",
          "text": [
            "INFO:distributed.scheduler:State start\n",
            "INFO:distributed.scheduler:  Scheduler at:     tcp://127.0.0.1:46669\n",
            "INFO:distributed.scheduler:  dashboard at:  http://127.0.0.1:8787/status\n",
            "INFO:distributed.scheduler:Registering Worker plugin shuffle\n",
            "INFO:distributed.nanny:        Start Nanny at: 'tcp://127.0.0.1:38045'\n",
            "INFO:distributed.scheduler:Register worker addr: tcp://127.0.0.1:41751 name: 0\n",
            "INFO:distributed.scheduler:Starting worker compute stream, tcp://127.0.0.1:41751\n",
            "INFO:distributed.core:Starting established connection to tcp://127.0.0.1:56224\n",
            "INFO:distributed.scheduler:Receive client connection: Client-5fbf17e2-2462-11f0-80d0-0242ac1c000c\n",
            "INFO:distributed.core:Starting established connection to tcp://127.0.0.1:56234\n"
          ]
        }
      ],
      "source": [
        "import numpy as np\n",
        "import warnings\n",
        "warnings.simplefilter(action='ignore', category=FutureWarning)\n",
        "\n",
        "from dask_cuda import LocalCUDACluster\n",
        "from dask.distributed import Client\n",
        "\n",
        "cluster = LocalCUDACluster() # Identify all available GPUs\n",
        "client = Client(cluster)"
      ]
    },
    {
      "cell_type": "markdown",
      "metadata": {
        "id": "chi0hJp96DH2"
      },
      "source": [
        "## GPU DataFrames\n",
        "\n",
        "From here, we can use `dask_cudf` to automate the process of partitioning our data across our GPU workers and instantiating a GPU-based DataFrame on our GPU that we can work with. Let's load in the same AirBnB data that we were working with in the `numba` + `dask` CPU demonstration:"
      ]
    },
    {
      "cell_type": "code",
      "execution_count": 5,
      "metadata": {
        "colab": {
          "base_uri": "https://localhost:8080/",
          "height": 469
        },
        "id": "unMBP-Y2zneS",
        "outputId": "c2b72bfb-4855-4105-d1d8-059b37ecd43a"
      },
      "outputs": [
        {
          "data": {
            "text/html": [
              "<div>\n",
              "<style scoped>\n",
              "    .dataframe tbody tr th:only-of-type {\n",
              "        vertical-align: middle;\n",
              "    }\n",
              "\n",
              "    .dataframe tbody tr th {\n",
              "        vertical-align: top;\n",
              "    }\n",
              "\n",
              "    .dataframe thead th {\n",
              "        text-align: right;\n",
              "    }\n",
              "</style>\n",
              "<table border=\"1\" class=\"dataframe\">\n",
              "  <thead>\n",
              "    <tr style=\"text-align: right;\">\n",
              "      <th></th>\n",
              "      <th>id</th>\n",
              "      <th>name</th>\n",
              "      <th>host_id</th>\n",
              "      <th>host_name</th>\n",
              "      <th>neighbourhood_group</th>\n",
              "      <th>neighbourhood</th>\n",
              "      <th>latitude</th>\n",
              "      <th>longitude</th>\n",
              "      <th>room_type</th>\n",
              "      <th>price</th>\n",
              "      <th>minimum_nights</th>\n",
              "      <th>number_of_reviews</th>\n",
              "      <th>last_review</th>\n",
              "      <th>reviews_per_month</th>\n",
              "      <th>calculated_host_listings_count</th>\n",
              "      <th>availability_365</th>\n",
              "    </tr>\n",
              "  </thead>\n",
              "  <tbody>\n",
              "    <tr>\n",
              "      <th>0</th>\n",
              "      <td>3781</td>\n",
              "      <td>HARBORSIDE-Walk to subway</td>\n",
              "      <td>4804</td>\n",
              "      <td>Frank</td>\n",
              "      <td>&lt;NA&gt;</td>\n",
              "      <td>East Boston</td>\n",
              "      <td>42.36413</td>\n",
              "      <td>-71.02991</td>\n",
              "      <td>Entire home/apt</td>\n",
              "      <td>125</td>\n",
              "      <td>32</td>\n",
              "      <td>19</td>\n",
              "      <td>2021-02-26</td>\n",
              "      <td>0.27</td>\n",
              "      <td>1</td>\n",
              "      <td>106</td>\n",
              "    </tr>\n",
              "    <tr>\n",
              "      <th>1</th>\n",
              "      <td>6695</td>\n",
              "      <td>$99 Special!! Home Away! Condo</td>\n",
              "      <td>8229</td>\n",
              "      <td>Terry</td>\n",
              "      <td>&lt;NA&gt;</td>\n",
              "      <td>Roxbury</td>\n",
              "      <td>42.32802</td>\n",
              "      <td>-71.09387</td>\n",
              "      <td>Entire home/apt</td>\n",
              "      <td>169</td>\n",
              "      <td>29</td>\n",
              "      <td>115</td>\n",
              "      <td>2019-11-02</td>\n",
              "      <td>0.81</td>\n",
              "      <td>4</td>\n",
              "      <td>40</td>\n",
              "    </tr>\n",
              "    <tr>\n",
              "      <th>2</th>\n",
              "      <td>10813</td>\n",
              "      <td>Back Bay Apt-blocks to subway, Newbury St, The...</td>\n",
              "      <td>38997</td>\n",
              "      <td>Michelle</td>\n",
              "      <td>&lt;NA&gt;</td>\n",
              "      <td>Back Bay</td>\n",
              "      <td>42.35061</td>\n",
              "      <td>-71.08787</td>\n",
              "      <td>Entire home/apt</td>\n",
              "      <td>96</td>\n",
              "      <td>29</td>\n",
              "      <td>5</td>\n",
              "      <td>2020-12-02</td>\n",
              "      <td>0.08</td>\n",
              "      <td>11</td>\n",
              "      <td>307</td>\n",
              "    </tr>\n",
              "    <tr>\n",
              "      <th>3</th>\n",
              "      <td>10986</td>\n",
              "      <td>North End (Waterfront area)  CLOSE TO MGH &amp; SU...</td>\n",
              "      <td>38997</td>\n",
              "      <td>Michelle</td>\n",
              "      <td>&lt;NA&gt;</td>\n",
              "      <td>North End</td>\n",
              "      <td>42.36377</td>\n",
              "      <td>-71.05206</td>\n",
              "      <td>Entire home/apt</td>\n",
              "      <td>96</td>\n",
              "      <td>29</td>\n",
              "      <td>2</td>\n",
              "      <td>2016-05-23</td>\n",
              "      <td>0.03</td>\n",
              "      <td>11</td>\n",
              "      <td>293</td>\n",
              "    </tr>\n",
              "    <tr>\n",
              "      <th>4</th>\n",
              "      <td>13247</td>\n",
              "      <td>Back Bay studio apartment</td>\n",
              "      <td>51637</td>\n",
              "      <td>Susan</td>\n",
              "      <td>&lt;NA&gt;</td>\n",
              "      <td>Back Bay</td>\n",
              "      <td>42.35164</td>\n",
              "      <td>-71.08752</td>\n",
              "      <td>Entire home/apt</td>\n",
              "      <td>75</td>\n",
              "      <td>91</td>\n",
              "      <td>0</td>\n",
              "      <td>&lt;NA&gt;</td>\n",
              "      <td>&lt;NA&gt;</td>\n",
              "      <td>2</td>\n",
              "      <td>0</td>\n",
              "    </tr>\n",
              "  </tbody>\n",
              "</table>\n",
              "</div>"
            ],
            "text/plain": [
              "      id                                               name  host_id  \\\n",
              "0   3781                          HARBORSIDE-Walk to subway     4804   \n",
              "1   6695                     $99 Special!! Home Away! Condo     8229   \n",
              "2  10813  Back Bay Apt-blocks to subway, Newbury St, The...    38997   \n",
              "3  10986  North End (Waterfront area)  CLOSE TO MGH & SU...    38997   \n",
              "4  13247                          Back Bay studio apartment    51637   \n",
              "\n",
              "  host_name neighbourhood_group neighbourhood  latitude  longitude  \\\n",
              "0     Frank                <NA>   East Boston  42.36413  -71.02991   \n",
              "1     Terry                <NA>       Roxbury  42.32802  -71.09387   \n",
              "2  Michelle                <NA>      Back Bay  42.35061  -71.08787   \n",
              "3  Michelle                <NA>     North End  42.36377  -71.05206   \n",
              "4     Susan                <NA>      Back Bay  42.35164  -71.08752   \n",
              "\n",
              "         room_type  price  minimum_nights  number_of_reviews last_review  \\\n",
              "0  Entire home/apt    125              32                 19  2021-02-26   \n",
              "1  Entire home/apt    169              29                115  2019-11-02   \n",
              "2  Entire home/apt     96              29                  5  2020-12-02   \n",
              "3  Entire home/apt     96              29                  2  2016-05-23   \n",
              "4  Entire home/apt     75              91                  0        <NA>   \n",
              "\n",
              "  reviews_per_month  calculated_host_listings_count  availability_365  \n",
              "0              0.27                               1               106  \n",
              "1              0.81                               4                40  \n",
              "2              0.08                              11               307  \n",
              "3              0.03                              11               293  \n",
              "4              <NA>                               2                 0  "
            ]
          },
          "execution_count": 5,
          "metadata": {},
          "output_type": "execute_result"
        }
      ],
      "source": [
        "import dask_cudf\n",
        "\n",
        "df = dask_cudf.read_csv('listings*.csv')\n",
        "df.head()"
      ]
    },
    {
      "cell_type": "markdown",
      "metadata": {
        "id": "VpQhPunk6m4F"
      },
      "source": [
        "Once we have that data, we can perform many of the standard DataFrame operations we perform on CPUs -- just accelerated by our GPU cluster!"
      ]
    },
    {
      "cell_type": "code",
      "execution_count": 6,
      "metadata": {
        "colab": {
          "base_uri": "https://localhost:8080/"
        },
        "id": "nkiHccaP5x47",
        "outputId": "d5db2cbe-bce9-4445-b383-33f6e072f974"
      },
      "outputs": [
        {
          "data": {
            "text/plain": [
              "neighbourhood       room_type      \n",
              "Edgewater           Private room        79.964912\n",
              "Outer Richmond      Entire home/apt    221.408163\n",
              "Washington Heights  Private room        37.333333\n",
              "North End           Entire home/apt    189.984375\n",
              "West End            Entire home/apt    201.440000\n",
              "                                          ...    \n",
              "Leather District    Entire home/apt    199.000000\n",
              "Mission Hill        Shared room         20.000000\n",
              "Nob Hill            Private room       142.802198\n",
              "Mission             Shared room         32.000000\n",
              "Near West Side      Shared room         33.000000\n",
              "Name: price, Length: 341, dtype: float64"
            ]
          },
          "execution_count": 6,
          "metadata": {},
          "output_type": "execute_result"
        }
      ],
      "source": [
        "df.groupby(['neighbourhood', 'room_type']) \\\n",
        "  .price \\\n",
        "  .mean() \\\n",
        "  .compute()"
      ]
    },
    {
      "cell_type": "markdown",
      "metadata": {
        "id": "LVSSbc6v8tp3"
      },
      "source": [
        "## Training Machine Learning Models with `cuml`\n",
        "\n",
        "In addition to preprocessing and analyzing data on GPUs, we can also train (a limited set of) Machine Learning models directly on our GPU cluster using the `cuml` library in the RAPIDS ecoystem as well. This can give us a significant speedup in training time over libraries like `sklearn` on CPUs for large datasets.\n",
        "\n",
        "For instance, let's train a linear regression model based on our data from San Francisco, Chicago, and Boston to predict the price of an AirBnB based on other values in its listing information (e.g. \\\"reviews per month\\\" and \\\"minimum nights\\\"). We'll then use this model to make predictions about the price of AirBnBs in another city (NYC):"
      ]
    },
    {
      "cell_type": "code",
      "execution_count": null,
      "metadata": {
        "id": "sUEWhXoY4Q4a"
      },
      "outputs": [],
      "source": [
        "from cuml.dask.linear_model import LinearRegression\n",
        "import numpy as np\n",
        "\n",
        "X = df[['reviews_per_month', 'minimum_nights']].astype(np.float32).dropna()\n",
        "y = df[['price']].astype(np.float32).dropna()\n",
        "fit = LinearRegression().fit(X, y)"
      ]
    },
    {
      "cell_type": "markdown",
      "metadata": {
        "id": "e_fDVoXbWlRo"
      },
      "source": [
        "Then, we can read in the NYC dataset and make predictions about what prices will be in NYC on the basis of the model we trained on data from our three original cities:"
      ]
    },
    {
      "cell_type": "code",
      "execution_count": 9,
      "metadata": {
        "colab": {
          "base_uri": "https://localhost:8080/"
        },
        "id": "bIsYyeFA4TsM",
        "outputId": "d2917300-7d0c-46fc-ac06-db4b32ca1410"
      },
      "outputs": [
        {
          "data": {
            "text/plain": [
              "0    184.802887\n",
              "1    188.286636\n",
              "2    184.802887\n",
              "3    183.658218\n",
              "4    186.646774\n",
              "dtype: float32"
            ]
          },
          "execution_count": 9,
          "metadata": {},
          "output_type": "execute_result"
        }
      ],
      "source": [
        "df_nyc = dask_cudf.read_csv('test*.csv')\n",
        "X_test = df_nyc[['reviews_per_month', 'minimum_nights']].astype(np.float32) \\\n",
        "                                                        .dropna()\n",
        "fit.predict(X_test) \\\n",
        "   .compute() \\\n",
        "   .head()"
      ]
    },
    {
      "cell_type": "markdown",
      "metadata": {
        "id": "ywgOnAx4KN9s"
      },
      "source": [
        "If we take a look at other standard machine learning algorithms in the documentation (for instance [k means clustering](https://github.com/rapidsai/cuml/blob/branch-23.04/notebooks/kmeans_demo.ipynb)) as well, we can see significant speedups over performing the same operations on large datasets in scikit-learn on a CPU.\n",
        "\n",
        "Note, though, that this is only true of larger data. For smaller data sizes, we will see comparable performance on CPU and GPUs. **Ask:** why?"
      ]
    }
  ],
  "metadata": {
    "accelerator": "GPU",
    "colab": {
      "provenance": []
    },
    "kernelspec": {
      "display_name": "Python 3",
      "name": "python3"
    }
  },
  "nbformat": 4,
  "nbformat_minor": 0
}
