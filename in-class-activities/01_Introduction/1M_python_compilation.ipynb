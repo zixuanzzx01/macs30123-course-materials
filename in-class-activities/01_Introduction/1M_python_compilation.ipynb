{
  "cells": [
    {
      "cell_type": "markdown",
      "metadata": {
        "id": "F9rXYh53ysHb"
      },
      "source": [
        "<a href=\"https://colab.research.google.com/drive/1xp1hk0gnvFQgVD5Avvi7DqoMMlLAJptu?usp=sharing\" target=\"_parent\"><img src=\"https://colab.research.google.com/assets/colab-badge.svg\" alt=\"Open In Colab\"/></a>\n",
        "\n",
        "# Compiling Python with `numba` and `cython`\n",
        "\n",
        "Reproduce Python function from lecture and measure its execution time:"
      ]
    },
    {
      "cell_type": "code",
      "execution_count": 1,
      "metadata": {
        "colab": {
          "base_uri": "https://localhost:8080/"
        },
        "id": "FUFJ7Z3lsWCv",
        "outputId": "18f94496-ab46-4dc3-f728-8d5884895c37"
      },
      "outputs": [
        {
          "name": "stdout",
          "output_type": "stream",
          "text": [
            "CPU times: user 20.6 ms, sys: 608 μs, total: 21.2 ms\n",
            "Wall time: 20.7 ms\n"
          ]
        },
        {
          "data": {
            "text/plain": [
              "inf"
            ]
          },
          "execution_count": 1,
          "metadata": {},
          "output_type": "execute_result"
        }
      ],
      "source": [
        "def loop(x, r):\n",
        "    for i in range(r):\n",
        "        x *= 2.5\n",
        "    return x\n",
        "\n",
        "%time loop(2, 10**6)"
      ]
    },
    {
      "cell_type": "markdown",
      "metadata": {
        "id": "wRHr2CYb2gvC"
      },
      "source": [
        "## Using `numba`\n",
        "\n",
        "First, let's try compiling \"Just in Time\" using `numba`:"
      ]
    },
    {
      "cell_type": "code",
      "execution_count": null,
      "metadata": {
        "colab": {
          "base_uri": "https://localhost:8080/"
        },
        "id": "iTPC0twnsGpc",
        "outputId": "bcf861d5-5098-402a-da77-51e3195aa61f"
      },
      "outputs": [
        {
          "name": "stdout",
          "output_type": "stream",
          "text": [
            "CPU times: user 1.55 s, sys: 132 ms, total: 1.69 s\n",
            "Wall time: 5.27 s\n"
          ]
        },
        {
          "data": {
            "text/plain": [
              "inf"
            ]
          },
          "execution_count": 2,
          "metadata": {},
          "output_type": "execute_result"
        }
      ],
      "source": [
        "from numba import jit\n",
        "\n",
        "# jit compiles when we call the function for the first time\n",
        "# nopython tries to run without involving Python interpreter\n",
        "@jit(nopython=True)\n",
        "def loop_jit(x, r):\n",
        "  for i in range(r):\n",
        "    x *= 2.5\n",
        "  return x\n",
        "\n",
        "%time loop_jit(2, 10**6) # includes compilation time"
      ]
    },
    {
      "cell_type": "code",
      "execution_count": null,
      "metadata": {
        "colab": {
          "base_uri": "https://localhost:8080/"
        },
        "id": "xUnhxUOnsrt8",
        "outputId": "60895ce5-4e98-4668-d425-637e36a2f897"
      },
      "outputs": [
        {
          "name": "stdout",
          "output_type": "stream",
          "text": [
            "CPU times: user 1.47 ms, sys: 62 µs, total: 1.53 ms\n",
            "Wall time: 1.54 ms\n"
          ]
        },
        {
          "data": {
            "text/plain": [
              "inf"
            ]
          },
          "execution_count": 3,
          "metadata": {},
          "output_type": "execute_result"
        }
      ],
      "source": [
        "%time loop_jit(2, 10**6) # much faster after compilation"
      ]
    },
    {
      "cell_type": "code",
      "execution_count": null,
      "metadata": {
        "colab": {
          "base_uri": "https://localhost:8080/"
        },
        "id": "eXibv5les8UY",
        "outputId": "081fa55a-2feb-408a-b27e-734d6aa26c61"
      },
      "outputs": [
        {
          "name": "stdout",
          "output_type": "stream",
          "text": [
            "The slowest run took 4.67 times longer than the fastest. This could mean that an intermediate result is being cached.\n",
            "81.1 ms ± 55.5 ms per loop (mean ± std. dev. of 7 runs, 10 loops each)\n"
          ]
        }
      ],
      "source": [
        "%timeit loop(3, 10**6) # better to time across multiple runs using `timeit`"
      ]
    },
    {
      "cell_type": "code",
      "execution_count": null,
      "metadata": {
        "colab": {
          "base_uri": "https://localhost:8080/"
        },
        "id": "uWgsB-Y1tKrR",
        "outputId": "1c421b76-cba6-4f52-adee-7dc9c48ec51e"
      },
      "outputs": [
        {
          "name": "stdout",
          "output_type": "stream",
          "text": [
            "1.67 ms ± 83.4 µs per loop (mean ± std. dev. of 7 runs, 1000 loops each)\n"
          ]
        }
      ],
      "source": [
        "%timeit loop_jit(3, 10**6)"
      ]
    },
    {
      "cell_type": "markdown",
      "metadata": {
        "id": "NTCtAE38vffd"
      },
      "source": [
        "We might want to compile our code ahead of time, though, so that we can see a speed-up the first time we use it. `numba` allows us to compile ahead of time like so:\n"
      ]
    },
    {
      "cell_type": "code",
      "execution_count": null,
      "metadata": {
        "id": "EZiha2zLtN3n"
      },
      "outputs": [],
      "source": [
        "from numba.pycc import CC\n",
        "\n",
        "# name of compiled module to create:\n",
        "cc = CC('test_aot')\n",
        "\n",
        "# name of function in module, with explicit data types required (4byte=32bit ints and floats)\n",
        "@cc.export('loop_aot', 'f4(f4,i4)')\n",
        "def loop_aot(x, r):\n",
        "    for i in range(r):\n",
        "        x *= 2.5\n",
        "    return x\n",
        "\n",
        "cc.compile()"
      ]
    },
    {
      "cell_type": "markdown",
      "metadata": {
        "id": "vAIwPxFhu_W2"
      },
      "source": [
        "Note that we now have a compiled object file (.so) in our current directory. This is a compiled module that contains our function."
      ]
    },
    {
      "cell_type": "code",
      "execution_count": null,
      "metadata": {
        "colab": {
          "base_uri": "https://localhost:8080/"
        },
        "id": "sPvmIS5wtWGE",
        "outputId": "bccc5026-0310-4b19-8ef5-1269a457bc28"
      },
      "outputs": [
        {
          "name": "stdout",
          "output_type": "stream",
          "text": [
            "\u001b[0m\u001b[01;34msample_data\u001b[0m/  \u001b[01;32mtest_aot.cpython-311-x86_64-linux-gnu.so\u001b[0m*\n"
          ]
        }
      ],
      "source": [
        "ls"
      ]
    },
    {
      "cell_type": "markdown",
      "metadata": {
        "id": "GtNEHRzvvVb6"
      },
      "source": [
        "To use our function, we just need to import our pre-compiled module, as we would any other Python module:"
      ]
    },
    {
      "cell_type": "code",
      "execution_count": null,
      "metadata": {
        "colab": {
          "base_uri": "https://localhost:8080/"
        },
        "id": "6dPwBf_ytXbg",
        "outputId": "5a1f2e61-a5b7-4e2a-cd27-c2d397ec769b"
      },
      "outputs": [
        {
          "name": "stdout",
          "output_type": "stream",
          "text": [
            "CPU times: user 1.56 ms, sys: 0 ns, total: 1.56 ms\n",
            "Wall time: 1.56 ms\n"
          ]
        },
        {
          "data": {
            "text/plain": [
              "inf"
            ]
          },
          "execution_count": 13,
          "metadata": {},
          "output_type": "execute_result"
        }
      ],
      "source": [
        "import test_aot\n",
        "%time test_aot.loop_aot(2, 10**6) # first time running it is fast this time"
      ]
    },
    {
      "cell_type": "code",
      "execution_count": null,
      "metadata": {
        "colab": {
          "base_uri": "https://localhost:8080/"
        },
        "id": "sf5zuvi2tdHv",
        "outputId": "61f5141d-18bf-46fe-c511-4f13c3d07e75"
      },
      "outputs": [
        {
          "name": "stdout",
          "output_type": "stream",
          "text": [
            "1.54 ms ± 17.1 µs per loop (mean ± std. dev. of 7 runs, 1000 loops each)\n"
          ]
        }
      ],
      "source": [
        "%timeit test_aot.loop_aot(2, 10**6) # same overall performance as before"
      ]
    },
    {
      "cell_type": "markdown",
      "metadata": {
        "id": "eo0Sp3F4uQpI"
      },
      "source": [
        "## Using `cython`\n",
        "\n",
        "Another common way to compile Python code (albeit slightly uglier) is to compile our function via explicit `cython` static typing, like so (here, using the IPython `cython` extension to compile):"
      ]
    },
    {
      "cell_type": "code",
      "execution_count": null,
      "metadata": {
        "id": "pPYSIMqjtdnk"
      },
      "outputs": [],
      "source": [
        "%load_ext cython"
      ]
    },
    {
      "cell_type": "code",
      "execution_count": null,
      "metadata": {
        "id": "sil1uDsgtzJW"
      },
      "outputs": [],
      "source": [
        "# will automatically convert Python -> C -> Compiled machine code\n",
        "%%cython\n",
        "\n",
        "# explicitly add static types to function itself:\n",
        "def loop_cython(float x, int r):\n",
        "    cdef int i\n",
        "    for i in range(r):\n",
        "        x *= 2.5\n",
        "    return x"
      ]
    },
    {
      "cell_type": "code",
      "execution_count": null,
      "metadata": {
        "colab": {
          "base_uri": "https://localhost:8080/"
        },
        "id": "JnDHKnJqt57y",
        "outputId": "44a00501-0133-4b6b-ec8c-09eee551f6af"
      },
      "outputs": [
        {
          "name": "stdout",
          "output_type": "stream",
          "text": [
            "1.54 ms ± 25.7 µs per loop (mean ± std. dev. of 7 runs, 1000 loops each)\n"
          ]
        }
      ],
      "source": [
        "%timeit loop_cython(2, 10**6) # comparable performance to numba"
      ]
    }
  ],
  "metadata": {
    "colab": {
      "provenance": []
    },
    "kernelspec": {
      "display_name": "macs30100",
      "language": "python",
      "name": "python3"
    },
    "language_info": {
      "codemirror_mode": {
        "name": "ipython",
        "version": 3
      },
      "file_extension": ".py",
      "mimetype": "text/x-python",
      "name": "python",
      "nbconvert_exporter": "python",
      "pygments_lexer": "ipython3",
      "version": "3.12.2"
    }
  },
  "nbformat": 4,
  "nbformat_minor": 0
}
